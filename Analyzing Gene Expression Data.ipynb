{
 "cells": [
  {
   "cell_type": "code",
   "execution_count": 3,
   "id": "01a1229c-f6b4-4c00-9140-44dffe1d0215",
   "metadata": {},
   "outputs": [],
   "source": [
    "import pandas as pd\n",
    "import numpy as np\n",
    "import matplotlib.pyplot as plt\n",
    "import seaborn as sns\n",
    "import plotly.express as px\n",
    "from scipy.stats import ttest_ind"
   ]
  },
  {
   "cell_type": "code",
   "execution_count": 68,
   "id": "2068c0cc-00b6-46db-8255-97fd17b5e638",
   "metadata": {},
   "outputs": [
    {
     "name": "stdout",
     "output_type": "stream",
     "text": [
      "  GeneID  Sample1  Sample2  Sample3  Sample4\n",
      "0  GeneA      5.3      4.8      5.1      6.0\n",
      "1  GeneB      2.1      1.9      2.3      2.5\n",
      "2  GeneC      7.8      8.1      7.5      8.0\n",
      "3  GeneD      3.6      3.7      3.4      3.8\n",
      "4  GeneE     10.2      9.5     10.1     10.4\n",
      "5  GeneF      6.1      5.9      6.3      6.2\n",
      "6  GeneG      4.5      4.2      4.6      4.7\n",
      "7  GeneH     12.4     11.9     12.3     12.5\n",
      "8  GeneI      0.9      1.1      0.8      1.0\n",
      "9  GeneJ      5.7      5.6      5.8      5.9\n"
     ]
    }
   ],
   "source": [
    "data = pd.read_csv(\"gene_expression - Sheet1.csv\")\n",
    "df = pd.DataFrame(data)\n",
    "print(df)"
   ]
  },
  {
   "cell_type": "code",
   "execution_count": 69,
   "id": "2b00bc52-5e5c-4079-ab6a-fbde6c8626d3",
   "metadata": {},
   "outputs": [
    {
     "name": "stdout",
     "output_type": "stream",
     "text": [
      "/n Statsical distribution of the data\n",
      "         Sample1    Sample2    Sample3    Sample4\n",
      "count  10.000000  10.000000  10.000000  10.000000\n",
      "mean    5.860000   5.670000   5.820000   6.100000\n",
      "std     3.519217   3.355609   3.477164   3.485526\n",
      "min     0.900000   1.100000   0.800000   1.000000\n",
      "25%     3.825000   3.825000   3.700000   4.025000\n",
      "50%     5.500000   5.200000   5.450000   5.950000\n",
      "75%     7.375000   7.550000   7.200000   7.550000\n",
      "max    12.400000  11.900000  12.300000  12.500000\n"
     ]
    }
   ],
   "source": [
    "\n",
    "print('/n Statsical distribution of the data')\n",
    "print(df.describe())"
   ]
  },
  {
   "cell_type": "code",
   "execution_count": 70,
   "id": "7399976c-2778-4c61-9c84-e4c50c1cefa9",
   "metadata": {},
   "outputs": [
    {
     "name": "stdout",
     "output_type": "stream",
     "text": [
      "/n The missing values are \n",
      "GeneID     0\n",
      "Sample1    0\n",
      "Sample2    0\n",
      "Sample3    0\n",
      "Sample4    0\n",
      "dtype: int64\n"
     ]
    }
   ],
   "source": [
    "print('/n The missing values are ')\n",
    "print(df.isnull().sum())"
   ]
  },
  {
   "cell_type": "code",
   "execution_count": 71,
   "id": "625f37f7-f25c-40fd-a5be-048cd1f2b5d2",
   "metadata": {},
   "outputs": [
    {
     "name": "stdout",
     "output_type": "stream",
     "text": [
      "Top 5 genes with the highest fold change:\n",
      "  GeneID  Sample1  Sample2  Sample3  Sample4  Fold_Change\n",
      "1  GeneB      2.1      1.9      2.3      2.5     1.105263\n",
      "0  GeneA      5.3      4.8      5.1      6.0     1.104167\n",
      "4  GeneE     10.2      9.5     10.1     10.4     1.073684\n",
      "6  GeneG      4.5      4.2      4.6      4.7     1.071429\n",
      "7  GeneH     12.4     11.9     12.3     12.5     1.042017\n"
     ]
    }
   ],
   "source": [
    "df['Fold_Change'] = df['Sample1'] / df['Sample2']\n",
    "\n",
    "# Identify the top 5 genes with the highest fold change\n",
    "top_5_genes = df.sort_values('Fold_Change', ascending=False).head(5)    #Ascending gives the highest value \n",
    "\n",
    "# Display the results\n",
    "print(\"Top 5 genes with the highest fold change:\")\n",
    "print(top_5_genes)"
   ]
  },
  {
   "cell_type": "code",
   "execution_count": 86,
   "id": "e765aeaa-da53-40cc-b598-10fe8ba34e5a",
   "metadata": {},
   "outputs": [
    {
     "name": "stdout",
     "output_type": "stream",
     "text": [
      "  GeneID  Sample1  Sample2  Sample3  Sample4  Fold_Change\n",
      "0  GeneA      5.3      4.8      5.1      6.0     1.104167\n",
      "1  GeneB      2.1      1.9      2.3      2.5     1.105263\n",
      "2  GeneC      7.8      8.1      7.5      8.0     0.962963\n",
      "3  GeneD      3.6      3.7      3.4      3.8     0.972973\n",
      "4  GeneE     10.2      9.5     10.1     10.4     1.073684\n",
      "5  GeneF      6.1      5.9      6.3      6.2     1.033898\n",
      "6  GeneG      4.5      4.2      4.6      4.7     1.071429\n",
      "7  GeneH     12.4     11.9     12.3     12.5     1.042017\n",
      "8  GeneI      0.9      1.1      0.8      1.0     0.818182\n",
      "9  GeneJ      5.7      5.6      5.8      5.9     1.017857\n"
     ]
    }
   ],
   "source": [
    "df['Fold_Change'] = df['Sample1'] / df['Sample2']\n",
    "print(df)"
   ]
  },
  {
   "cell_type": "code",
   "execution_count": 87,
   "id": "4289662e-96a7-47e2-98b5-f72314112ac9",
   "metadata": {},
   "outputs": [
    {
     "name": "stdout",
     "output_type": "stream",
     "text": [
      "  GeneID  Sample1  Sample2  Sample3  Sample4  Fold_Change\n",
      "1  GeneB      2.1      1.9      2.3      2.5     1.105263\n",
      "0  GeneA      5.3      4.8      5.1      6.0     1.104167\n",
      "4  GeneE     10.2      9.5     10.1     10.4     1.073684\n",
      "6  GeneG      4.5      4.2      4.6      4.7     1.071429\n",
      "7  GeneH     12.4     11.9     12.3     12.5     1.042017\n"
     ]
    }
   ],
   "source": [
    "top_5_genes = df.sort_values('Fold_Change', ascending=False ).head(5)\n",
    "print(top_5_genes)"
   ]
  },
  {
   "cell_type": "code",
   "execution_count": 88,
   "id": "c04090fb-1f49-4d66-abe6-99355c6d4c29",
   "metadata": {},
   "outputs": [
    {
     "name": "stdout",
     "output_type": "stream",
     "text": [
      "  GeneID  Sample1  Sample2  Sample3  Sample4  Fold_Change  Fixed\n",
      "0  GeneA      5.3      4.8      5.1      6.0     1.104167  Fixed\n",
      "1  GeneB      2.1      1.9      2.3      2.5     1.105263  Fixed\n",
      "2  GeneC      7.8      8.1      7.5      8.0     0.962963  Fixed\n",
      "3  GeneD      3.6      3.7      3.4      3.8     0.972973  Fixed\n",
      "4  GeneE     10.2      9.5     10.1     10.4     1.073684  Fixed\n",
      "5  GeneF      6.1      5.9      6.3      6.2     1.033898  Fixed\n",
      "6  GeneG      4.5      4.2      4.6      4.7     1.071429  Fixed\n",
      "7  GeneH     12.4     11.9     12.3     12.5     1.042017  Fixed\n",
      "8  GeneI      0.9      1.1      0.8      1.0     0.818182  Fixed\n",
      "9  GeneJ      5.7      5.6      5.8      5.9     1.017857  Fixed\n"
     ]
    }
   ],
   "source": [
    "df['Fixed'] = \"Fixed\"\n",
    "\n",
    "print(df)"
   ]
  },
  {
   "cell_type": "code",
   "execution_count": 89,
   "id": "7fda3895-d3da-4a1e-9fd1-6ac2217db04d",
   "metadata": {},
   "outputs": [],
   "source": [
    "del df['Fixed']\n"
   ]
  },
  {
   "cell_type": "code",
   "execution_count": 90,
   "id": "f1df826b-9b8f-48ac-a360-15bf0c483ea7",
   "metadata": {},
   "outputs": [
    {
     "data": {
      "text/html": [
       "<div>\n",
       "<style scoped>\n",
       "    .dataframe tbody tr th:only-of-type {\n",
       "        vertical-align: middle;\n",
       "    }\n",
       "\n",
       "    .dataframe tbody tr th {\n",
       "        vertical-align: top;\n",
       "    }\n",
       "\n",
       "    .dataframe thead th {\n",
       "        text-align: right;\n",
       "    }\n",
       "</style>\n",
       "<table border=\"1\" class=\"dataframe\">\n",
       "  <thead>\n",
       "    <tr style=\"text-align: right;\">\n",
       "      <th></th>\n",
       "      <th>GeneID</th>\n",
       "      <th>Sample1</th>\n",
       "      <th>Sample2</th>\n",
       "      <th>Sample3</th>\n",
       "      <th>Sample4</th>\n",
       "      <th>Fold_Change</th>\n",
       "    </tr>\n",
       "  </thead>\n",
       "  <tbody>\n",
       "    <tr>\n",
       "      <th>0</th>\n",
       "      <td>GeneA</td>\n",
       "      <td>5.3</td>\n",
       "      <td>4.8</td>\n",
       "      <td>5.1</td>\n",
       "      <td>6.0</td>\n",
       "      <td>1.104167</td>\n",
       "    </tr>\n",
       "    <tr>\n",
       "      <th>1</th>\n",
       "      <td>GeneB</td>\n",
       "      <td>2.1</td>\n",
       "      <td>1.9</td>\n",
       "      <td>2.3</td>\n",
       "      <td>2.5</td>\n",
       "      <td>1.105263</td>\n",
       "    </tr>\n",
       "    <tr>\n",
       "      <th>2</th>\n",
       "      <td>GeneC</td>\n",
       "      <td>7.8</td>\n",
       "      <td>8.1</td>\n",
       "      <td>7.5</td>\n",
       "      <td>8.0</td>\n",
       "      <td>0.962963</td>\n",
       "    </tr>\n",
       "    <tr>\n",
       "      <th>3</th>\n",
       "      <td>GeneD</td>\n",
       "      <td>3.6</td>\n",
       "      <td>3.7</td>\n",
       "      <td>3.4</td>\n",
       "      <td>3.8</td>\n",
       "      <td>0.972973</td>\n",
       "    </tr>\n",
       "    <tr>\n",
       "      <th>4</th>\n",
       "      <td>GeneE</td>\n",
       "      <td>10.2</td>\n",
       "      <td>9.5</td>\n",
       "      <td>10.1</td>\n",
       "      <td>10.4</td>\n",
       "      <td>1.073684</td>\n",
       "    </tr>\n",
       "    <tr>\n",
       "      <th>5</th>\n",
       "      <td>GeneF</td>\n",
       "      <td>6.1</td>\n",
       "      <td>5.9</td>\n",
       "      <td>6.3</td>\n",
       "      <td>6.2</td>\n",
       "      <td>1.033898</td>\n",
       "    </tr>\n",
       "    <tr>\n",
       "      <th>6</th>\n",
       "      <td>GeneG</td>\n",
       "      <td>4.5</td>\n",
       "      <td>4.2</td>\n",
       "      <td>4.6</td>\n",
       "      <td>4.7</td>\n",
       "      <td>1.071429</td>\n",
       "    </tr>\n",
       "    <tr>\n",
       "      <th>7</th>\n",
       "      <td>GeneH</td>\n",
       "      <td>12.4</td>\n",
       "      <td>11.9</td>\n",
       "      <td>12.3</td>\n",
       "      <td>12.5</td>\n",
       "      <td>1.042017</td>\n",
       "    </tr>\n",
       "    <tr>\n",
       "      <th>8</th>\n",
       "      <td>GeneI</td>\n",
       "      <td>0.9</td>\n",
       "      <td>1.1</td>\n",
       "      <td>0.8</td>\n",
       "      <td>1.0</td>\n",
       "      <td>0.818182</td>\n",
       "    </tr>\n",
       "    <tr>\n",
       "      <th>9</th>\n",
       "      <td>GeneJ</td>\n",
       "      <td>5.7</td>\n",
       "      <td>5.6</td>\n",
       "      <td>5.8</td>\n",
       "      <td>5.9</td>\n",
       "      <td>1.017857</td>\n",
       "    </tr>\n",
       "  </tbody>\n",
       "</table>\n",
       "</div>"
      ],
      "text/plain": [
       "  GeneID  Sample1  Sample2  Sample3  Sample4  Fold_Change\n",
       "0  GeneA      5.3      4.8      5.1      6.0     1.104167\n",
       "1  GeneB      2.1      1.9      2.3      2.5     1.105263\n",
       "2  GeneC      7.8      8.1      7.5      8.0     0.962963\n",
       "3  GeneD      3.6      3.7      3.4      3.8     0.972973\n",
       "4  GeneE     10.2      9.5     10.1     10.4     1.073684\n",
       "5  GeneF      6.1      5.9      6.3      6.2     1.033898\n",
       "6  GeneG      4.5      4.2      4.6      4.7     1.071429\n",
       "7  GeneH     12.4     11.9     12.3     12.5     1.042017\n",
       "8  GeneI      0.9      1.1      0.8      1.0     0.818182\n",
       "9  GeneJ      5.7      5.6      5.8      5.9     1.017857"
      ]
     },
     "execution_count": 90,
     "metadata": {},
     "output_type": "execute_result"
    }
   ],
   "source": [
    "df"
   ]
  },
  {
   "cell_type": "code",
   "execution_count": 91,
   "id": "44fff29f-e046-4430-a3ff-fe16a315ca4f",
   "metadata": {},
   "outputs": [
    {
     "name": "stdout",
     "output_type": "stream",
     "text": [
      "Threshold: 5.862500000000001\n",
      "Genes with expression values below the threshold in all samples:\n",
      "  GeneID  Sample1  Sample2  Sample3  Sample4  Fold_Change\n",
      "1  GeneB      2.1      1.9      2.3      2.5     1.105263\n",
      "3  GeneD      3.6      3.7      3.4      3.8     0.972973\n",
      "6  GeneG      4.5      4.2      4.6      4.7     1.071429\n",
      "8  GeneI      0.9      1.1      0.8      1.0     0.818182\n"
     ]
    }
   ],
   "source": [
    "threshold = df.iloc[:, 1:5].mean().mean()  # Mean of all sample values\n",
    "\n",
    "# Filter rows where all sample values are below the threshold\n",
    "filtered_df = df[df.iloc[:, 1:5].lt(threshold).all(axis=1)]\n",
    "\n",
    "# Display results\n",
    "print(f\"Threshold: {threshold}\")\n",
    "print(\"Genes with expression values below the threshold in all samples:\")\n",
    "print(filtered_df)"
   ]
  },
  {
   "cell_type": "code",
   "execution_count": 92,
   "id": "d421de88-5955-43c1-b48f-3208ed95373b",
   "metadata": {},
   "outputs": [
    {
     "name": "stdout",
     "output_type": "stream",
     "text": [
      "5.862500000000001\n"
     ]
    }
   ],
   "source": [
    "threshold = df.iloc[:, 1:5].mean().mean()  # Mean of all sample values\n",
    "print(threshold)"
   ]
  },
  {
   "cell_type": "code",
   "execution_count": 93,
   "id": "96ffa6a6-3b87-42cb-92a7-bc57705a0243",
   "metadata": {},
   "outputs": [
    {
     "name": "stdout",
     "output_type": "stream",
     "text": [
      "5.862500000000001\n"
     ]
    }
   ],
   "source": [
    "t = df.iloc[:, 1:5].mean().mean()\n",
    "print(t)"
   ]
  },
  {
   "cell_type": "code",
   "execution_count": 94,
   "id": "b1bec912-b2c2-42ca-bd31-0c425bbb1f51",
   "metadata": {},
   "outputs": [
    {
     "name": "stdout",
     "output_type": "stream",
     "text": [
      "   Sample1  Sample2  Sample3  Sample4\n",
      "0      5.3      4.8      5.1      6.0\n",
      "1      2.1      1.9      2.3      2.5\n",
      "2      7.8      8.1      7.5      8.0\n",
      "3      3.6      3.7      3.4      3.8\n",
      "4     10.2      9.5     10.1     10.4\n",
      "5      6.1      5.9      6.3      6.2\n",
      "6      4.5      4.2      4.6      4.7\n",
      "7     12.4     11.9     12.3     12.5\n",
      "8      0.9      1.1      0.8      1.0\n",
      "9      5.7      5.6      5.8      5.9\n"
     ]
    }
   ],
   "source": [
    "threshold = df.iloc[:, 1:5]\n",
    "print(threshold)"
   ]
  },
  {
   "cell_type": "code",
   "execution_count": 95,
   "id": "12229553-2412-42b3-9f80-0c4f482e35c5",
   "metadata": {},
   "outputs": [
    {
     "name": "stdout",
     "output_type": "stream",
     "text": [
      "Sample1    5.86\n",
      "Sample2    5.67\n",
      "Sample3    5.82\n",
      "Sample4    6.10\n",
      "dtype: float64\n"
     ]
    }
   ],
   "source": [
    "threshold = df.iloc[:, 1:5].mean()\n",
    "print(threshold)"
   ]
  },
  {
   "cell_type": "code",
   "execution_count": 96,
   "id": "49ee8d4b-3e46-490a-b0b3-7dd35c6540d3",
   "metadata": {},
   "outputs": [
    {
     "name": "stdout",
     "output_type": "stream",
     "text": [
      "5.862500000000001\n"
     ]
    }
   ],
   "source": [
    "threshold = df.iloc[:, 1:5].mean().mean()\n",
    "print(threshold)   #threshold is nothing but the mean of the sample expression data "
   ]
  },
  {
   "cell_type": "code",
   "execution_count": 97,
   "id": "652773b5-56ed-4c3d-8d2b-ce6623dc7079",
   "metadata": {},
   "outputs": [
    {
     "name": "stdout",
     "output_type": "stream",
     "text": [
      "  GeneID  Sample1  Sample2  Sample3  Sample4  Fold_Change\n",
      "1  GeneB      2.1      1.9      2.3      2.5     1.105263\n",
      "3  GeneD      3.6      3.7      3.4      3.8     0.972973\n",
      "6  GeneG      4.5      4.2      4.6      4.7     1.071429\n",
      "8  GeneI      0.9      1.1      0.8      1.0     0.818182\n"
     ]
    }
   ],
   "source": [
    "filtered_df = df[df.iloc[:, 1:5].lt(threshold).all(axis=1)]\n",
    "print(filtered_df)"
   ]
  },
  {
   "cell_type": "code",
   "execution_count": 98,
   "id": "a3d18aad-acce-46d4-b0b1-ca97f549a19b",
   "metadata": {},
   "outputs": [
    {
     "name": "stdout",
     "output_type": "stream",
     "text": [
      "Genes with expression values greater than 10 in all samples:\n",
      "  GeneID  Sample1  Sample2  Sample3  Sample4  Fold_Change\n",
      "7  GeneH     12.4     11.9     12.3     12.5     1.042017\n"
     ]
    }
   ],
   "source": [
    "threshold = 10\n",
    "\n",
    "# Filter rows where all sample values are greater than 10\n",
    "filtered_df = df[df.iloc[:, 1:5].gt(threshold).all(axis=1)]\n",
    "\n",
    "# Display results\n",
    "print(f\"Genes with expression values greater than {threshold} in all samples:\")\n",
    "print(filtered_df)"
   ]
  },
  {
   "cell_type": "code",
   "execution_count": 99,
   "id": "9e3665f6-d0f3-47bb-83d8-cc456b66b5f9",
   "metadata": {},
   "outputs": [
    {
     "data": {
      "image/png": "[encoded data removed]",
      "text/plain": [
       "<Figure size 1000x600 with 1 Axes>"
      ]
     },
     "metadata": {},
     "output_type": "display_data"
    }
   ],
   "source": [
    "plt.figure(figsize=(10, 6))\n",
    "sns.barplot(data=top_5_genes.melt(id_vars='GeneID', value_vars=['Sample1', 'Sample2', 'Sample3', 'Sample4']),\n",
    "            x='GeneID', y='value', hue='variable', palette='viridis')\n",
    "\n",
    "# Customizing the plot\n",
    "plt.title('Expression Values of Top 5 Genes with Highest Fold Change')\n",
    "plt.xlabel('Gene ID')\n",
    "plt.ylabel('Expression Value')\n",
    "plt.legend(title='Samples', loc='upper left')\n",
    "\n",
    "# Display the plot\n",
    "plt.show()"
   ]
  },
  {
   "cell_type": "code",
   "execution_count": 100,
   "id": "db45caf2-e836-4fc9-a9b3-b477fce4d63d",
   "metadata": {},
   "outputs": [
    {
     "ename": "SyntaxError",
     "evalue": "incomplete input (3603544338.py, line 1)",
     "output_type": "error",
     "traceback": [
      "\u001b[0;36m  Cell \u001b[0;32mIn[100], line 1\u001b[0;36m\u001b[0m\n\u001b[0;31m    melted= top_5_genes.melt(id_vars='GeneID', value_vars=['Sample1', 'Sample2', 'Sample3', 'Sample4']\u001b[0m\n\u001b[0m                                                                                                      ^\u001b[0m\n\u001b[0;31mSyntaxError\u001b[0m\u001b[0;31m:\u001b[0m incomplete input\n"
     ]
    }
   ],
   "source": [
    "melted= top_5_genes.melt(id_vars='GeneID', value_vars=['Sample1', 'Sample2', 'Sample3', 'Sample4']"
   ]
  },
  {
   "cell_type": "code",
   "execution_count": null,
   "id": "e6a8004c-36fa-4378-8712-2cce12fb4f93",
   "metadata": {},
   "outputs": [],
   "source": []
  }
 ],
 "metadata": {
  "kernelspec": {
   "display_name": "Python 3 (ipykernel)",
   "language": "python",
   "name": "python3"
  },
  "language_info": {
   "codemirror_mode": {
    "name": "ipython",
    "version": 3
   },
   "file_extension": ".py",
   "mimetype": "text/x-python",
   "name": "python",
   "nbconvert_exporter": "python",
   "pygments_lexer": "ipython3",
   "version": "3.12.2"
  }
 },
 "nbformat": 4,
 "nbformat_minor": 5
}
