{
 "cells": [
  {
   "cell_type": "code",
   "execution_count": 2,
   "id": "345d25c2-d9f6-48b2-a958-eeff0b5a425a",
   "metadata": {},
   "outputs": [],
   "source": [
    "import pandas as pd\n",
    "import numpy as np\n",
    "import matplotlib.pyplot as plt\n",
    "import seaborn as sns\n",
    "from scipy import stats\n",
    "from sklearn.preprocessing import StandardScaler\n"
   ]
  },
  {
   "cell_type": "code",
   "execution_count": 5,
   "id": "fe98cda4-c94f-4001-aab4-a59deadf8041",
   "metadata": {},
   "outputs": [],
   "source": [
    "df = pd.read_csv(\"multi_omics_study_data - Sheet1.csv\")"
   ]
  },
  {
   "cell_type": "code",
   "execution_count": 6,
   "id": "523928af-3b04-47d9-8286-d178ca3ade67",
   "metadata": {},
   "outputs": [
    {
     "data": {
      "text/html": [
       "<div>\n",
       "<style scoped>\n",
       "    .dataframe tbody tr th:only-of-type {\n",
       "        vertical-align: middle;\n",
       "    }\n",
       "\n",
       "    .dataframe tbody tr th {\n",
       "        vertical-align: top;\n",
       "    }\n",
       "\n",
       "    .dataframe thead th {\n",
       "        text-align: right;\n",
       "    }\n",
       "</style>\n",
       "<table border=\"1\" class=\"dataframe\">\n",
       "  <thead>\n",
       "    <tr style=\"text-align: right;\">\n",
       "      <th></th>\n",
       "      <th>PatientID</th>\n",
       "      <th>Age</th>\n",
       "      <th>Gender</th>\n",
       "      <th>Condition</th>\n",
       "      <th>GeneA_Expression</th>\n",
       "      <th>GeneB_Expression</th>\n",
       "      <th>GeneC_Expression</th>\n",
       "      <th>ProteinA_Level</th>\n",
       "      <th>ProteinB_Level</th>\n",
       "      <th>MetaboliteA_Level</th>\n",
       "      <th>MetaboliteB_Level</th>\n",
       "      <th>Outcome</th>\n",
       "    </tr>\n",
       "  </thead>\n",
       "  <tbody>\n",
       "    <tr>\n",
       "      <th>0</th>\n",
       "      <td>1</td>\n",
       "      <td>45</td>\n",
       "      <td>M</td>\n",
       "      <td>Control</td>\n",
       "      <td>5.1</td>\n",
       "      <td>4.8</td>\n",
       "      <td>6.2</td>\n",
       "      <td>120</td>\n",
       "      <td>80</td>\n",
       "      <td>1.2</td>\n",
       "      <td>0.80</td>\n",
       "      <td>5.1</td>\n",
       "    </tr>\n",
       "    <tr>\n",
       "      <th>1</th>\n",
       "      <td>2</td>\n",
       "      <td>50</td>\n",
       "      <td>F</td>\n",
       "      <td>Control</td>\n",
       "      <td>5.5</td>\n",
       "      <td>5.0</td>\n",
       "      <td>6.5</td>\n",
       "      <td>130</td>\n",
       "      <td>85</td>\n",
       "      <td>1.4</td>\n",
       "      <td>0.90</td>\n",
       "      <td>4.8</td>\n",
       "    </tr>\n",
       "    <tr>\n",
       "      <th>2</th>\n",
       "      <td>3</td>\n",
       "      <td>36</td>\n",
       "      <td>M</td>\n",
       "      <td>Control</td>\n",
       "      <td>5.7</td>\n",
       "      <td>5.2</td>\n",
       "      <td>6.7</td>\n",
       "      <td>125</td>\n",
       "      <td>82</td>\n",
       "      <td>1.3</td>\n",
       "      <td>0.85</td>\n",
       "      <td>5.5</td>\n",
       "    </tr>\n",
       "    <tr>\n",
       "      <th>3</th>\n",
       "      <td>4</td>\n",
       "      <td>62</td>\n",
       "      <td>F</td>\n",
       "      <td>Control</td>\n",
       "      <td>5.9</td>\n",
       "      <td>5.3</td>\n",
       "      <td>6.9</td>\n",
       "      <td>135</td>\n",
       "      <td>87</td>\n",
       "      <td>1.5</td>\n",
       "      <td>0.95</td>\n",
       "      <td>5.0</td>\n",
       "    </tr>\n",
       "    <tr>\n",
       "      <th>4</th>\n",
       "      <td>5</td>\n",
       "      <td>28</td>\n",
       "      <td>M</td>\n",
       "      <td>Control</td>\n",
       "      <td>6.1</td>\n",
       "      <td>5.5</td>\n",
       "      <td>7.0</td>\n",
       "      <td>140</td>\n",
       "      <td>90</td>\n",
       "      <td>1.6</td>\n",
       "      <td>1.00</td>\n",
       "      <td>5.2</td>\n",
       "    </tr>\n",
       "    <tr>\n",
       "      <th>...</th>\n",
       "      <td>...</td>\n",
       "      <td>...</td>\n",
       "      <td>...</td>\n",
       "      <td>...</td>\n",
       "      <td>...</td>\n",
       "      <td>...</td>\n",
       "      <td>...</td>\n",
       "      <td>...</td>\n",
       "      <td>...</td>\n",
       "      <td>...</td>\n",
       "      <td>...</td>\n",
       "      <td>...</td>\n",
       "    </tr>\n",
       "    <tr>\n",
       "      <th>145</th>\n",
       "      <td>146</td>\n",
       "      <td>51</td>\n",
       "      <td>F</td>\n",
       "      <td>Treatment</td>\n",
       "      <td>5.9</td>\n",
       "      <td>5.8</td>\n",
       "      <td>7.2</td>\n",
       "      <td>150</td>\n",
       "      <td>95</td>\n",
       "      <td>2.1</td>\n",
       "      <td>1.50</td>\n",
       "      <td>6.6</td>\n",
       "    </tr>\n",
       "    <tr>\n",
       "      <th>146</th>\n",
       "      <td>147</td>\n",
       "      <td>46</td>\n",
       "      <td>M</td>\n",
       "      <td>Treatment</td>\n",
       "      <td>5.7</td>\n",
       "      <td>5.5</td>\n",
       "      <td>6.9</td>\n",
       "      <td>145</td>\n",
       "      <td>91</td>\n",
       "      <td>1.8</td>\n",
       "      <td>1.20</td>\n",
       "      <td>6.2</td>\n",
       "    </tr>\n",
       "    <tr>\n",
       "      <th>147</th>\n",
       "      <td>148</td>\n",
       "      <td>48</td>\n",
       "      <td>F</td>\n",
       "      <td>Treatment</td>\n",
       "      <td>5.8</td>\n",
       "      <td>5.7</td>\n",
       "      <td>7.0</td>\n",
       "      <td>150</td>\n",
       "      <td>93</td>\n",
       "      <td>2.0</td>\n",
       "      <td>1.40</td>\n",
       "      <td>6.5</td>\n",
       "    </tr>\n",
       "    <tr>\n",
       "      <th>148</th>\n",
       "      <td>149</td>\n",
       "      <td>53</td>\n",
       "      <td>M</td>\n",
       "      <td>Treatment</td>\n",
       "      <td>5.9</td>\n",
       "      <td>5.7</td>\n",
       "      <td>7.1</td>\n",
       "      <td>150</td>\n",
       "      <td>94</td>\n",
       "      <td>2.0</td>\n",
       "      <td>1.40</td>\n",
       "      <td>6.5</td>\n",
       "    </tr>\n",
       "    <tr>\n",
       "      <th>149</th>\n",
       "      <td>150</td>\n",
       "      <td>45</td>\n",
       "      <td>F</td>\n",
       "      <td>Treatment</td>\n",
       "      <td>5.9</td>\n",
       "      <td>5.6</td>\n",
       "      <td>7.0</td>\n",
       "      <td>150</td>\n",
       "      <td>93</td>\n",
       "      <td>2.0</td>\n",
       "      <td>1.40</td>\n",
       "      <td>6.4</td>\n",
       "    </tr>\n",
       "  </tbody>\n",
       "</table>\n",
       "<p>150 rows × 12 columns</p>\n",
       "</div>"
      ],
      "text/plain": [
       "     PatientID  Age Gender  Condition  GeneA_Expression  GeneB_Expression  \\\n",
       "0            1   45      M    Control               5.1               4.8   \n",
       "1            2   50      F    Control               5.5               5.0   \n",
       "2            3   36      M    Control               5.7               5.2   \n",
       "3            4   62      F    Control               5.9               5.3   \n",
       "4            5   28      M    Control               6.1               5.5   \n",
       "..         ...  ...    ...        ...               ...               ...   \n",
       "145        146   51      F  Treatment               5.9               5.8   \n",
       "146        147   46      M  Treatment               5.7               5.5   \n",
       "147        148   48      F  Treatment               5.8               5.7   \n",
       "148        149   53      M  Treatment               5.9               5.7   \n",
       "149        150   45      F  Treatment               5.9               5.6   \n",
       "\n",
       "     GeneC_Expression  ProteinA_Level  ProteinB_Level  MetaboliteA_Level  \\\n",
       "0                 6.2             120              80                1.2   \n",
       "1                 6.5             130              85                1.4   \n",
       "2                 6.7             125              82                1.3   \n",
       "3                 6.9             135              87                1.5   \n",
       "4                 7.0             140              90                1.6   \n",
       "..                ...             ...             ...                ...   \n",
       "145               7.2             150              95                2.1   \n",
       "146               6.9             145              91                1.8   \n",
       "147               7.0             150              93                2.0   \n",
       "148               7.1             150              94                2.0   \n",
       "149               7.0             150              93                2.0   \n",
       "\n",
       "     MetaboliteB_Level  Outcome  \n",
       "0                 0.80      5.1  \n",
       "1                 0.90      4.8  \n",
       "2                 0.85      5.5  \n",
       "3                 0.95      5.0  \n",
       "4                 1.00      5.2  \n",
       "..                 ...      ...  \n",
       "145               1.50      6.6  \n",
       "146               1.20      6.2  \n",
       "147               1.40      6.5  \n",
       "148               1.40      6.5  \n",
       "149               1.40      6.4  \n",
       "\n",
       "[150 rows x 12 columns]"
      ]
     },
     "execution_count": 6,
     "metadata": {},
     "output_type": "execute_result"
    }
   ],
   "source": [
    "df"
   ]
  },
  {
   "cell_type": "code",
   "execution_count": 8,
   "id": "16a645bd-86b0-4f8e-aff3-0ca6eaea61a0",
   "metadata": {},
   "outputs": [
    {
     "name": "stdout",
     "output_type": "stream",
     "text": [
      "Dataset Shape: (150, 12)\n",
      "\n",
      "First few rows:\n",
      "   PatientID  Age Gender Condition  GeneA_Expression  GeneB_Expression  \\\n",
      "0          1   45      M   Control               5.1               4.8   \n",
      "1          2   50      F   Control               5.5               5.0   \n",
      "2          3   36      M   Control               5.7               5.2   \n",
      "3          4   62      F   Control               5.9               5.3   \n",
      "4          5   28      M   Control               6.1               5.5   \n",
      "\n",
      "   GeneC_Expression  ProteinA_Level  ProteinB_Level  MetaboliteA_Level  \\\n",
      "0               6.2             120              80                1.2   \n",
      "1               6.5             130              85                1.4   \n",
      "2               6.7             125              82                1.3   \n",
      "3               6.9             135              87                1.5   \n",
      "4               7.0             140              90                1.6   \n",
      "\n",
      "   MetaboliteB_Level  Outcome  \n",
      "0               0.80      5.1  \n",
      "1               0.90      4.8  \n",
      "2               0.85      5.5  \n",
      "3               0.95      5.0  \n",
      "4               1.00      5.2  \n",
      "\n",
      "Summary Statistics:\n",
      "        PatientID         Age  GeneA_Expression  GeneB_Expression  \\\n",
      "count  150.000000  150.000000        150.000000        150.000000   \n",
      "mean    75.500000   48.173333          5.765333          5.499333   \n",
      "std     43.445368    6.341243          0.182447          0.207735   \n",
      "min      1.000000   28.000000          5.000000          4.800000   \n",
      "25%     38.250000   44.000000          5.700000          5.400000   \n",
      "50%     75.500000   48.500000          5.800000          5.500000   \n",
      "75%    112.750000   52.000000          5.900000          5.600000   \n",
      "max    150.000000   62.000000          6.200000          5.900000   \n",
      "\n",
      "       GeneC_Expression  ProteinA_Level  ProteinB_Level  MetaboliteA_Level  \\\n",
      "count        150.000000      150.000000      150.000000         150.000000   \n",
      "mean           6.879333      144.466667       91.733333           1.860000   \n",
      "std            0.228005        7.050790        3.220460           0.190725   \n",
      "min            6.000000      120.000000       80.000000           1.200000   \n",
      "25%            6.800000      140.000000       91.000000           1.800000   \n",
      "50%            6.900000      145.000000       92.000000           1.900000   \n",
      "75%            7.000000      150.000000       94.000000           2.000000   \n",
      "max            7.300000      155.000000       98.000000           2.100000   \n",
      "\n",
      "       MetaboliteB_Level     Outcome  \n",
      "count         150.000000  150.000000  \n",
      "mean            1.286667    6.198667  \n",
      "std             0.154536    0.413852  \n",
      "min             0.800000    4.800000  \n",
      "25%             1.200000    6.100000  \n",
      "50%             1.300000    6.300000  \n",
      "75%             1.400000    6.500000  \n",
      "max             1.500000    6.800000  \n"
     ]
    }
   ],
   "source": [
    "  # Display basic information\n",
    "print(\"Dataset Shape:\", df.shape)\n",
    "print(\"\\nFirst few rows:\")\n",
    "print(df.head())\n",
    "print(\"\\nSummary Statistics:\")\n",
    "print(df.describe())"
   ]
  },
  {
   "cell_type": "code",
   "execution_count": 10,
   "id": "b362d6a3-3e50-4ad8-9496-98a62755f607",
   "metadata": {},
   "outputs": [
    {
     "name": "stdout",
     "output_type": "stream",
     "text": [
      "\n",
      "Gender Distribution:\n",
      "Gender\n",
      "M    75\n",
      "F    75\n",
      "Name: count, dtype: int64\n",
      "\n",
      "Condition Distribution:\n",
      "Condition\n",
      "Treatment    130\n",
      "Control       20\n",
      "Name: count, dtype: int64\n"
     ]
    }
   ],
   "source": [
    "print(\"\\nGender Distribution:\")\n",
    "print(df['Gender'].value_counts())\n",
    "print(\"\\nCondition Distribution:\")\n",
    "print(df['Condition'].value_counts())"
   ]
  },
  {
   "cell_type": "code",
   "execution_count": 14,
   "id": "035c4ac7-66f5-4406-b455-c5e0b5f2b334",
   "metadata": {},
   "outputs": [
    {
     "name": "stdout",
     "output_type": "stream",
     "text": [
      "Missing Values:\n",
      "PatientID            0\n",
      "Age                  0\n",
      "Gender               0\n",
      "Condition            0\n",
      "GeneA_Expression     0\n",
      "GeneB_Expression     0\n",
      "GeneC_Expression     0\n",
      "ProteinA_Level       0\n",
      "ProteinB_Level       0\n",
      "MetaboliteA_Level    0\n",
      "MetaboliteB_Level    0\n",
      "Outcome              0\n",
      "dtype: int64\n"
     ]
    }
   ],
   "source": [
    "# Check for missing values\n",
    "print(\"Missing Values:\")\n",
    "print(df.isnull().sum())"
   ]
  },
  {
   "cell_type": "code",
   "execution_count": 15,
   "id": "a36b0189-e862-46b5-bc19-cc0e3b2d31cf",
   "metadata": {},
   "outputs": [],
   "source": [
    "scaler = StandardScaler()\n",
    "omics_columns = [col for col in df.columns if any(x in col for x in ['Gene', 'Protein', 'Metabolite'])]\n",
    "df[omics_columns] = scaler.fit_transform(df[omics_columns])"
   ]
  },
  {
   "cell_type": "code",
   "execution_count": 16,
   "id": "14e21b4c-9e3b-49ba-8c65-5f6dc063950b",
   "metadata": {},
   "outputs": [
    {
     "data": {
      "text/html": [
       "<div>\n",
       "<style scoped>\n",
       "    .dataframe tbody tr th:only-of-type {\n",
       "        vertical-align: middle;\n",
       "    }\n",
       "\n",
       "    .dataframe tbody tr th {\n",
       "        vertical-align: top;\n",
       "    }\n",
       "\n",
       "    .dataframe thead th {\n",
       "        text-align: right;\n",
       "    }\n",
       "</style>\n",
       "<table border=\"1\" class=\"dataframe\">\n",
       "  <thead>\n",
       "    <tr style=\"text-align: right;\">\n",
       "      <th></th>\n",
       "      <th>PatientID</th>\n",
       "      <th>Age</th>\n",
       "      <th>Gender</th>\n",
       "      <th>Condition</th>\n",
       "      <th>GeneA_Expression</th>\n",
       "      <th>GeneB_Expression</th>\n",
       "      <th>GeneC_Expression</th>\n",
       "      <th>ProteinA_Level</th>\n",
       "      <th>ProteinB_Level</th>\n",
       "      <th>MetaboliteA_Level</th>\n",
       "      <th>MetaboliteB_Level</th>\n",
       "      <th>Outcome</th>\n",
       "    </tr>\n",
       "  </thead>\n",
       "  <tbody>\n",
       "    <tr>\n",
       "      <th>0</th>\n",
       "      <td>1</td>\n",
       "      <td>45</td>\n",
       "      <td>M</td>\n",
       "      <td>Control</td>\n",
       "      <td>-3.658944</td>\n",
       "      <td>-3.377743</td>\n",
       "      <td>-2.989453</td>\n",
       "      <td>-3.481685</td>\n",
       "      <td>-3.655577</td>\n",
       "      <td>-3.472082</td>\n",
       "      <td>-3.159759</td>\n",
       "      <td>5.1</td>\n",
       "    </tr>\n",
       "    <tr>\n",
       "      <th>1</th>\n",
       "      <td>2</td>\n",
       "      <td>50</td>\n",
       "      <td>F</td>\n",
       "      <td>Control</td>\n",
       "      <td>-1.459178</td>\n",
       "      <td>-2.411754</td>\n",
       "      <td>-1.669282</td>\n",
       "      <td>-2.058653</td>\n",
       "      <td>-2.097803</td>\n",
       "      <td>-2.419936</td>\n",
       "      <td>-2.510493</td>\n",
       "      <td>4.8</td>\n",
       "    </tr>\n",
       "    <tr>\n",
       "      <th>2</th>\n",
       "      <td>3</td>\n",
       "      <td>36</td>\n",
       "      <td>M</td>\n",
       "      <td>Control</td>\n",
       "      <td>-0.359295</td>\n",
       "      <td>-1.445764</td>\n",
       "      <td>-0.789169</td>\n",
       "      <td>-2.770169</td>\n",
       "      <td>-3.032467</td>\n",
       "      <td>-2.946009</td>\n",
       "      <td>-2.835126</td>\n",
       "      <td>5.5</td>\n",
       "    </tr>\n",
       "    <tr>\n",
       "      <th>3</th>\n",
       "      <td>4</td>\n",
       "      <td>62</td>\n",
       "      <td>F</td>\n",
       "      <td>Control</td>\n",
       "      <td>0.740588</td>\n",
       "      <td>-0.962770</td>\n",
       "      <td>0.090945</td>\n",
       "      <td>-1.347137</td>\n",
       "      <td>-1.474693</td>\n",
       "      <td>-1.893863</td>\n",
       "      <td>-2.185860</td>\n",
       "      <td>5.0</td>\n",
       "    </tr>\n",
       "    <tr>\n",
       "      <th>4</th>\n",
       "      <td>5</td>\n",
       "      <td>28</td>\n",
       "      <td>M</td>\n",
       "      <td>Control</td>\n",
       "      <td>1.840471</td>\n",
       "      <td>0.003220</td>\n",
       "      <td>0.531002</td>\n",
       "      <td>-0.635621</td>\n",
       "      <td>-0.540028</td>\n",
       "      <td>-1.367790</td>\n",
       "      <td>-1.861228</td>\n",
       "      <td>5.2</td>\n",
       "    </tr>\n",
       "    <tr>\n",
       "      <th>...</th>\n",
       "      <td>...</td>\n",
       "      <td>...</td>\n",
       "      <td>...</td>\n",
       "      <td>...</td>\n",
       "      <td>...</td>\n",
       "      <td>...</td>\n",
       "      <td>...</td>\n",
       "      <td>...</td>\n",
       "      <td>...</td>\n",
       "      <td>...</td>\n",
       "      <td>...</td>\n",
       "      <td>...</td>\n",
       "    </tr>\n",
       "    <tr>\n",
       "      <th>145</th>\n",
       "      <td>146</td>\n",
       "      <td>51</td>\n",
       "      <td>F</td>\n",
       "      <td>Treatment</td>\n",
       "      <td>0.740588</td>\n",
       "      <td>1.452204</td>\n",
       "      <td>1.411116</td>\n",
       "      <td>0.787411</td>\n",
       "      <td>1.017746</td>\n",
       "      <td>1.262575</td>\n",
       "      <td>1.385100</td>\n",
       "      <td>6.6</td>\n",
       "    </tr>\n",
       "    <tr>\n",
       "      <th>146</th>\n",
       "      <td>147</td>\n",
       "      <td>46</td>\n",
       "      <td>M</td>\n",
       "      <td>Treatment</td>\n",
       "      <td>-0.359295</td>\n",
       "      <td>0.003220</td>\n",
       "      <td>0.090945</td>\n",
       "      <td>0.075895</td>\n",
       "      <td>-0.228474</td>\n",
       "      <td>-0.315644</td>\n",
       "      <td>-0.562697</td>\n",
       "      <td>6.2</td>\n",
       "    </tr>\n",
       "    <tr>\n",
       "      <th>147</th>\n",
       "      <td>148</td>\n",
       "      <td>48</td>\n",
       "      <td>F</td>\n",
       "      <td>Treatment</td>\n",
       "      <td>0.190646</td>\n",
       "      <td>0.969209</td>\n",
       "      <td>0.531002</td>\n",
       "      <td>0.787411</td>\n",
       "      <td>0.394636</td>\n",
       "      <td>0.736502</td>\n",
       "      <td>0.735834</td>\n",
       "      <td>6.5</td>\n",
       "    </tr>\n",
       "    <tr>\n",
       "      <th>148</th>\n",
       "      <td>149</td>\n",
       "      <td>53</td>\n",
       "      <td>M</td>\n",
       "      <td>Treatment</td>\n",
       "      <td>0.740588</td>\n",
       "      <td>0.969209</td>\n",
       "      <td>0.971059</td>\n",
       "      <td>0.787411</td>\n",
       "      <td>0.706191</td>\n",
       "      <td>0.736502</td>\n",
       "      <td>0.735834</td>\n",
       "      <td>6.5</td>\n",
       "    </tr>\n",
       "    <tr>\n",
       "      <th>149</th>\n",
       "      <td>150</td>\n",
       "      <td>45</td>\n",
       "      <td>F</td>\n",
       "      <td>Treatment</td>\n",
       "      <td>0.740588</td>\n",
       "      <td>0.486215</td>\n",
       "      <td>0.531002</td>\n",
       "      <td>0.787411</td>\n",
       "      <td>0.394636</td>\n",
       "      <td>0.736502</td>\n",
       "      <td>0.735834</td>\n",
       "      <td>6.4</td>\n",
       "    </tr>\n",
       "  </tbody>\n",
       "</table>\n",
       "<p>150 rows × 12 columns</p>\n",
       "</div>"
      ],
      "text/plain": [
       "     PatientID  Age Gender  Condition  GeneA_Expression  GeneB_Expression  \\\n",
       "0            1   45      M    Control         -3.658944         -3.377743   \n",
       "1            2   50      F    Control         -1.459178         -2.411754   \n",
       "2            3   36      M    Control         -0.359295         -1.445764   \n",
       "3            4   62      F    Control          0.740588         -0.962770   \n",
       "4            5   28      M    Control          1.840471          0.003220   \n",
       "..         ...  ...    ...        ...               ...               ...   \n",
       "145        146   51      F  Treatment          0.740588          1.452204   \n",
       "146        147   46      M  Treatment         -0.359295          0.003220   \n",
       "147        148   48      F  Treatment          0.190646          0.969209   \n",
       "148        149   53      M  Treatment          0.740588          0.969209   \n",
       "149        150   45      F  Treatment          0.740588          0.486215   \n",
       "\n",
       "     GeneC_Expression  ProteinA_Level  ProteinB_Level  MetaboliteA_Level  \\\n",
       "0           -2.989453       -3.481685       -3.655577          -3.472082   \n",
       "1           -1.669282       -2.058653       -2.097803          -2.419936   \n",
       "2           -0.789169       -2.770169       -3.032467          -2.946009   \n",
       "3            0.090945       -1.347137       -1.474693          -1.893863   \n",
       "4            0.531002       -0.635621       -0.540028          -1.367790   \n",
       "..                ...             ...             ...                ...   \n",
       "145          1.411116        0.787411        1.017746           1.262575   \n",
       "146          0.090945        0.075895       -0.228474          -0.315644   \n",
       "147          0.531002        0.787411        0.394636           0.736502   \n",
       "148          0.971059        0.787411        0.706191           0.736502   \n",
       "149          0.531002        0.787411        0.394636           0.736502   \n",
       "\n",
       "     MetaboliteB_Level  Outcome  \n",
       "0            -3.159759      5.1  \n",
       "1            -2.510493      4.8  \n",
       "2            -2.835126      5.5  \n",
       "3            -2.185860      5.0  \n",
       "4            -1.861228      5.2  \n",
       "..                 ...      ...  \n",
       "145           1.385100      6.6  \n",
       "146          -0.562697      6.2  \n",
       "147           0.735834      6.5  \n",
       "148           0.735834      6.5  \n",
       "149           0.735834      6.4  \n",
       "\n",
       "[150 rows x 12 columns]"
      ]
     },
     "execution_count": 16,
     "metadata": {},
     "output_type": "execute_result"
    }
   ],
   "source": [
    "df"
   ]
  },
  {
   "cell_type": "code",
   "execution_count": 18,
   "id": "311ea8a3-35f6-44b3-b03e-d628b0e4e632",
   "metadata": {},
   "outputs": [
    {
     "data": {
      "image/png": "[encoded data removed]",
      "text/plain": [
       "<Figure size 1000x600 with 1 Axes>"
      ]
     },
     "metadata": {},
     "output_type": "display_data"
    }
   ],
   "source": [
    "\n",
    "plt.figure(figsize=(10, 6))\n",
    "sns.histplot(data=df, x='Age', hue='Condition', multiple=\"layer\", alpha=0.6)\n",
    "plt.title('Age Distribution by Group')\n",
    "plt.show()\n",
    "    "
   ]
  },
  {
   "cell_type": "code",
   "execution_count": 22,
   "id": "9643bc8c-6195-424a-bef1-36f210256b21",
   "metadata": {},
   "outputs": [
    {
     "data": {
      "image/png": "[encoded data removed]",
      "text/plain": [
       "<Figure size 1200x1500 with 3 Axes>"
      ]
     },
     "metadata": {},
     "output_type": "display_data"
    }
   ],
   "source": [
    "gene_cols = [col for col in df.columns if 'Gene' in col]\n",
    "protein_cols = [col for col in df.columns if 'Protein' in col]\n",
    "metabolite_cols = [col for col in df.columns if 'Metabolite' in col]\n",
    "    \n",
    "    # Create box plots for each type of data\n",
    "fig, axes = plt.subplots(3, 1, figsize=(12, 15))\n",
    "    \n",
    "for cols, ax, title in zip(\n",
    "   [gene_cols, protein_cols, metabolite_cols],\n",
    "        axes,\n",
    "        ['Gene Expression Levels', 'Protein Levels', 'Metabolite Levels']\n",
    "    ):\n",
    "        df_melted = pd.melt(df, id_vars=['Condition'], value_vars=cols)\n",
    "        sns.boxplot(data=df_melted, x='variable'\n",
    "                    , y='value', hue='Condition', ax=ax)\n",
    "        ax.set_title(title)\n",
    "        ax.tick_params(axis='x', rotation=45)\n",
    "    \n",
    "plt.tight_layout()\n",
    "plt.show()"
   ]
  },
  {
   "cell_type": "code",
   "execution_count": 24,
   "id": "3d7d5d80-0fa4-4807-ad6c-b8bbd043fc73",
   "metadata": {},
   "outputs": [
    {
     "data": {
      "image/png": "[encoded data removed]",
      "text/plain": [
       "<Figure size 1200x1000 with 2 Axes>"
      ]
     },
     "metadata": {},
     "output_type": "display_data"
    },
    {
     "data": {
      "text/plain": [
       "<Figure size 800x600 with 0 Axes>"
      ]
     },
     "metadata": {},
     "output_type": "display_data"
    },
    {
     "data": {
      "text/plain": [
       "<Figure size 800x600 with 0 Axes>"
      ]
     },
     "metadata": {},
     "output_type": "display_data"
    },
    {
     "data": {
      "image/png": "[encoded data removed]",
      "text/plain": [
       "<Figure size 800x600 with 1 Axes>"
      ]
     },
     "metadata": {},
     "output_type": "display_data"
    }
   ],
   "source": [
    "   # Correlation Heatmap\n",
    "omics_data = df[omics_columns]\n",
    "plt.figure(figsize=(12, 10))\n",
    "sns.heatmap(omics_data.corr(), annot=True, cmap='coolwarm', center=0)\n",
    "plt.title('Correlation Heatmap of Omics Data')\n",
    "plt.show()\n",
    "    \n",
    "# Scatter plots with regression lines\n",
    "for gene in gene_cols:\n",
    "    plt.figure(figsize=(8, 6))\n",
    "sns.regplot(data=df, x=gene, y='Outcome')\n",
    "plt.title(f'{gene} vs Clinical Outcome')\n",
    "plt.show()\n",
    "\n"
   ]
  },
  {
   "cell_type": "code",
   "execution_count": 29,
   "id": "e6d58205-f92f-4504-b341-eb95ca870d0c",
   "metadata": {},
   "outputs": [
    {
     "name": "stdout",
     "output_type": "stream",
     "text": [
      "T-test Results:\n",
      "GeneA_Expression: t-statistic = nan, p-value = nan\n",
      "GeneB_Expression: t-statistic = nan, p-value = nan\n",
      "GeneC_Expression: t-statistic = nan, p-value = nan\n",
      "ProteinA_Level: t-statistic = nan, p-value = nan\n",
      "ProteinB_Level: t-statistic = nan, p-value = nan\n",
      "MetaboliteA_Level: t-statistic = nan, p-value = nan\n",
      "MetaboliteB_Level: t-statistic = nan, p-value = nan\n"
     ]
    },
    {
     "name": "stderr",
     "output_type": "stream",
     "text": [
      "/var/folders/jb/tm9nnps15vq9957p_1j8265h0000gn/T/ipykernel_5405/3603635880.py:8: SmallSampleWarning: One or more sample arguments is too small; all returned values will be NaN. See documentation for sample size requirements.\n",
      "  t_stat, p_val = stats.ttest_ind(control_data, treatment_data)\n"
     ]
    }
   ],
   "source": [
    "\n",
    "    \n",
    "# T-tests between control and treatment groups\n",
    "omics_columns = [col for col in df.columns if any(x in col for x in ['Gene', 'Protein', 'Metabolite'])]\n",
    "results={}    \n",
    "print(\"T-test Results:\")\n",
    "for col in omics_columns:\n",
    "        control_data = df[df['Condition'] == 'control'][col]\n",
    "        treatment_data = df[df['Condition'] == 'treatment'][col]\n",
    "        t_stat, p_val = stats.ttest_ind(control_data, treatment_data)\n",
    "        results[f't_test_{col}'] = {'t_statistic': t_stat, 'p_value': p_val}\n",
    "        print(f\"{col}: t-statistic = {t_stat:.3f}, p-value = {p_val:.3f}\")\n",
    "    "
   ]
  },
  {
   "cell_type": "code",
   "execution_count": 34,
   "id": "961a5083-43b3-4942-ae1c-4debe5983544",
   "metadata": {},
   "outputs": [
    {
     "data": {
      "application/vnd.plotly.v1+json": {
       "config": {
        "plotlyServerURL": "https://plot.ly"
       },
       "data": [
        {
         "alignmentgroup": "True",
         "bingroup": "x",
         "hovertemplate": "Condition=Control<br>Age=%{x}<br>count=%{y}<extra></extra>",
         "legendgroup": "Control",
         "marker": {
          "color": "#636efa",
          "line": {
           "color": "black",
           "width": 1
          },
          "pattern": {
           "shape": ""
          }
         },
         "name": "Control",
         "offsetgroup": "Control",
         "orientation": "v",
         "showlegend": true,
         "type": "histogram",
         "x": [
          45,
          50,
          36,
          62,
          28,
          33,
          47,
          52,
          41,
          38,
          48,
          53,
          39,
          61,
          30,
          34,
          46,
          51,
          42,
          37
         ],
         "xaxis": "x",
         "yaxis": "y"
        },
        {
         "alignmentgroup": "True",
         "bingroup": "x",
         "hovertemplate": "Condition=Treatment<br>Age=%{x}<br>count=%{y}<extra></extra>",
         "legendgroup": "Treatment",
         "marker": {
          "color": "#EF553B",
          "line": {
           "color": "black",
           "width": 1
          },
          "pattern": {
           "shape": ""
          }
         },
         "name": "Treatment",
         "offsetgroup": "Treatment",
         "orientation": "v",
         "showlegend": true,
         "type": "histogram",
         "x": [
          56,
          49,
          35,
          60,
          32,
          40,
          45,
          54,
          37,
          43,
          50,
          57,
          62,
          43,
          41,
          58,
          40,
          53,
          48,
          50,
          45,
          52,
          47,
          39,
          56,
          44,
          59,
          43,
          49,
          51,
          46,
          55,
          48,
          51,
          57,
          43,
          49,
          56,
          45,
          53,
          62,
          42,
          47,
          50,
          53,
          44,
          49,
          56,
          45,
          52,
          60,
          43,
          59,
          47,
          41,
          50,
          46,
          53,
          44,
          59,
          41,
          48,
          53,
          46,
          52,
          50,
          54,
          49,
          56,
          43,
          52,
          47,
          54,
          44,
          50,
          51,
          43,
          56,
          48,
          50,
          44,
          53,
          46,
          50,
          55,
          49,
          42,
          51,
          47,
          48,
          52,
          53,
          49,
          44,
          55,
          47,
          43,
          49,
          51,
          52,
          50,
          44,
          47,
          45,
          53,
          46,
          49,
          50,
          44,
          45,
          51,
          46,
          53,
          48,
          52,
          44,
          47,
          49,
          46,
          53,
          48,
          49,
          44,
          50,
          47,
          51,
          46,
          48,
          53,
          45
         ],
         "xaxis": "x",
         "yaxis": "y"
        }
       ],
       "layout": {
        "barmode": "relative",
        "legend": {
         "title": {
          "text": "Condition"
         },
         "tracegroupgap": 0
        },
        "template": {
         "data": {
          "bar": [
           {
            "error_x": {
             "color": "#2a3f5f"
            },
            "error_y": {
             "color": "#2a3f5f"
            },
            "marker": {
             "line": {
              "color": "#E5ECF6",
              "width": 0.5
             },
             "pattern": {
              "fillmode": "overlay",
              "size": 10,
              "solidity": 0.2
             }
            },
            "type": "bar"
           }
          ],
          "barpolar": [
           {
            "marker": {
             "line": {
              "color": "#E5ECF6",
              "width": 0.5
             },
             "pattern": {
              "fillmode": "overlay",
              "size": 10,
              "solidity": 0.2
             }
            },
            "type": "barpolar"
           }
          ],
          "carpet": [
           {
            "aaxis": {
             "endlinecolor": "#2a3f5f",
             "gridcolor": "white",
             "linecolor": "white",
             "minorgridcolor": "white",
             "startlinecolor": "#2a3f5f"
            },
            "baxis": {
             "endlinecolor": "#2a3f5f",
             "gridcolor": "white",
             "linecolor": "white",
             "minorgridcolor": "white",
             "startlinecolor": "#2a3f5f"
            },
            "type": "carpet"
           }
          ],
          "choropleth": [
           {
            "colorbar": {
             "outlinewidth": 0,
             "ticks": ""
            },
            "type": "choropleth"
           }
          ],
          "contour": [
           {
            "colorbar": {
             "outlinewidth": 0,
             "ticks": ""
            },
            "colorscale": [
             [
              0,
              "#0d0887"
             ],
             [
              0.1111111111111111,
              "#46039f"
             ],
             [
              0.2222222222222222,
              "#7201a8"
             ],
             [
              0.3333333333333333,
              "#9c179e"
             ],
             [
              0.4444444444444444,
              "#bd3786"
             ],
             [
              0.5555555555555556,
              "#d8576b"
             ],
             [
              0.6666666666666666,
              "#ed7953"
             ],
             [
              0.7777777777777778,
              "#fb9f3a"
             ],
             [
              0.8888888888888888,
              "#fdca26"
             ],
             [
              1,
              "#f0f921"
             ]
            ],
            "type": "contour"
           }
          ],
          "contourcarpet": [
           {
            "colorbar": {
             "outlinewidth": 0,
             "ticks": ""
            },
            "type": "contourcarpet"
           }
          ],
          "heatmap": [
           {
            "colorbar": {
             "outlinewidth": 0,
             "ticks": ""
            },
            "colorscale": [
             [
              0,
              "#0d0887"
             ],
             [
              0.1111111111111111,
              "#46039f"
             ],
             [
              0.2222222222222222,
              "#7201a8"
             ],
             [
              0.3333333333333333,
              "#9c179e"
             ],
             [
              0.4444444444444444,
              "#bd3786"
             ],
             [
              0.5555555555555556,
              "#d8576b"
             ],
             [
              0.6666666666666666,
              "#ed7953"
             ],
             [
              0.7777777777777778,
              "#fb9f3a"
             ],
             [
              0.8888888888888888,
              "#fdca26"
             ],
             [
              1,
              "#f0f921"
             ]
            ],
            "type": "heatmap"
           }
          ],
          "heatmapgl": [
           {
            "colorbar": {
             "outlinewidth": 0,
             "ticks": ""
            },
            "colorscale": [
             [
              0,
              "#0d0887"
             ],
             [
              0.1111111111111111,
              "#46039f"
             ],
             [
              0.2222222222222222,
              "#7201a8"
             ],
             [
              0.3333333333333333,
              "#9c179e"
             ],
             [
              0.4444444444444444,
              "#bd3786"
             ],
             [
              0.5555555555555556,
              "#d8576b"
             ],
             [
              0.6666666666666666,
              "#ed7953"
             ],
             [
              0.7777777777777778,
              "#fb9f3a"
             ],
             [
              0.8888888888888888,
              "#fdca26"
             ],
             [
              1,
              "#f0f921"
             ]
            ],
            "type": "heatmapgl"
           }
          ],
          "histogram": [
           {
            "marker": {
             "pattern": {
              "fillmode": "overlay",
              "size": 10,
              "solidity": 0.2
             }
            },
            "type": "histogram"
           }
          ],
          "histogram2d": [
           {
            "colorbar": {
             "outlinewidth": 0,
             "ticks": ""
            },
            "colorscale": [
             [
              0,
              "#0d0887"
             ],
             [
              0.1111111111111111,
              "#46039f"
             ],
             [
              0.2222222222222222,
              "#7201a8"
             ],
             [
              0.3333333333333333,
              "#9c179e"
             ],
             [
              0.4444444444444444,
              "#bd3786"
             ],
             [
              0.5555555555555556,
              "#d8576b"
             ],
             [
              0.6666666666666666,
              "#ed7953"
             ],
             [
              0.7777777777777778,
              "#fb9f3a"
             ],
             [
              0.8888888888888888,
              "#fdca26"
             ],
             [
              1,
              "#f0f921"
             ]
            ],
            "type": "histogram2d"
           }
          ],
          "histogram2dcontour": [
           {
            "colorbar": {
             "outlinewidth": 0,
             "ticks": ""
            },
            "colorscale": [
             [
              0,
              "#0d0887"
             ],
             [
              0.1111111111111111,
              "#46039f"
             ],
             [
              0.2222222222222222,
              "#7201a8"
             ],
             [
              0.3333333333333333,
              "#9c179e"
             ],
             [
              0.4444444444444444,
              "#bd3786"
             ],
             [
              0.5555555555555556,
              "#d8576b"
             ],
             [
              0.6666666666666666,
              "#ed7953"
             ],
             [
              0.7777777777777778,
              "#fb9f3a"
             ],
             [
              0.8888888888888888,
              "#fdca26"
             ],
             [
              1,
              "#f0f921"
             ]
            ],
            "type": "histogram2dcontour"
           }
          ],
          "mesh3d": [
           {
            "colorbar": {
             "outlinewidth": 0,
             "ticks": ""
            },
            "type": "mesh3d"
           }
          ],
          "parcoords": [
           {
            "line": {
             "colorbar": {
              "outlinewidth": 0,
              "ticks": ""
             }
            },
            "type": "parcoords"
           }
          ],
          "pie": [
           {
            "automargin": true,
            "type": "pie"
           }
          ],
          "scatter": [
           {
            "fillpattern": {
             "fillmode": "overlay",
             "size": 10,
             "solidity": 0.2
            },
            "type": "scatter"
           }
          ],
          "scatter3d": [
           {
            "line": {
             "colorbar": {
              "outlinewidth": 0,
              "ticks": ""
             }
            },
            "marker": {
             "colorbar": {
              "outlinewidth": 0,
              "ticks": ""
             }
            },
            "type": "scatter3d"
           }
          ],
          "scattercarpet": [
           {
            "marker": {
             "colorbar": {
              "outlinewidth": 0,
              "ticks": ""
             }
            },
            "type": "scattercarpet"
           }
          ],
          "scattergeo": [
           {
            "marker": {
             "colorbar": {
              "outlinewidth": 0,
              "ticks": ""
             }
            },
            "type": "scattergeo"
           }
          ],
          "scattergl": [
           {
            "marker": {
             "colorbar": {
              "outlinewidth": 0,
              "ticks": ""
             }
            },
            "type": "scattergl"
           }
          ],
          "scattermapbox": [
           {
            "marker": {
             "colorbar": {
              "outlinewidth": 0,
              "ticks": ""
             }
            },
            "type": "scattermapbox"
           }
          ],
          "scatterpolar": [
           {
            "marker": {
             "colorbar": {
              "outlinewidth": 0,
              "ticks": ""
             }
            },
            "type": "scatterpolar"
           }
          ],
          "scatterpolargl": [
           {
            "marker": {
             "colorbar": {
              "outlinewidth": 0,
              "ticks": ""
             }
            },
            "type": "scatterpolargl"
           }
          ],
          "scatterternary": [
           {
            "marker": {
             "colorbar": {
              "outlinewidth": 0,
              "ticks": ""
             }
            },
            "type": "scatterternary"
           }
          ],
          "surface": [
           {
            "colorbar": {
             "outlinewidth": 0,
             "ticks": ""
            },
            "colorscale": [
             [
              0,
              "#0d0887"
             ],
             [
              0.1111111111111111,
              "#46039f"
             ],
             [
              0.2222222222222222,
              "#7201a8"
             ],
             [
              0.3333333333333333,
              "#9c179e"
             ],
             [
              0.4444444444444444,
              "#bd3786"
             ],
             [
              0.5555555555555556,
              "#d8576b"
             ],
             [
              0.6666666666666666,
              "#ed7953"
             ],
             [
              0.7777777777777778,
              "#fb9f3a"
             ],
             [
              0.8888888888888888,
              "#fdca26"
             ],
             [
              1,
              "#f0f921"
             ]
            ],
            "type": "surface"
           }
          ],
          "table": [
           {
            "cells": {
             "fill": {
              "color": "#EBF0F8"
             },
             "line": {
              "color": "white"
             }
            },
            "header": {
             "fill": {
              "color": "#C8D4E3"
             },
             "line": {
              "color": "white"
             }
            },
            "type": "table"
           }
          ]
         },
         "layout": {
          "annotationdefaults": {
           "arrowcolor": "#2a3f5f",
           "arrowhead": 0,
           "arrowwidth": 1
          },
          "autotypenumbers": "strict",
          "coloraxis": {
           "colorbar": {
            "outlinewidth": 0,
            "ticks": ""
           }
          },
          "colorscale": {
           "diverging": [
            [
             0,
             "#8e0152"
            ],
            [
             0.1,
             "#c51b7d"
            ],
            [
             0.2,
             "#de77ae"
            ],
            [
             0.3,
             "#f1b6da"
            ],
            [
             0.4,
             "#fde0ef"
            ],
            [
             0.5,
             "#f7f7f7"
            ],
            [
             0.6,
             "#e6f5d0"
            ],
            [
             0.7,
             "#b8e186"
            ],
            [
             0.8,
             "#7fbc41"
            ],
            [
             0.9,
             "#4d9221"
            ],
            [
             1,
             "#276419"
            ]
           ],
           "sequential": [
            [
             0,
             "#0d0887"
            ],
            [
             0.1111111111111111,
             "#46039f"
            ],
            [
             0.2222222222222222,
             "#7201a8"
            ],
            [
             0.3333333333333333,
             "#9c179e"
            ],
            [
             0.4444444444444444,
             "#bd3786"
            ],
            [
             0.5555555555555556,
             "#d8576b"
            ],
            [
             0.6666666666666666,
             "#ed7953"
            ],
            [
             0.7777777777777778,
             "#fb9f3a"
            ],
            [
             0.8888888888888888,
             "#fdca26"
            ],
            [
             1,
             "#f0f921"
            ]
           ],
           "sequentialminus": [
            [
             0,
             "#0d0887"
            ],
            [
             0.1111111111111111,
             "#46039f"
            ],
            [
             0.2222222222222222,
             "#7201a8"
            ],
            [
             0.3333333333333333,
             "#9c179e"
            ],
            [
             0.4444444444444444,
             "#bd3786"
            ],
            [
             0.5555555555555556,
             "#d8576b"
            ],
            [
             0.6666666666666666,
             "#ed7953"
            ],
            [
             0.7777777777777778,
             "#fb9f3a"
            ],
            [
             0.8888888888888888,
             "#fdca26"
            ],
            [
             1,
             "#f0f921"
            ]
           ]
          },
          "colorway": [
           "#636efa",
           "#EF553B",
           "#00cc96",
           "#ab63fa",
           "#FFA15A",
           "#19d3f3",
           "#FF6692",
           "#B6E880",
           "#FF97FF",
           "#FECB52"
          ],
          "font": {
           "color": "#2a3f5f"
          },
          "geo": {
           "bgcolor": "white",
           "lakecolor": "white",
           "landcolor": "#E5ECF6",
           "showlakes": true,
           "showland": true,
           "subunitcolor": "white"
          },
          "hoverlabel": {
           "align": "left"
          },
          "hovermode": "closest",
          "mapbox": {
           "style": "light"
          },
          "paper_bgcolor": "white",
          "plot_bgcolor": "#E5ECF6",
          "polar": {
           "angularaxis": {
            "gridcolor": "white",
            "linecolor": "white",
            "ticks": ""
           },
           "bgcolor": "#E5ECF6",
           "radialaxis": {
            "gridcolor": "white",
            "linecolor": "white",
            "ticks": ""
           }
          },
          "scene": {
           "xaxis": {
            "backgroundcolor": "#E5ECF6",
            "gridcolor": "white",
            "gridwidth": 2,
            "linecolor": "white",
            "showbackground": true,
            "ticks": "",
            "zerolinecolor": "white"
           },
           "yaxis": {
            "backgroundcolor": "#E5ECF6",
            "gridcolor": "white",
            "gridwidth": 2,
            "linecolor": "white",
            "showbackground": true,
            "ticks": "",
            "zerolinecolor": "white"
           },
           "zaxis": {
            "backgroundcolor": "#E5ECF6",
            "gridcolor": "white",
            "gridwidth": 2,
            "linecolor": "white",
            "showbackground": true,
            "ticks": "",
            "zerolinecolor": "white"
           }
          },
          "shapedefaults": {
           "line": {
            "color": "#2a3f5f"
           }
          },
          "ternary": {
           "aaxis": {
            "gridcolor": "white",
            "linecolor": "white",
            "ticks": ""
           },
           "baxis": {
            "gridcolor": "white",
            "linecolor": "white",
            "ticks": ""
           },
           "bgcolor": "#E5ECF6",
           "caxis": {
            "gridcolor": "white",
            "linecolor": "white",
            "ticks": ""
           }
          },
          "title": {
           "x": 0.05
          },
          "xaxis": {
           "automargin": true,
           "gridcolor": "white",
           "linecolor": "white",
           "ticks": "",
           "title": {
            "standoff": 15
           },
           "zerolinecolor": "white",
           "zerolinewidth": 2
          },
          "yaxis": {
           "automargin": true,
           "gridcolor": "white",
           "linecolor": "white",
           "ticks": "",
           "title": {
            "standoff": 15
           },
           "zerolinecolor": "white",
           "zerolinewidth": 2
          }
         }
        },
        "title": {
         "text": "Age Distribution by Condition"
        },
        "xaxis": {
         "anchor": "y",
         "domain": [
          0,
          1
         ],
         "title": {
          "text": "Age"
         }
        },
        "yaxis": {
         "anchor": "x",
         "domain": [
          0,
          1
         ],
         "title": {
          "text": "Frequency"
         }
        }
       }
      },
      "image/png": "[encoded data removed]",
      "text/html": [
       "<div>                            <div id=\"038ff482-7b5a-4fce-ad9d-9a1a5c262c65\" class=\"plotly-graph-div\" style=\"height:525px; width:100%;\"></div>            <script type=\"text/javascript\">                require([\"plotly\"], function(Plotly) {                    window.PLOTLYENV=window.PLOTLYENV || {};                                    if (document.getElementById(\"038ff482-7b5a-4fce-ad9d-9a1a5c262c65\")) {                    Plotly.newPlot(                        \"038ff482-7b5a-4fce-ad9d-9a1a5c262c65\",                        [{\"alignmentgroup\":\"True\",\"bingroup\":\"x\",\"hovertemplate\":\"Condition=Control\\u003cbr\\u003eAge=%{x}\\u003cbr\\u003ecount=%{y}\\u003cextra\\u003e\\u003c\\u002fextra\\u003e\",\"legendgroup\":\"Control\",\"marker\":{\"color\":\"#636efa\",\"pattern\":{\"shape\":\"\"},\"line\":{\"color\":\"black\",\"width\":1}},\"name\":\"Control\",\"offsetgroup\":\"Control\",\"orientation\":\"v\",\"showlegend\":true,\"x\":[45,50,36,62,28,33,47,52,41,38,48,53,39,61,30,34,46,51,42,37],\"xaxis\":\"x\",\"yaxis\":\"y\",\"type\":\"histogram\"},{\"alignmentgroup\":\"True\",\"bingroup\":\"x\",\"hovertemplate\":\"Condition=Treatment\\u003cbr\\u003eAge=%{x}\\u003cbr\\u003ecount=%{y}\\u003cextra\\u003e\\u003c\\u002fextra\\u003e\",\"legendgroup\":\"Treatment\",\"marker\":{\"color\":\"#EF553B\",\"pattern\":{\"shape\":\"\"},\"line\":{\"color\":\"black\",\"width\":1}},\"name\":\"Treatment\",\"offsetgroup\":\"Treatment\",\"orientation\":\"v\",\"showlegend\":true,\"x\":[56,49,35,60,32,40,45,54,37,43,50,57,62,43,41,58,40,53,48,50,45,52,47,39,56,44,59,43,49,51,46,55,48,51,57,43,49,56,45,53,62,42,47,50,53,44,49,56,45,52,60,43,59,47,41,50,46,53,44,59,41,48,53,46,52,50,54,49,56,43,52,47,54,44,50,51,43,56,48,50,44,53,46,50,55,49,42,51,47,48,52,53,49,44,55,47,43,49,51,52,50,44,47,45,53,46,49,50,44,45,51,46,53,48,52,44,47,49,46,53,48,49,44,50,47,51,46,48,53,45],\"xaxis\":\"x\",\"yaxis\":\"y\",\"type\":\"histogram\"}],                        {\"template\":{\"data\":{\"histogram2dcontour\":[{\"type\":\"histogram2dcontour\",\"colorbar\":{\"outlinewidth\":0,\"ticks\":\"\"},\"colorscale\":[[0.0,\"#0d0887\"],[0.1111111111111111,\"#46039f\"],[0.2222222222222222,\"#7201a8\"],[0.3333333333333333,\"#9c179e\"],[0.4444444444444444,\"#bd3786\"],[0.5555555555555556,\"#d8576b\"],[0.6666666666666666,\"#ed7953\"],[0.7777777777777778,\"#fb9f3a\"],[0.8888888888888888,\"#fdca26\"],[1.0,\"#f0f921\"]]}],\"choropleth\":[{\"type\":\"choropleth\",\"colorbar\":{\"outlinewidth\":0,\"ticks\":\"\"}}],\"histogram2d\":[{\"type\":\"histogram2d\",\"colorbar\":{\"outlinewidth\":0,\"ticks\":\"\"},\"colorscale\":[[0.0,\"#0d0887\"],[0.1111111111111111,\"#46039f\"],[0.2222222222222222,\"#7201a8\"],[0.3333333333333333,\"#9c179e\"],[0.4444444444444444,\"#bd3786\"],[0.5555555555555556,\"#d8576b\"],[0.6666666666666666,\"#ed7953\"],[0.7777777777777778,\"#fb9f3a\"],[0.8888888888888888,\"#fdca26\"],[1.0,\"#f0f921\"]]}],\"heatmap\":[{\"type\":\"heatmap\",\"colorbar\":{\"outlinewidth\":0,\"ticks\":\"\"},\"colorscale\":[[0.0,\"#0d0887\"],[0.1111111111111111,\"#46039f\"],[0.2222222222222222,\"#7201a8\"],[0.3333333333333333,\"#9c179e\"],[0.4444444444444444,\"#bd3786\"],[0.5555555555555556,\"#d8576b\"],[0.6666666666666666,\"#ed7953\"],[0.7777777777777778,\"#fb9f3a\"],[0.8888888888888888,\"#fdca26\"],[1.0,\"#f0f921\"]]}],\"heatmapgl\":[{\"type\":\"heatmapgl\",\"colorbar\":{\"outlinewidth\":0,\"ticks\":\"\"},\"colorscale\":[[0.0,\"#0d0887\"],[0.1111111111111111,\"#46039f\"],[0.2222222222222222,\"#7201a8\"],[0.3333333333333333,\"#9c179e\"],[0.4444444444444444,\"#bd3786\"],[0.5555555555555556,\"#d8576b\"],[0.6666666666666666,\"#ed7953\"],[0.7777777777777778,\"#fb9f3a\"],[0.8888888888888888,\"#fdca26\"],[1.0,\"#f0f921\"]]}],\"contourcarpet\":[{\"type\":\"contourcarpet\",\"colorbar\":{\"outlinewidth\":0,\"ticks\":\"\"}}],\"contour\":[{\"type\":\"contour\",\"colorbar\":{\"outlinewidth\":0,\"ticks\":\"\"},\"colorscale\":[[0.0,\"#0d0887\"],[0.1111111111111111,\"#46039f\"],[0.2222222222222222,\"#7201a8\"],[0.3333333333333333,\"#9c179e\"],[0.4444444444444444,\"#bd3786\"],[0.5555555555555556,\"#d8576b\"],[0.6666666666666666,\"#ed7953\"],[0.7777777777777778,\"#fb9f3a\"],[0.8888888888888888,\"#fdca26\"],[1.0,\"#f0f921\"]]}],\"surface\":[{\"type\":\"surface\",\"colorbar\":{\"outlinewidth\":0,\"ticks\":\"\"},\"colorscale\":[[0.0,\"#0d0887\"],[0.1111111111111111,\"#46039f\"],[0.2222222222222222,\"#7201a8\"],[0.3333333333333333,\"#9c179e\"],[0.4444444444444444,\"#bd3786\"],[0.5555555555555556,\"#d8576b\"],[0.6666666666666666,\"#ed7953\"],[0.7777777777777778,\"#fb9f3a\"],[0.8888888888888888,\"#fdca26\"],[1.0,\"#f0f921\"]]}],\"mesh3d\":[{\"type\":\"mesh3d\",\"colorbar\":{\"outlinewidth\":0,\"ticks\":\"\"}}],\"scatter\":[{\"fillpattern\":{\"fillmode\":\"overlay\",\"size\":10,\"solidity\":0.2},\"type\":\"scatter\"}],\"parcoords\":[{\"type\":\"parcoords\",\"line\":{\"colorbar\":{\"outlinewidth\":0,\"ticks\":\"\"}}}],\"scatterpolargl\":[{\"type\":\"scatterpolargl\",\"marker\":{\"colorbar\":{\"outlinewidth\":0,\"ticks\":\"\"}}}],\"bar\":[{\"error_x\":{\"color\":\"#2a3f5f\"},\"error_y\":{\"color\":\"#2a3f5f\"},\"marker\":{\"line\":{\"color\":\"#E5ECF6\",\"width\":0.5},\"pattern\":{\"fillmode\":\"overlay\",\"size\":10,\"solidity\":0.2}},\"type\":\"bar\"}],\"scattergeo\":[{\"type\":\"scattergeo\",\"marker\":{\"colorbar\":{\"outlinewidth\":0,\"ticks\":\"\"}}}],\"scatterpolar\":[{\"type\":\"scatterpolar\",\"marker\":{\"colorbar\":{\"outlinewidth\":0,\"ticks\":\"\"}}}],\"histogram\":[{\"marker\":{\"pattern\":{\"fillmode\":\"overlay\",\"size\":10,\"solidity\":0.2}},\"type\":\"histogram\"}],\"scattergl\":[{\"type\":\"scattergl\",\"marker\":{\"colorbar\":{\"outlinewidth\":0,\"ticks\":\"\"}}}],\"scatter3d\":[{\"type\":\"scatter3d\",\"line\":{\"colorbar\":{\"outlinewidth\":0,\"ticks\":\"\"}},\"marker\":{\"colorbar\":{\"outlinewidth\":0,\"ticks\":\"\"}}}],\"scattermapbox\":[{\"type\":\"scattermapbox\",\"marker\":{\"colorbar\":{\"outlinewidth\":0,\"ticks\":\"\"}}}],\"scatterternary\":[{\"type\":\"scatterternary\",\"marker\":{\"colorbar\":{\"outlinewidth\":0,\"ticks\":\"\"}}}],\"scattercarpet\":[{\"type\":\"scattercarpet\",\"marker\":{\"colorbar\":{\"outlinewidth\":0,\"ticks\":\"\"}}}],\"carpet\":[{\"aaxis\":{\"endlinecolor\":\"#2a3f5f\",\"gridcolor\":\"white\",\"linecolor\":\"white\",\"minorgridcolor\":\"white\",\"startlinecolor\":\"#2a3f5f\"},\"baxis\":{\"endlinecolor\":\"#2a3f5f\",\"gridcolor\":\"white\",\"linecolor\":\"white\",\"minorgridcolor\":\"white\",\"startlinecolor\":\"#2a3f5f\"},\"type\":\"carpet\"}],\"table\":[{\"cells\":{\"fill\":{\"color\":\"#EBF0F8\"},\"line\":{\"color\":\"white\"}},\"header\":{\"fill\":{\"color\":\"#C8D4E3\"},\"line\":{\"color\":\"white\"}},\"type\":\"table\"}],\"barpolar\":[{\"marker\":{\"line\":{\"color\":\"#E5ECF6\",\"width\":0.5},\"pattern\":{\"fillmode\":\"overlay\",\"size\":10,\"solidity\":0.2}},\"type\":\"barpolar\"}],\"pie\":[{\"automargin\":true,\"type\":\"pie\"}]},\"layout\":{\"autotypenumbers\":\"strict\",\"colorway\":[\"#636efa\",\"#EF553B\",\"#00cc96\",\"#ab63fa\",\"#FFA15A\",\"#19d3f3\",\"#FF6692\",\"#B6E880\",\"#FF97FF\",\"#FECB52\"],\"font\":{\"color\":\"#2a3f5f\"},\"hovermode\":\"closest\",\"hoverlabel\":{\"align\":\"left\"},\"paper_bgcolor\":\"white\",\"plot_bgcolor\":\"#E5ECF6\",\"polar\":{\"bgcolor\":\"#E5ECF6\",\"angularaxis\":{\"gridcolor\":\"white\",\"linecolor\":\"white\",\"ticks\":\"\"},\"radialaxis\":{\"gridcolor\":\"white\",\"linecolor\":\"white\",\"ticks\":\"\"}},\"ternary\":{\"bgcolor\":\"#E5ECF6\",\"aaxis\":{\"gridcolor\":\"white\",\"linecolor\":\"white\",\"ticks\":\"\"},\"baxis\":{\"gridcolor\":\"white\",\"linecolor\":\"white\",\"ticks\":\"\"},\"caxis\":{\"gridcolor\":\"white\",\"linecolor\":\"white\",\"ticks\":\"\"}},\"coloraxis\":{\"colorbar\":{\"outlinewidth\":0,\"ticks\":\"\"}},\"colorscale\":{\"sequential\":[[0.0,\"#0d0887\"],[0.1111111111111111,\"#46039f\"],[0.2222222222222222,\"#7201a8\"],[0.3333333333333333,\"#9c179e\"],[0.4444444444444444,\"#bd3786\"],[0.5555555555555556,\"#d8576b\"],[0.6666666666666666,\"#ed7953\"],[0.7777777777777778,\"#fb9f3a\"],[0.8888888888888888,\"#fdca26\"],[1.0,\"#f0f921\"]],\"sequentialminus\":[[0.0,\"#0d0887\"],[0.1111111111111111,\"#46039f\"],[0.2222222222222222,\"#7201a8\"],[0.3333333333333333,\"#9c179e\"],[0.4444444444444444,\"#bd3786\"],[0.5555555555555556,\"#d8576b\"],[0.6666666666666666,\"#ed7953\"],[0.7777777777777778,\"#fb9f3a\"],[0.8888888888888888,\"#fdca26\"],[1.0,\"#f0f921\"]],\"diverging\":[[0,\"#8e0152\"],[0.1,\"#c51b7d\"],[0.2,\"#de77ae\"],[0.3,\"#f1b6da\"],[0.4,\"#fde0ef\"],[0.5,\"#f7f7f7\"],[0.6,\"#e6f5d0\"],[0.7,\"#b8e186\"],[0.8,\"#7fbc41\"],[0.9,\"#4d9221\"],[1,\"#276419\"]]},\"xaxis\":{\"gridcolor\":\"white\",\"linecolor\":\"white\",\"ticks\":\"\",\"title\":{\"standoff\":15},\"zerolinecolor\":\"white\",\"automargin\":true,\"zerolinewidth\":2},\"yaxis\":{\"gridcolor\":\"white\",\"linecolor\":\"white\",\"ticks\":\"\",\"title\":{\"standoff\":15},\"zerolinecolor\":\"white\",\"automargin\":true,\"zerolinewidth\":2},\"scene\":{\"xaxis\":{\"backgroundcolor\":\"#E5ECF6\",\"gridcolor\":\"white\",\"linecolor\":\"white\",\"showbackground\":true,\"ticks\":\"\",\"zerolinecolor\":\"white\",\"gridwidth\":2},\"yaxis\":{\"backgroundcolor\":\"#E5ECF6\",\"gridcolor\":\"white\",\"linecolor\":\"white\",\"showbackground\":true,\"ticks\":\"\",\"zerolinecolor\":\"white\",\"gridwidth\":2},\"zaxis\":{\"backgroundcolor\":\"#E5ECF6\",\"gridcolor\":\"white\",\"linecolor\":\"white\",\"showbackground\":true,\"ticks\":\"\",\"zerolinecolor\":\"white\",\"gridwidth\":2}},\"shapedefaults\":{\"line\":{\"color\":\"#2a3f5f\"}},\"annotationdefaults\":{\"arrowcolor\":\"#2a3f5f\",\"arrowhead\":0,\"arrowwidth\":1},\"geo\":{\"bgcolor\":\"white\",\"landcolor\":\"#E5ECF6\",\"subunitcolor\":\"white\",\"showland\":true,\"showlakes\":true,\"lakecolor\":\"white\"},\"title\":{\"x\":0.05},\"mapbox\":{\"style\":\"light\"}}},\"xaxis\":{\"anchor\":\"y\",\"domain\":[0.0,1.0],\"title\":{\"text\":\"Age\"}},\"yaxis\":{\"anchor\":\"x\",\"domain\":[0.0,1.0],\"title\":{\"text\":\"Frequency\"}},\"legend\":{\"title\":{\"text\":\"Condition\"},\"tracegroupgap\":0},\"title\":{\"text\":\"Age Distribution by Condition\"},\"barmode\":\"relative\"},                        {\"responsive\": true}                    ).then(function(){\n",
       "                            \n",
       "var gd = document.getElementById('038ff482-7b5a-4fce-ad9d-9a1a5c262c65');\n",
       "var x = new MutationObserver(function (mutations, observer) {{\n",
       "        var display = window.getComputedStyle(gd).display;\n",
       "        if (!display || display === 'none') {{\n",
       "            console.log([gd, 'removed!']);\n",
       "            Plotly.purge(gd);\n",
       "            observer.disconnect();\n",
       "        }}\n",
       "}});\n",
       "\n",
       "// Listen for the removal of the full notebook cells\n",
       "var notebookContainer = gd.closest('#notebook-container');\n",
       "if (notebookContainer) {{\n",
       "    x.observe(notebookContainer, {childList: true});\n",
       "}}\n",
       "\n",
       "// Listen for the clearing of the current output cell\n",
       "var outputEl = gd.closest('.output');\n",
       "if (outputEl) {{\n",
       "    x.observe(outputEl, {childList: true});\n",
       "}}\n",
       "\n",
       "                        })                };                });            </script>        </div>"
      ]
     },
     "metadata": {},
     "output_type": "display_data"
    }
   ],
   "source": [
    "import plotly.express as px\n",
    "fig = px.histogram(\n",
    "    df, \n",
    "    x='Age', \n",
    "    color='Condition', \n",
    "    title='Age Distribution by Condition',\n",
    "    labels={'Age': 'Age', 'Condition': 'Condition'} # Overlapping histograms for comparison\n",
    ")\n",
    "\n",
    "\n",
    "# Customize the outline and appearance of bars\n",
    "fig.update_traces(\n",
    "    marker=dict(line=dict(color='black', width=1))  # Add black outline to bars\n",
    ")\n",
    "# Customize layout\n",
    "fig.update_layout(\n",
    "    xaxis_title='Age',\n",
    "    yaxis_title='Frequency'\n",
    ")\n",
    "\n",
    "fig.show()"
   ]
  },
  {
   "cell_type": "code",
   "execution_count": 36,
   "id": "cd93627c-ff69-4c1c-892d-f5e23ee40745",
   "metadata": {},
   "outputs": [
    {
     "name": "stdout",
     "output_type": "stream",
     "text": [
      "['GeneA_Expression', 'GeneB_Expression', 'GeneC_Expression']\n"
     ]
    }
   ],
   "source": [
    "gene_cols = [col for col in df.columns if 'Gene' in col]\n",
    "protein_cols = [col for col in df.columns if 'Protein' in col]\n",
    "metabolite_cols = [col for col in df.columns if 'Metabolite' in col]\n",
    "print(gene_cols )"
   ]
  },
  {
   "cell_type": "code",
   "execution_count": 39,
   "id": "fb0db666-75d7-49c2-9dcb-4054eab842d7",
   "metadata": {},
   "outputs": [
    {
     "name": "stdout",
     "output_type": "stream",
     "text": [
      "     Condition           variable     value\n",
      "0      Control  MetaboliteA_Level -3.472082\n",
      "1      Control  MetaboliteA_Level -2.419936\n",
      "2      Control  MetaboliteA_Level -2.946009\n",
      "3      Control  MetaboliteA_Level -1.893863\n",
      "4      Control  MetaboliteA_Level -1.367790\n",
      "..         ...                ...       ...\n",
      "295  Treatment  MetaboliteB_Level  1.385100\n",
      "296  Treatment  MetaboliteB_Level -0.562697\n",
      "297  Treatment  MetaboliteB_Level  0.735834\n",
      "298  Treatment  MetaboliteB_Level  0.735834\n",
      "299  Treatment  MetaboliteB_Level  0.735834\n",
      "\n",
      "[300 rows x 3 columns]\n"
     ]
    }
   ],
   "source": [
    "\n",
    "gene_cols = [col for col in df.columns if 'Gene' in col]\n",
    "protein_cols = [col for col in df.columns if 'Protein' in col]\n",
    "metabolite_cols = [col for col in df.columns if 'Metabolite' in col]\n",
    "\n",
    "for cols, ax, title in zip(\n",
    "   [gene_cols, protein_cols, metabolite_cols],\n",
    "        axes,\n",
    "        ['Gene Expression Levels', 'Protein Levels', 'Metabolite Levels']\n",
    "    ):\n",
    "        df_melted = pd.melt(df, id_vars=['Condition'], value_vars=cols)\n",
    "\n",
    "print(df_melted)"
   ]
  },
  {
   "cell_type": "code",
   "execution_count": 41,
   "id": "91282e66-1b0d-4d66-90f2-8b438438de0d",
   "metadata": {},
   "outputs": [
    {
     "name": "stdout",
     "output_type": "stream",
     "text": [
      "\n",
      "Correlation with Outcome:\n",
      "Outcome              1.000000\n",
      "MetaboliteA_Level    0.821541\n",
      "MetaboliteB_Level    0.794636\n",
      "ProteinA_Level       0.712760\n",
      "ProteinB_Level       0.710758\n",
      "GeneB_Expression     0.624513\n",
      "GeneC_Expression     0.572977\n",
      "GeneA_Expression     0.360260\n",
      "Name: Outcome, dtype: float64\n"
     ]
    }
   ],
   "source": [
    " correlation_matrix = df[omics_columns + ['Outcome']].corr()\n",
    "print(\"\\nCorrelation with Outcome:\")\n",
    "print(correlation_matrix['Outcome'].sort_values(ascending=False))"
   ]
  },
  {
   "cell_type": "code",
   "execution_count": 44,
   "id": "0c4571f4-c26c-4c7d-84e4-d8915cdb8f09",
   "metadata": {},
   "outputs": [
    {
     "name": "stdout",
     "output_type": "stream",
     "text": [
      "Collecting statsmodels\n",
      "  Downloading statsmodels-0.14.4-cp312-cp312-macosx_10_13_x86_64.whl.metadata (9.2 kB)\n",
      "Requirement already satisfied: numpy<3,>=1.22.3 in /Users/dishajain/miniconda3/lib/python3.12/site-packages (from statsmodels) (2.1.3)\n",
      "Requirement already satisfied: scipy!=1.9.2,>=1.8 in /Users/dishajain/miniconda3/lib/python3.12/site-packages (from statsmodels) (1.14.1)\n",
      "Requirement already satisfied: pandas!=2.1.0,>=1.4 in /Users/dishajain/miniconda3/lib/python3.12/site-packages (from statsmodels) (2.2.3)\n",
      "Collecting patsy>=0.5.6 (from statsmodels)\n",
      "  Downloading patsy-1.0.1-py2.py3-none-any.whl.metadata (3.3 kB)\n",
      "Requirement already satisfied: packaging>=21.3 in /Users/dishajain/miniconda3/lib/python3.12/site-packages (from statsmodels) (24.1)\n",
      "Requirement already satisfied: python-dateutil>=2.8.2 in /Users/dishajain/miniconda3/lib/python3.12/site-packages (from pandas!=2.1.0,>=1.4->statsmodels) (2.9.0.post0)\n",
      "Requirement already satisfied: pytz>=2020.1 in /Users/dishajain/miniconda3/lib/python3.12/site-packages (from pandas!=2.1.0,>=1.4->statsmodels) (2024.2)\n",
      "Requirement already satisfied: tzdata>=2022.7 in /Users/dishajain/miniconda3/lib/python3.12/site-packages (from pandas!=2.1.0,>=1.4->statsmodels) (2024.2)\n",
      "Requirement already satisfied: six>=1.5 in /Users/dishajain/miniconda3/lib/python3.12/site-packages (from python-dateutil>=2.8.2->pandas!=2.1.0,>=1.4->statsmodels) (1.16.0)\n",
      "Downloading statsmodels-0.14.4-cp312-cp312-macosx_10_13_x86_64.whl (10.2 MB)\n",
      "\u001b[2K   \u001b[90m━━━━━━━━━━━━━━━━━━━━━━━━━━━━━━━━━━━━━━━━\u001b[0m \u001b[32m10.2/10.2 MB\u001b[0m \u001b[31m12.2 MB/s\u001b[0m eta \u001b[36m0:00:00\u001b[0m \u001b[36m0:00:01\u001b[0m\n",
      "Downloading patsy-1.0.1-py2.py3-none-any.whl (232 kB)\n",
      "Installing collected packages: patsy, statsmodels\n",
      "Successfully installed patsy-1.0.1 statsmodels-0.14.4\n",
      "\n",
      "Regression Results:\n",
      "                            OLS Regression Results                            \n",
      "==============================================================================\n",
      "Dep. Variable:                Outcome   R-squared:                       0.806\n",
      "Model:                            OLS   Adj. R-squared:                  0.796\n",
      "Method:                 Least Squares   F-statistic:                     84.26\n",
      "Date:                Tue, 24 Dec 2024   Prob (F-statistic):           2.20e-47\n",
      "Time:                        15:48:14   Log-Likelihood:                 42.975\n",
      "No. Observations:                 150   AIC:                            -69.95\n",
      "Df Residuals:                     142   BIC:                            -45.86\n",
      "Df Model:                           7                                         \n",
      "Covariance Type:            nonrobust                                         \n",
      "=====================================================================================\n",
      "                        coef    std err          t      P>|t|      [0.025      0.975]\n",
      "-------------------------------------------------------------------------------------\n",
      "const                 6.1987      0.015    406.540      0.000       6.169       6.229\n",
      "GeneA_Expression     -0.2208      0.043     -5.142      0.000      -0.306      -0.136\n",
      "GeneB_Expression      0.1122      0.051      2.196      0.030       0.011       0.213\n",
      "GeneC_Expression      0.0135      0.067      0.202      0.840      -0.118       0.145\n",
      "ProteinA_Level       -0.2140      0.075     -2.859      0.005      -0.362      -0.066\n",
      "ProteinB_Level        0.0282      0.068      0.415      0.678      -0.106       0.163\n",
      "MetaboliteA_Level     0.4813      0.077      6.223      0.000       0.328       0.634\n",
      "MetaboliteB_Level     0.0896      0.066      1.353      0.178      -0.041       0.221\n",
      "==============================================================================\n",
      "Omnibus:                       16.988   Durbin-Watson:                   1.713\n",
      "Prob(Omnibus):                  0.000   Jarque-Bera (JB):               47.401\n",
      "Skew:                          -0.339   Prob(JB):                     5.09e-11\n",
      "Kurtosis:                       5.669   Cond. No.                         15.7\n",
      "==============================================================================\n",
      "\n",
      "Notes:\n",
      "[1] Standard Errors assume that the covariance matrix of the errors is correctly specified.\n"
     ]
    }
   ],
   "source": [
    "   # Multiple Linear Regression\n",
    "!pip install statsmodels\n",
    "import statsmodels.api as sm\n",
    "X = df[omics_columns]\n",
    "y = df['Outcome']\n",
    "X = sm.add_constant(X)\n",
    "model = sm.OLS(y, X).fit()\n",
    "print(\"\\nRegression Results:\")\n",
    "print(model.summary())\n",
    "    "
   ]
  },
  {
   "cell_type": "code",
   "execution_count": 45,
   "id": "e9cc30c2-e9c1-48b0-bd30-513876c471d7",
   "metadata": {},
   "outputs": [
    {
     "name": "stdout",
     "output_type": "stream",
     "text": [
      "\n",
      "ANOVA Results:\n",
      "F-statistic: 369.725\n",
      "p-value: 0.000\n"
     ]
    }
   ],
   "source": [
    "    \n",
    "    # ANOVA\n",
    "    f_stat, p_val = stats.f_oneway(*[group['Outcome'].values \n",
    "                                    for name, group in df.groupby('Condition')])\n",
    "    print(\"\\nANOVA Results:\")\n",
    "    print(f\"F-statistic: {f_stat:.3f}\")\n",
    "    print(f\"p-value: {p_val:.3f}\")\n",
    "    "
   ]
  },
  {
   "cell_type": "code",
   "execution_count": null,
   "id": "59bc77c7-ca3d-4910-b39c-eb53e5a51cc4",
   "metadata": {},
   "outputs": [],
   "source": []
  }
 ],
 "metadata": {
  "kernelspec": {
   "display_name": "Python 3 (ipykernel)",
   "language": "python",
   "name": "python3"
  },
  "language_info": {
   "codemirror_mode": {
    "name": "ipython",
    "version": 3
   },
   "file_extension": ".py",
   "mimetype": "text/x-python",
   "name": "python",
   "nbconvert_exporter": "python",
   "pygments_lexer": "ipython3",
   "version": "3.12.2"
  }
 },
 "nbformat": 4,
 "nbformat_minor": 5
}
