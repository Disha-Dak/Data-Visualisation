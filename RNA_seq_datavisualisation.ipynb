{
 "cells": [
  {
   "cell_type": "code",
   "execution_count": 1,
   "id": "85a4d4c0-1568-4e86-ae11-2b9350310d4c",
   "metadata": {},
   "outputs": [],
   "source": [
    "import pandas as pd\n",
    "import plotly.express as px\n",
    "import matplotlib.pyplot as plt\n",
    "import seaborn as sns "
   ]
  },
  {
   "cell_type": "code",
   "execution_count": 2,
   "id": "70bae7ae-c09b-4703-8975-4501e2c16f5a",
   "metadata": {},
   "outputs": [],
   "source": [
    "data = pd.read_csv(\"RNAseq Dataset - rna_seq_large_example.csv\")"
   ]
  },
  {
   "cell_type": "code",
   "execution_count": 3,
   "id": "db7ccb71-f60c-4e51-a94b-9127f50f320a",
   "metadata": {},
   "outputs": [],
   "source": [
    "df = pd.DataFrame(data)"
   ]
  },
  {
   "cell_type": "code",
   "execution_count": 4,
   "id": "6c1ae8e8-f3ff-4d87-8fa4-3bb13fc5a9cc",
   "metadata": {},
   "outputs": [
    {
     "data": {
      "text/html": [
       "<div>\n",
       "<style scoped>\n",
       "    .dataframe tbody tr th:only-of-type {\n",
       "        vertical-align: middle;\n",
       "    }\n",
       "\n",
       "    .dataframe tbody tr th {\n",
       "        vertical-align: top;\n",
       "    }\n",
       "\n",
       "    .dataframe thead th {\n",
       "        text-align: right;\n",
       "    }\n",
       "</style>\n",
       "<table border=\"1\" class=\"dataframe\">\n",
       "  <thead>\n",
       "    <tr style=\"text-align: right;\">\n",
       "      <th></th>\n",
       "      <th>Gene</th>\n",
       "      <th>Sample1</th>\n",
       "      <th>Sample2</th>\n",
       "      <th>Sample3</th>\n",
       "      <th>Sample4</th>\n",
       "      <th>Sample5</th>\n",
       "      <th>Sample6</th>\n",
       "      <th>Sample7</th>\n",
       "      <th>Sample8</th>\n",
       "      <th>Sample9</th>\n",
       "      <th>...</th>\n",
       "      <th>Sample11</th>\n",
       "      <th>Sample12</th>\n",
       "      <th>Sample13</th>\n",
       "      <th>Sample14</th>\n",
       "      <th>Sample15</th>\n",
       "      <th>Sample16</th>\n",
       "      <th>Sample17</th>\n",
       "      <th>Sample18</th>\n",
       "      <th>Sample19</th>\n",
       "      <th>Sample20</th>\n",
       "    </tr>\n",
       "  </thead>\n",
       "  <tbody>\n",
       "    <tr>\n",
       "      <th>0</th>\n",
       "      <td>Gene1</td>\n",
       "      <td>202</td>\n",
       "      <td>204</td>\n",
       "      <td>197</td>\n",
       "      <td>197</td>\n",
       "      <td>239</td>\n",
       "      <td>213</td>\n",
       "      <td>203</td>\n",
       "      <td>174</td>\n",
       "      <td>212</td>\n",
       "      <td>...</td>\n",
       "      <td>180</td>\n",
       "      <td>183</td>\n",
       "      <td>201</td>\n",
       "      <td>190</td>\n",
       "      <td>198</td>\n",
       "      <td>205</td>\n",
       "      <td>230</td>\n",
       "      <td>194</td>\n",
       "      <td>208</td>\n",
       "      <td>207</td>\n",
       "    </tr>\n",
       "    <tr>\n",
       "      <th>1</th>\n",
       "      <td>Gene2</td>\n",
       "      <td>187</td>\n",
       "      <td>192</td>\n",
       "      <td>203</td>\n",
       "      <td>187</td>\n",
       "      <td>206</td>\n",
       "      <td>199</td>\n",
       "      <td>184</td>\n",
       "      <td>206</td>\n",
       "      <td>186</td>\n",
       "      <td>...</td>\n",
       "      <td>216</td>\n",
       "      <td>210</td>\n",
       "      <td>191</td>\n",
       "      <td>191</td>\n",
       "      <td>192</td>\n",
       "      <td>172</td>\n",
       "      <td>203</td>\n",
       "      <td>201</td>\n",
       "      <td>203</td>\n",
       "      <td>192</td>\n",
       "    </tr>\n",
       "    <tr>\n",
       "      <th>2</th>\n",
       "      <td>Gene3</td>\n",
       "      <td>182</td>\n",
       "      <td>191</td>\n",
       "      <td>203</td>\n",
       "      <td>215</td>\n",
       "      <td>207</td>\n",
       "      <td>189</td>\n",
       "      <td>204</td>\n",
       "      <td>198</td>\n",
       "      <td>208</td>\n",
       "      <td>...</td>\n",
       "      <td>219</td>\n",
       "      <td>219</td>\n",
       "      <td>210</td>\n",
       "      <td>234</td>\n",
       "      <td>197</td>\n",
       "      <td>207</td>\n",
       "      <td>205</td>\n",
       "      <td>182</td>\n",
       "      <td>203</td>\n",
       "      <td>203</td>\n",
       "    </tr>\n",
       "    <tr>\n",
       "      <th>3</th>\n",
       "      <td>Gene4</td>\n",
       "      <td>206</td>\n",
       "      <td>221</td>\n",
       "      <td>197</td>\n",
       "      <td>214</td>\n",
       "      <td>183</td>\n",
       "      <td>184</td>\n",
       "      <td>181</td>\n",
       "      <td>214</td>\n",
       "      <td>196</td>\n",
       "      <td>...</td>\n",
       "      <td>209</td>\n",
       "      <td>210</td>\n",
       "      <td>201</td>\n",
       "      <td>186</td>\n",
       "      <td>213</td>\n",
       "      <td>193</td>\n",
       "      <td>209</td>\n",
       "      <td>184</td>\n",
       "      <td>203</td>\n",
       "      <td>227</td>\n",
       "    </tr>\n",
       "    <tr>\n",
       "      <th>4</th>\n",
       "      <td>Gene5</td>\n",
       "      <td>201</td>\n",
       "      <td>210</td>\n",
       "      <td>196</td>\n",
       "      <td>210</td>\n",
       "      <td>188</td>\n",
       "      <td>171</td>\n",
       "      <td>192</td>\n",
       "      <td>195</td>\n",
       "      <td>207</td>\n",
       "      <td>...</td>\n",
       "      <td>207</td>\n",
       "      <td>192</td>\n",
       "      <td>204</td>\n",
       "      <td>205</td>\n",
       "      <td>190</td>\n",
       "      <td>208</td>\n",
       "      <td>231</td>\n",
       "      <td>189</td>\n",
       "      <td>201</td>\n",
       "      <td>187</td>\n",
       "    </tr>\n",
       "    <tr>\n",
       "      <th>...</th>\n",
       "      <td>...</td>\n",
       "      <td>...</td>\n",
       "      <td>...</td>\n",
       "      <td>...</td>\n",
       "      <td>...</td>\n",
       "      <td>...</td>\n",
       "      <td>...</td>\n",
       "      <td>...</td>\n",
       "      <td>...</td>\n",
       "      <td>...</td>\n",
       "      <td>...</td>\n",
       "      <td>...</td>\n",
       "      <td>...</td>\n",
       "      <td>...</td>\n",
       "      <td>...</td>\n",
       "      <td>...</td>\n",
       "      <td>...</td>\n",
       "      <td>...</td>\n",
       "      <td>...</td>\n",
       "      <td>...</td>\n",
       "      <td>...</td>\n",
       "    </tr>\n",
       "    <tr>\n",
       "      <th>995</th>\n",
       "      <td>Gene996</td>\n",
       "      <td>218</td>\n",
       "      <td>205</td>\n",
       "      <td>204</td>\n",
       "      <td>199</td>\n",
       "      <td>198</td>\n",
       "      <td>220</td>\n",
       "      <td>212</td>\n",
       "      <td>204</td>\n",
       "      <td>191</td>\n",
       "      <td>...</td>\n",
       "      <td>228</td>\n",
       "      <td>198</td>\n",
       "      <td>212</td>\n",
       "      <td>194</td>\n",
       "      <td>199</td>\n",
       "      <td>223</td>\n",
       "      <td>198</td>\n",
       "      <td>208</td>\n",
       "      <td>197</td>\n",
       "      <td>212</td>\n",
       "    </tr>\n",
       "    <tr>\n",
       "      <th>996</th>\n",
       "      <td>Gene997</td>\n",
       "      <td>203</td>\n",
       "      <td>191</td>\n",
       "      <td>213</td>\n",
       "      <td>171</td>\n",
       "      <td>212</td>\n",
       "      <td>211</td>\n",
       "      <td>181</td>\n",
       "      <td>210</td>\n",
       "      <td>194</td>\n",
       "      <td>...</td>\n",
       "      <td>204</td>\n",
       "      <td>218</td>\n",
       "      <td>196</td>\n",
       "      <td>213</td>\n",
       "      <td>192</td>\n",
       "      <td>185</td>\n",
       "      <td>188</td>\n",
       "      <td>232</td>\n",
       "      <td>194</td>\n",
       "      <td>187</td>\n",
       "    </tr>\n",
       "    <tr>\n",
       "      <th>997</th>\n",
       "      <td>Gene998</td>\n",
       "      <td>166</td>\n",
       "      <td>214</td>\n",
       "      <td>178</td>\n",
       "      <td>209</td>\n",
       "      <td>208</td>\n",
       "      <td>213</td>\n",
       "      <td>225</td>\n",
       "      <td>196</td>\n",
       "      <td>213</td>\n",
       "      <td>...</td>\n",
       "      <td>204</td>\n",
       "      <td>200</td>\n",
       "      <td>201</td>\n",
       "      <td>177</td>\n",
       "      <td>203</td>\n",
       "      <td>205</td>\n",
       "      <td>193</td>\n",
       "      <td>230</td>\n",
       "      <td>200</td>\n",
       "      <td>202</td>\n",
       "    </tr>\n",
       "    <tr>\n",
       "      <th>998</th>\n",
       "      <td>Gene999</td>\n",
       "      <td>200</td>\n",
       "      <td>237</td>\n",
       "      <td>204</td>\n",
       "      <td>189</td>\n",
       "      <td>187</td>\n",
       "      <td>204</td>\n",
       "      <td>206</td>\n",
       "      <td>192</td>\n",
       "      <td>206</td>\n",
       "      <td>...</td>\n",
       "      <td>198</td>\n",
       "      <td>220</td>\n",
       "      <td>208</td>\n",
       "      <td>211</td>\n",
       "      <td>153</td>\n",
       "      <td>198</td>\n",
       "      <td>194</td>\n",
       "      <td>211</td>\n",
       "      <td>206</td>\n",
       "      <td>212</td>\n",
       "    </tr>\n",
       "    <tr>\n",
       "      <th>999</th>\n",
       "      <td>Gene1000</td>\n",
       "      <td>195</td>\n",
       "      <td>231</td>\n",
       "      <td>201</td>\n",
       "      <td>188</td>\n",
       "      <td>205</td>\n",
       "      <td>200</td>\n",
       "      <td>211</td>\n",
       "      <td>198</td>\n",
       "      <td>222</td>\n",
       "      <td>...</td>\n",
       "      <td>208</td>\n",
       "      <td>197</td>\n",
       "      <td>205</td>\n",
       "      <td>183</td>\n",
       "      <td>195</td>\n",
       "      <td>205</td>\n",
       "      <td>182</td>\n",
       "      <td>200</td>\n",
       "      <td>203</td>\n",
       "      <td>215</td>\n",
       "    </tr>\n",
       "  </tbody>\n",
       "</table>\n",
       "<p>1000 rows × 21 columns</p>\n",
       "</div>"
      ],
      "text/plain": [
       "         Gene  Sample1  Sample2  Sample3  Sample4  Sample5  Sample6  Sample7  \\\n",
       "0       Gene1      202      204      197      197      239      213      203   \n",
       "1       Gene2      187      192      203      187      206      199      184   \n",
       "2       Gene3      182      191      203      215      207      189      204   \n",
       "3       Gene4      206      221      197      214      183      184      181   \n",
       "4       Gene5      201      210      196      210      188      171      192   \n",
       "..        ...      ...      ...      ...      ...      ...      ...      ...   \n",
       "995   Gene996      218      205      204      199      198      220      212   \n",
       "996   Gene997      203      191      213      171      212      211      181   \n",
       "997   Gene998      166      214      178      209      208      213      225   \n",
       "998   Gene999      200      237      204      189      187      204      206   \n",
       "999  Gene1000      195      231      201      188      205      200      211   \n",
       "\n",
       "     Sample8  Sample9  ...  Sample11  Sample12  Sample13  Sample14  Sample15  \\\n",
       "0        174      212  ...       180       183       201       190       198   \n",
       "1        206      186  ...       216       210       191       191       192   \n",
       "2        198      208  ...       219       219       210       234       197   \n",
       "3        214      196  ...       209       210       201       186       213   \n",
       "4        195      207  ...       207       192       204       205       190   \n",
       "..       ...      ...  ...       ...       ...       ...       ...       ...   \n",
       "995      204      191  ...       228       198       212       194       199   \n",
       "996      210      194  ...       204       218       196       213       192   \n",
       "997      196      213  ...       204       200       201       177       203   \n",
       "998      192      206  ...       198       220       208       211       153   \n",
       "999      198      222  ...       208       197       205       183       195   \n",
       "\n",
       "     Sample16  Sample17  Sample18  Sample19  Sample20  \n",
       "0         205       230       194       208       207  \n",
       "1         172       203       201       203       192  \n",
       "2         207       205       182       203       203  \n",
       "3         193       209       184       203       227  \n",
       "4         208       231       189       201       187  \n",
       "..        ...       ...       ...       ...       ...  \n",
       "995       223       198       208       197       212  \n",
       "996       185       188       232       194       187  \n",
       "997       205       193       230       200       202  \n",
       "998       198       194       211       206       212  \n",
       "999       205       182       200       203       215  \n",
       "\n",
       "[1000 rows x 21 columns]"
      ]
     },
     "execution_count": 4,
     "metadata": {},
     "output_type": "execute_result"
    }
   ],
   "source": [
    "df"
   ]
  },
  {
   "cell_type": "code",
   "execution_count": 5,
   "id": "d1d1cea7-7c73-423c-b477-046d7b54d066",
   "metadata": {},
   "outputs": [
    {
     "name": "stdout",
     "output_type": "stream",
     "text": [
      "\n",
      " The firrst few rows of the gene set\n",
      "    Gene  Sample1  Sample2  Sample3  Sample4  Sample5  Sample6  Sample7  \\\n",
      "0  Gene1      202      204      197      197      239      213      203   \n",
      "1  Gene2      187      192      203      187      206      199      184   \n",
      "2  Gene3      182      191      203      215      207      189      204   \n",
      "3  Gene4      206      221      197      214      183      184      181   \n",
      "4  Gene5      201      210      196      210      188      171      192   \n",
      "\n",
      "   Sample8  Sample9  ...  Sample11  Sample12  Sample13  Sample14  Sample15  \\\n",
      "0      174      212  ...       180       183       201       190       198   \n",
      "1      206      186  ...       216       210       191       191       192   \n",
      "2      198      208  ...       219       219       210       234       197   \n",
      "3      214      196  ...       209       210       201       186       213   \n",
      "4      195      207  ...       207       192       204       205       190   \n",
      "\n",
      "   Sample16  Sample17  Sample18  Sample19  Sample20  \n",
      "0       205       230       194       208       207  \n",
      "1       172       203       201       203       192  \n",
      "2       207       205       182       203       203  \n",
      "3       193       209       184       203       227  \n",
      "4       208       231       189       201       187  \n",
      "\n",
      "[5 rows x 21 columns]\n",
      "\n",
      " Distribution of the table\n",
      "           Sample1      Sample2      Sample3      Sample4      Sample5  \\\n",
      "count  1000.000000  1000.000000  1000.000000  1000.000000  1000.000000   \n",
      "mean    198.878000   199.711000   199.174000   200.108000   200.026000   \n",
      "std      14.465973    14.382919    14.028632    13.905528    14.954028   \n",
      "min     157.000000   155.000000   154.000000   155.000000   160.000000   \n",
      "25%     189.000000   190.000000   189.000000   191.000000   190.000000   \n",
      "50%     199.000000   199.000000   200.000000   200.000000   200.000000   \n",
      "75%     208.250000   209.000000   208.000000   209.000000   210.000000   \n",
      "max     247.000000   255.000000   242.000000   253.000000   249.000000   \n",
      "\n",
      "           Sample6      Sample7      Sample8      Sample9     Sample10  \\\n",
      "count  1000.000000  1000.000000  1000.000000  1000.000000  1000.000000   \n",
      "mean    199.693000   200.229000   200.190000   199.454000   199.764000   \n",
      "std      13.677054    14.693415    14.164199    13.681413    13.649565   \n",
      "min     156.000000   154.000000   161.000000   155.000000   155.000000   \n",
      "25%     190.000000   190.000000   191.000000   191.000000   190.000000   \n",
      "50%     200.000000   201.000000   200.000000   200.000000   200.000000   \n",
      "75%     208.000000   210.000000   210.000000   208.000000   209.000000   \n",
      "max     247.000000   252.000000   249.000000   244.000000   247.000000   \n",
      "\n",
      "          Sample11     Sample12     Sample13     Sample14     Sample15  \\\n",
      "count  1000.000000  1000.000000  1000.000000  1000.000000  1000.000000   \n",
      "mean    200.097000   199.793000   199.327000   200.667000   200.687000   \n",
      "std      14.223287    14.094638    14.629289    14.347751    14.352666   \n",
      "min     154.000000   160.000000   158.000000   158.000000   153.000000   \n",
      "25%     190.000000   191.000000   189.000000   191.000000   191.000000   \n",
      "50%     200.000000   199.500000   199.000000   201.000000   200.000000   \n",
      "75%     210.000000   210.000000   210.000000   210.000000   210.000000   \n",
      "max     238.000000   243.000000   251.000000   249.000000   247.000000   \n",
      "\n",
      "         Sample16     Sample17     Sample18     Sample19     Sample20  \n",
      "count  1000.00000  1000.000000  1000.000000  1000.000000  1000.000000  \n",
      "mean    199.58000   200.391000   200.273000   199.605000   200.287000  \n",
      "std      14.03569    14.668991    14.453629    14.056121    13.914606  \n",
      "min     159.00000   151.000000   151.000000   161.000000   155.000000  \n",
      "25%     191.00000   190.000000   190.000000   191.000000   191.000000  \n",
      "50%     200.00000   200.000000   200.000000   200.000000   200.000000  \n",
      "75%     208.25000   211.000000   211.000000   208.000000   210.000000  \n",
      "max     242.00000   248.000000   254.000000   242.000000   244.000000  \n"
     ]
    }
   ],
   "source": [
    "print('\\n The firrst few rows of the gene set')\n",
    "print(df.head())\n",
    "print(('\\n Distribution of the table'))\n",
    "print(df.describe())\n"
   ]
  },
  {
   "cell_type": "code",
   "execution_count": 6,
   "id": "8143f63d-0f57-4ec9-96e8-4e52a03e5046",
   "metadata": {},
   "outputs": [
    {
     "name": "stdout",
     "output_type": "stream",
     "text": [
      "\n",
      " Missing values\n",
      "Gene        0\n",
      "Sample1     0\n",
      "Sample2     0\n",
      "Sample3     0\n",
      "Sample4     0\n",
      "Sample5     0\n",
      "Sample6     0\n",
      "Sample7     0\n",
      "Sample8     0\n",
      "Sample9     0\n",
      "Sample10    0\n",
      "Sample11    0\n",
      "Sample12    0\n",
      "Sample13    0\n",
      "Sample14    0\n",
      "Sample15    0\n",
      "Sample16    0\n",
      "Sample17    0\n",
      "Sample18    0\n",
      "Sample19    0\n",
      "Sample20    0\n",
      "dtype: int64\n"
     ]
    }
   ],
   "source": [
    "print('\\n Missing values')\n",
    "print(df.isnull().sum())"
   ]
  },
  {
   "cell_type": "code",
   "execution_count": 7,
   "id": "83946bf7-6921-40f5-a2f8-2e1f4e329fbf",
   "metadata": {},
   "outputs": [
    {
     "data": {
      "image/png": "[encoded data removed]",
      "text/plain": [
       "<Figure size 1000x600 with 1 Axes>"
      ]
     },
     "metadata": {},
     "output_type": "display_data"
    }
   ],
   "source": [
    "plt.figure(figsize=(10, 6))\n",
    "sns.boxplot(df, orient='h', palette='Set2')\n",
    "\n",
    "# Customizing the plot\n",
    "plt.title('Distribution of Read Counts for Each Sample', fontsize=14)\n",
    "plt.xlabel('Read Counts', fontsize=12)\n",
    "plt.ylabel('Samples', fontsize=12)\n",
    "\n",
    "# Display the plot\n",
    "plt.show()"
   ]
  },
  {
   "cell_type": "code",
   "execution_count": 8,
   "id": "f2bc75ba-7600-4a7c-84aa-d8cb362674b4",
   "metadata": {},
   "outputs": [
    {
     "name": "stdout",
     "output_type": "stream",
     "text": [
      "Original Data:\n",
      "         Gene   Sample1   Sample2   Sample3   Sample4   Sample5   Sample6  \\\n",
      "0       Gene1  5.313206  5.323010  5.288267  5.288267  5.480639  5.365976   \n",
      "1       Gene2  5.236442  5.262690  5.318120  5.236442  5.332719  5.298317   \n",
      "2       Gene3  5.209486  5.257495  5.318120  5.375278  5.337538  5.247024   \n",
      "3       Gene4  5.332719  5.402677  5.288267  5.370638  5.214936  5.220356   \n",
      "4       Gene5  5.308268  5.351858  5.283204  5.351858  5.241747  5.147494   \n",
      "..        ...       ...       ...       ...       ...       ...       ...   \n",
      "995   Gene996  5.389072  5.327876  5.323010  5.298317  5.293305  5.398163   \n",
      "996   Gene997  5.318120  5.257495  5.365976  5.147494  5.361292  5.356586   \n",
      "997   Gene998  5.117994  5.370638  5.187386  5.347108  5.342334  5.365976   \n",
      "998   Gene999  5.303305  5.472271  5.323010  5.247024  5.236442  5.323010   \n",
      "999  Gene1000  5.278115  5.446737  5.308268  5.241747  5.327876  5.303305   \n",
      "\n",
      "      Sample7   Sample8   Sample9  ...  Sample11  Sample12  Sample13  \\\n",
      "0    5.318120  5.164786  5.361292  ...  5.198497  5.214936  5.308268   \n",
      "1    5.220356  5.332719  5.231109  ...  5.379897  5.351858  5.257495   \n",
      "2    5.323010  5.293305  5.342334  ...  5.393628  5.393628  5.351858   \n",
      "3    5.204007  5.370638  5.283204  ...  5.347108  5.351858  5.308268   \n",
      "4    5.262690  5.278115  5.337538  ...  5.337538  5.262690  5.323010   \n",
      "..        ...       ...       ...  ...       ...       ...       ...   \n",
      "995  5.361292  5.323010  5.257495  ...  5.433722  5.293305  5.361292   \n",
      "996  5.204007  5.351858  5.273000  ...  5.323010  5.389072  5.283204   \n",
      "997  5.420535  5.283204  5.365976  ...  5.323010  5.303305  5.308268   \n",
      "998  5.332719  5.262690  5.332719  ...  5.293305  5.398163  5.342334   \n",
      "999  5.356586  5.293305  5.407172  ...  5.342334  5.288267  5.327876   \n",
      "\n",
      "     Sample14  Sample15  Sample16  Sample17  Sample18  Sample19  Sample20  \n",
      "0    5.252273  5.293305  5.327876  5.442418  5.273000  5.342334  5.337538  \n",
      "1    5.257495  5.262690  5.153292  5.318120  5.308268  5.318120  5.262690  \n",
      "2    5.459586  5.288267  5.337538  5.327876  5.209486  5.318120  5.318120  \n",
      "3    5.231109  5.365976  5.267858  5.347108  5.220356  5.318120  5.429346  \n",
      "4    5.327876  5.252273  5.342334  5.446737  5.247024  5.308268  5.236442  \n",
      "..        ...       ...       ...       ...       ...       ...       ...  \n",
      "995  5.273000  5.298317  5.411646  5.293305  5.342334  5.288267  5.361292  \n",
      "996  5.365976  5.262690  5.225747  5.241747  5.451038  5.273000  5.236442  \n",
      "997  5.181784  5.318120  5.327876  5.267858  5.442418  5.303305  5.313206  \n",
      "998  5.356586  5.036953  5.293305  5.273000  5.356586  5.332719  5.361292  \n",
      "999  5.214936  5.278115  5.327876  5.209486  5.303305  5.318120  5.375278  \n",
      "\n",
      "[1000 rows x 21 columns]\n",
      "\n",
      "Log-Transformed Data:\n",
      "      Sample1   Sample2   Sample3   Sample4   Sample5   Sample6   Sample7  \\\n",
      "0    5.313206  5.323010  5.288267  5.288267  5.480639  5.365976  5.318120   \n",
      "1    5.236442  5.262690  5.318120  5.236442  5.332719  5.298317  5.220356   \n",
      "2    5.209486  5.257495  5.318120  5.375278  5.337538  5.247024  5.323010   \n",
      "3    5.332719  5.402677  5.288267  5.370638  5.214936  5.220356  5.204007   \n",
      "4    5.308268  5.351858  5.283204  5.351858  5.241747  5.147494  5.262690   \n",
      "..        ...       ...       ...       ...       ...       ...       ...   \n",
      "995  5.389072  5.327876  5.323010  5.298317  5.293305  5.398163  5.361292   \n",
      "996  5.318120  5.257495  5.365976  5.147494  5.361292  5.356586  5.204007   \n",
      "997  5.117994  5.370638  5.187386  5.347108  5.342334  5.365976  5.420535   \n",
      "998  5.303305  5.472271  5.323010  5.247024  5.236442  5.323010  5.332719   \n",
      "999  5.278115  5.446737  5.308268  5.241747  5.327876  5.303305  5.356586   \n",
      "\n",
      "      Sample8   Sample9  Sample10  Sample11  Sample12  Sample13  Sample14  \\\n",
      "0    5.164786  5.361292  5.293305  5.198497  5.214936  5.308268  5.252273   \n",
      "1    5.332719  5.231109  5.375278  5.379897  5.351858  5.257495  5.257495   \n",
      "2    5.293305  5.342334  5.370638  5.393628  5.393628  5.351858  5.459586   \n",
      "3    5.370638  5.283204  5.342334  5.347108  5.351858  5.308268  5.231109   \n",
      "4    5.278115  5.337538  5.308268  5.337538  5.262690  5.323010  5.327876   \n",
      "..        ...       ...       ...       ...       ...       ...       ...   \n",
      "995  5.323010  5.257495  5.267858  5.433722  5.293305  5.361292  5.273000   \n",
      "996  5.351858  5.273000  5.288267  5.323010  5.389072  5.283204  5.365976   \n",
      "997  5.283204  5.365976  5.257495  5.323010  5.303305  5.308268  5.181784   \n",
      "998  5.262690  5.332719  5.257495  5.293305  5.398163  5.342334  5.356586   \n",
      "999  5.293305  5.407172  5.181784  5.342334  5.288267  5.327876  5.214936   \n",
      "\n",
      "     Sample15  Sample16  Sample17  Sample18  Sample19  Sample20  \n",
      "0    5.293305  5.327876  5.442418  5.273000  5.342334  5.337538  \n",
      "1    5.262690  5.153292  5.318120  5.308268  5.318120  5.262690  \n",
      "2    5.288267  5.337538  5.327876  5.209486  5.318120  5.318120  \n",
      "3    5.365976  5.267858  5.347108  5.220356  5.318120  5.429346  \n",
      "4    5.252273  5.342334  5.446737  5.247024  5.308268  5.236442  \n",
      "..        ...       ...       ...       ...       ...       ...  \n",
      "995  5.298317  5.411646  5.293305  5.342334  5.288267  5.361292  \n",
      "996  5.262690  5.225747  5.241747  5.451038  5.273000  5.236442  \n",
      "997  5.318120  5.327876  5.267858  5.442418  5.303305  5.313206  \n",
      "998  5.036953  5.293305  5.273000  5.356586  5.332719  5.361292  \n",
      "999  5.278115  5.327876  5.209486  5.303305  5.318120  5.375278  \n",
      "\n",
      "[1000 rows x 20 columns]\n"
     ]
    }
   ],
   "source": [
    "\n",
    "#Apply log transformation:\n",
    "import numpy as np\n",
    "numeric_cols = df.select_dtypes(include=[np.number])  # Filters numeric columns\n",
    "\n",
    "# Apply log transformation (log(x + 1)) to numeric columns\n",
    "log_transformed_df = np.log1p(numeric_cols)\n",
    "\n",
    "# Replace original numeric columns with log-transformed values\n",
    "df[numeric_cols.columns] = log_transformed_df\n",
    "\n",
    "print(\"Original Data:\")\n",
    "print(df)\n",
    "print(\"\\nLog-Transformed Data:\")\n",
    "print(log_transformed_df)"
   ]
  },
  {
   "cell_type": "code",
   "execution_count": 9,
   "id": "a639015a-216e-4fa8-9bdb-37c615458101",
   "metadata": {},
   "outputs": [
    {
     "data": {
      "image/png": "[encoded data removed]",
      "text/plain": [
       "<Figure size 1200x600 with 2 Axes>"
      ]
     },
     "metadata": {},
     "output_type": "display_data"
    }
   ],
   "source": [
    "import seaborn as sns\n",
    "import matplotlib.pyplot as plt\n",
    "\n",
    "# Plot before and after transformation\n",
    "plt.figure(figsize=(12, 6))\n",
    "\n",
    "# Original data\n",
    "plt.subplot(1, 2, 1)\n",
    "sns.boxplot(data=df, orient='h', palette='Set2')\n",
    "plt.title('Original Read Counts')\n",
    "\n",
    "# Log-transformed data\n",
    "plt.subplot(1, 2, 2)\n",
    "sns.boxplot(data=log_transformed_df, orient='h', palette='Set2')\n",
    "plt.title('Log-Transformed Read Counts')\n",
    "\n",
    "plt.show()"
   ]
  },
  {
   "cell_type": "code",
   "execution_count": 10,
   "id": "c7332619-1c14-465b-a43e-7f5336e9a813",
   "metadata": {},
   "outputs": [
    {
     "name": "stdout",
     "output_type": "stream",
     "text": [
      "                     0            1            2            3            4  \\\n",
      "Condition  Condition_A  Condition_A  Condition_A  Condition_A  Condition_A   \n",
      "0                  NaN          NaN          NaN          NaN          NaN   \n",
      "1                  NaN          NaN          NaN          NaN          NaN   \n",
      "2                  NaN          NaN          NaN          NaN          NaN   \n",
      "3                  NaN          NaN          NaN          NaN          NaN   \n",
      "...                ...          ...          ...          ...          ...   \n",
      "995                NaN          NaN          NaN          NaN          NaN   \n",
      "996                NaN          NaN          NaN          NaN          NaN   \n",
      "997                NaN          NaN          NaN          NaN          NaN   \n",
      "998                NaN          NaN          NaN          NaN          NaN   \n",
      "999                NaN          NaN          NaN          NaN          NaN   \n",
      "\n",
      "                     5            6            7            8            9  \\\n",
      "Condition  Condition_A  Condition_A  Condition_A  Condition_A  Condition_A   \n",
      "0                  NaN          NaN          NaN          NaN          NaN   \n",
      "1                  NaN          NaN          NaN          NaN          NaN   \n",
      "2                  NaN          NaN          NaN          NaN          NaN   \n",
      "3                  NaN          NaN          NaN          NaN          NaN   \n",
      "...                ...          ...          ...          ...          ...   \n",
      "995                NaN          NaN          NaN          NaN          NaN   \n",
      "996                NaN          NaN          NaN          NaN          NaN   \n",
      "997                NaN          NaN          NaN          NaN          NaN   \n",
      "998                NaN          NaN          NaN          NaN          NaN   \n",
      "999                NaN          NaN          NaN          NaN          NaN   \n",
      "\n",
      "           ... Sample_11 Sample_12 Sample_13 Sample_14 Sample_15 Sample_16  \\\n",
      "Condition  ...       NaN       NaN       NaN       NaN       NaN       NaN   \n",
      "0          ...  0.867357  0.986028  0.923267  0.303693  0.846103  0.121222   \n",
      "1          ...  0.966045  0.758700  0.679642  0.329348  0.026455  0.803660   \n",
      "2          ...  0.883970  0.987299  0.016064  0.204500  0.645559  0.510672   \n",
      "3          ...  0.344126  0.916156  0.064416  0.009294  0.477263  0.470260   \n",
      "...        ...       ...       ...       ...       ...       ...       ...   \n",
      "995        ...  0.404982  0.181927  0.142386  0.973122  0.870338  0.023066   \n",
      "996        ...  0.813468  0.525872  0.807871  0.909735  0.613623  0.543718   \n",
      "997        ...  0.016850  0.777336  0.306763  0.200045  0.365410  0.576154   \n",
      "998        ...  0.524959  0.199018  0.316165  0.505058  0.037600  0.625698   \n",
      "999        ...  0.971122  0.941698  0.728788  0.012663  0.328832  0.823294   \n",
      "\n",
      "          Sample_17 Sample_18 Sample_19 Sample_20  \n",
      "Condition       NaN       NaN       NaN       NaN  \n",
      "0          0.785576  0.250505  0.096030  0.943491  \n",
      "1          0.972829  0.282938  0.649075  0.265575  \n",
      "2          0.210329  0.308934  0.017607  0.644886  \n",
      "3          0.031638  0.913098  0.930264  0.514303  \n",
      "...             ...       ...       ...       ...  \n",
      "995        0.742140  0.014839  0.588636  0.902638  \n",
      "996        0.378084  0.189472  0.326730  0.570838  \n",
      "997        0.872266  0.804829  0.788041  0.256449  \n",
      "998        0.186194  0.108335  0.800612  0.429112  \n",
      "999        0.526691  0.034851  0.231929  0.212292  \n",
      "\n",
      "[1001 rows x 40 columns]\n"
     ]
    }
   ],
   "source": [
    "\n",
    "import numpy as np\n",
    "\n",
    "# Generate a mock dataset with 1000 genes and 20 samples\n",
    "num_genes = 1000\n",
    "num_samples = 20\n",
    "\n",
    "# Create a DataFrame with random gene expression values\n",
    "np.random.seed(200)  # For reproducibility\n",
    "data = np.random.rand(num_genes, num_samples)\n",
    "\n",
    "# Convert to a pandas DataFrame\n",
    "df = pd.DataFrame(data, columns=[f\"Sample_{i+1}\" for i in range(num_samples)])\n",
    "\n",
    "# Create a condition column\n",
    "conditions = [\"Condition_A\"] * (num_samples // 2) + [\"Condition_B\"] * (num_samples // 2)\n",
    "\n",
    "# Add the condition as a row or separate metadata column\n",
    "df_metadata = pd.DataFrame({\"Condition\": conditions})\n",
    "\n",
    "# Add metadata as part of the DataFrame\n",
    "df_combined = pd.concat([df_metadata.T, df])\n",
    "\n",
    "# Display the resulting dataset\n",
    "print(df_combined)   #Nan values because of index value.\n"
   ]
  },
  {
   "cell_type": "code",
   "execution_count": 11,
   "id": "ba1c5b48-ac2f-4523-b7e0-e50151263524",
   "metadata": {},
   "outputs": [
    {
     "name": "stdout",
     "output_type": "stream",
     "text": [
      "                 0         1         2         3         4         5  \\\n",
      "Sample_1  0.947632   0.82605  0.187689  0.528667  0.543325  0.056102   \n",
      "Sample_2  0.226547  0.518325  0.419048  0.611372  0.553252   0.48055   \n",
      "Sample_3   0.59442    0.8735  0.665999  0.299125  0.844636  0.819251   \n",
      "Sample_4  0.428309  0.578376  0.517412  0.889836  0.917303  0.511871   \n",
      "Sample_5  0.764141  0.450085  0.854493  0.719629  0.244693  0.026328   \n",
      "\n",
      "                 6         7         8         9  ...       991       992  \\\n",
      "Sample_1   0.93996  0.899144  0.296606  0.693464  ...  0.036145  0.586431   \n",
      "Sample_2   0.86402  0.433471  0.055452  0.327956  ...  0.440615  0.857134   \n",
      "Sample_3  0.878071  0.941217  0.213555  0.134607  ...  0.337998  0.966388   \n",
      "Sample_4  0.167944  0.543064  0.931688  0.222513  ...  0.060651  0.915119   \n",
      "Sample_5  0.099247  0.932421  0.785054  0.349234  ...  0.103689  0.830143   \n",
      "\n",
      "               993       994       995       996       997       998  \\\n",
      "Sample_1  0.913464  0.734661   0.43308  0.307514  0.673517  0.273858   \n",
      "Sample_2  0.372475  0.315231  0.159405  0.759124  0.203887  0.216931   \n",
      "Sample_3  0.670687  0.362604  0.597789  0.343156  0.310548  0.074371   \n",
      "Sample_4  0.353058  0.598561  0.175515   0.87945  0.140166  0.005079   \n",
      "Sample_5  0.023863   0.71112  0.264065  0.034946  0.990358  0.285179   \n",
      "\n",
      "               999    Condition  \n",
      "Sample_1  0.453522  Condition_A  \n",
      "Sample_2  0.533848  Condition_A  \n",
      "Sample_3  0.530983  Condition_A  \n",
      "Sample_4  0.893758  Condition_A  \n",
      "Sample_5  0.734876  Condition_A  \n",
      "\n",
      "[5 rows x 1001 columns]\n"
     ]
    }
   ],
   "source": [
    "\n",
    "import numpy as np\n",
    "\n",
    "\n",
    "# Convert to a pandas DataFrame\n",
    "df = pd.DataFrame(data, columns=[f\"Sample_{i+1}\" for i in range(num_samples)])\n",
    "\n",
    "# Create a condition column\n",
    "conditions = [\"Condition_A\"] * (num_samples // 2) + [\"Condition_B\"] * (num_samples // 2)\n",
    "\n",
    "# Add conditions as a separate row\n",
    "df.loc['Condition'] = conditions\n",
    "\n",
    "# Transpose the DataFrame to make it sample-oriented (optional for certain analyses)\n",
    "df_transposed = df.T\n",
    "\n",
    "# Display the resulting dataset\n",
    "print(df_transposed.head())\n"
   ]
  },
  {
   "cell_type": "code",
   "execution_count": 19,
   "id": "4c3aaf92-5401-48d6-98c8-8272d7a31b78",
   "metadata": {},
   "outputs": [
    {
     "name": "stdout",
     "output_type": "stream",
     "text": [
      "             Gene_1    Gene_2    Gene_3    Gene_4    Gene_5    Gene_6  \\\n",
      "Sample_1   0.947632  0.826050  0.187689  0.528667  0.543325  0.056102   \n",
      "Sample_2   0.226547  0.518325  0.419048  0.611372  0.553252  0.480550   \n",
      "Sample_3   0.594420  0.873500  0.665999  0.299125  0.844636  0.819251   \n",
      "Sample_4   0.428309  0.578376  0.517412  0.889836  0.917303  0.511871   \n",
      "Sample_5   0.764141  0.450085  0.854493  0.719629  0.244693  0.026328   \n",
      "Sample_6   0.002861  0.680157  0.171011  0.952912  0.906751  0.839052   \n",
      "Sample_7   0.357424  0.419426  0.978159  0.397107  0.689007  0.151778   \n",
      "Sample_8   0.909695  0.640393  0.301264  0.988648  0.723076  0.957347   \n",
      "Sample_9   0.456081  0.608656  0.232449  0.452488  0.296594  0.028994   \n",
      "Sample_10  0.981803  0.105434  0.791664  0.728073  0.528639  0.219077   \n",
      "Sample_11  0.867357  0.966045  0.883970  0.344126  0.172954  0.921175   \n",
      "Sample_12  0.986028  0.758700  0.987299  0.916156  0.388770  0.322944   \n",
      "Sample_13  0.923267  0.679642  0.016064  0.064416  0.005495  0.999062   \n",
      "Sample_14  0.303693  0.329348  0.204500  0.009294  0.158844  0.556098   \n",
      "Sample_15  0.846103  0.026455  0.645559  0.477263  0.766303  0.621377   \n",
      "Sample_16  0.121222  0.803660  0.510672  0.470260  0.516402  0.345320   \n",
      "Sample_17  0.785576  0.972829  0.210329  0.031638  0.678638  0.886941   \n",
      "Sample_18  0.250505  0.282938  0.308934  0.913098  0.068519  0.113212   \n",
      "Sample_19  0.096030  0.649075  0.017607  0.930264  0.868796  0.168476   \n",
      "Sample_20  0.943491  0.265575  0.644886  0.514303  0.388914  0.705707   \n",
      "\n",
      "             Gene_7    Gene_8    Gene_9   Gene_10  ...  Gene_992  Gene_993  \\\n",
      "Sample_1   0.939960  0.899144  0.296606  0.693464  ...  0.036145  0.586431   \n",
      "Sample_2   0.864020  0.433471  0.055452  0.327956  ...  0.440615  0.857134   \n",
      "Sample_3   0.878071  0.941217  0.213555  0.134607  ...  0.337998  0.966388   \n",
      "Sample_4   0.167944  0.543064  0.931688  0.222513  ...  0.060651  0.915119   \n",
      "Sample_5   0.099247  0.932421  0.785054  0.349234  ...  0.103689  0.830143   \n",
      "Sample_6   0.408568  0.459514  0.654276  0.085652  ...  0.681381  0.756258   \n",
      "Sample_7   0.000316  0.747343  0.916881  0.472655  ...  0.328575  0.841922   \n",
      "Sample_8   0.177007  0.083541  0.847856  0.128967  ...  0.375113  0.340589   \n",
      "Sample_9   0.487495  0.645902  0.873386  0.477666  ...  0.642546  0.200981   \n",
      "Sample_10  0.891954  0.495255  0.754891  0.924304  ...  0.072586  0.356388   \n",
      "Sample_11  0.601714  0.577847  0.728445  0.416593  ...  0.472210  0.163501   \n",
      "Sample_12  0.455429  0.005376  0.224173  0.066872  ...  0.920647  0.389309   \n",
      "Sample_13  0.960297  0.094818  0.533357  0.020512  ...  0.778535  0.662494   \n",
      "Sample_14  0.455670  0.642278  0.754555  0.843276  ...  0.956531  0.390899   \n",
      "Sample_15  0.447586  0.059559  0.848058  0.918883  ...  0.199481  0.886711   \n",
      "Sample_16  0.346067  0.794166  0.509206  0.056739  ...  0.149246  0.392424   \n",
      "Sample_17  0.161749  0.326589  0.105305  0.445912  ...  0.973620  0.670573   \n",
      "Sample_18  0.777726  0.954349  0.655788  0.333924  ...  0.892396  0.343352   \n",
      "Sample_19  0.261723  0.242624  0.079952  0.297097  ...  0.464041  0.450414   \n",
      "Sample_20  0.441221  0.672612  0.281054  0.974020  ...  0.471773  0.881609   \n",
      "\n",
      "           Gene_994  Gene_995  Gene_996  Gene_997  Gene_998  Gene_999  \\\n",
      "Sample_1   0.913464  0.734661  0.433080  0.307514  0.673517  0.273858   \n",
      "Sample_2   0.372475  0.315231  0.159405  0.759124  0.203887  0.216931   \n",
      "Sample_3   0.670687  0.362604  0.597789  0.343156  0.310548  0.074371   \n",
      "Sample_4   0.353058  0.598561  0.175515  0.879450  0.140166  0.005079   \n",
      "Sample_5   0.023863  0.711120  0.264065  0.034946  0.990358  0.285179   \n",
      "Sample_6   0.747564  0.245375  0.029925  0.431530  0.720909  0.472031   \n",
      "Sample_7   0.817385  0.134147  0.898183  0.361879  0.269413  0.940079   \n",
      "Sample_8   0.133101  0.596538  0.702005  0.844076  0.359164  0.247116   \n",
      "Sample_9   0.408318  0.636070  0.510986  0.275337  0.170730  0.974654   \n",
      "Sample_10  0.180327  0.940026  0.118249  0.401961  0.352500  0.826385   \n",
      "Sample_11  0.647175  0.645003  0.404982  0.813468  0.016850  0.524959   \n",
      "Sample_12  0.677893  0.306017  0.181927  0.525872  0.777336  0.199018   \n",
      "Sample_13  0.159208  0.414591  0.142386  0.807871  0.306763  0.316165   \n",
      "Sample_14  0.460413  0.485785  0.973122  0.909735  0.200045  0.505058   \n",
      "Sample_15  0.012767  0.154215  0.870338  0.613623  0.365410  0.037600   \n",
      "Sample_16  0.204908  0.689282  0.023066  0.543718  0.576154  0.625698   \n",
      "Sample_17  0.736254  0.741114  0.742140  0.378084  0.872266  0.186194   \n",
      "Sample_18  0.510990  0.482775  0.014839  0.189472  0.804829  0.108335   \n",
      "Sample_19  0.451322  0.723620  0.588636  0.326730  0.788041  0.800612   \n",
      "Sample_20  0.383079  0.811853  0.902638  0.570838  0.256449  0.429112   \n",
      "\n",
      "           Gene_1000    Condition  \n",
      "Sample_1    0.453522  Condition_A  \n",
      "Sample_2    0.533848  Condition_A  \n",
      "Sample_3    0.530983  Condition_A  \n",
      "Sample_4    0.893758  Condition_A  \n",
      "Sample_5    0.734876  Condition_A  \n",
      "Sample_6    0.834842  Condition_A  \n",
      "Sample_7    0.108146  Condition_A  \n",
      "Sample_8    0.119139  Condition_A  \n",
      "Sample_9    0.635773  Condition_A  \n",
      "Sample_10   0.585140  Condition_A  \n",
      "Sample_11   0.971122  Condition_B  \n",
      "Sample_12   0.941698  Condition_B  \n",
      "Sample_13   0.728788  Condition_B  \n",
      "Sample_14   0.012663  Condition_B  \n",
      "Sample_15   0.328832  Condition_B  \n",
      "Sample_16   0.823294  Condition_B  \n",
      "Sample_17   0.526691  Condition_B  \n",
      "Sample_18   0.034851  Condition_B  \n",
      "Sample_19   0.231929  Condition_B  \n",
      "Sample_20   0.212292  Condition_B  \n",
      "\n",
      "[20 rows x 1001 columns]\n"
     ]
    }
   ],
   "source": [
    "import pandas as pd\n",
    "import numpy as np\n",
    "\n",
    "\n",
    "# Convert to a pandas DataFrame with gene names\n",
    "df = pd.DataFrame(data, index=[f\"Gene_{i+1}\" for i in range(num_genes)],\n",
    "                  columns=[f\"Sample_{i+1}\" for i in range(num_samples)])\n",
    "\n",
    "# Create a condition column for the 20 samples (first 10 Condition A, next 10 Condition B)\n",
    "conditions = [\"Condition_A\"] * (num_samples // 2) + [\"Condition_B\"] * (num_samples // 2)\n",
    "\n",
    "# Transpose the dataset so samples become rows\n",
    "df_transposed = df.T\n",
    "\n",
    "# Add the 'Condition' column to the transposed DataFrame\n",
    "df_transposed['Condition'] = conditions\n",
    "\n",
    "# Display the resulting DataFrame\n",
    "print(df_transposed) # Print first 10 rows to check\n"
   ]
  },
  {
   "cell_type": "code",
   "execution_count": 20,
   "id": "b3594aeb-26fb-47ae-a87b-af1bd75588a3",
   "metadata": {},
   "outputs": [
    {
     "name": "stdout",
     "output_type": "stream",
     "text": [
      "         Gene   p_value\n",
      "724  Gene_725  0.000820\n",
      "775  Gene_776  0.001230\n",
      "343  Gene_344  0.002377\n",
      "330  Gene_331  0.003959\n",
      "238  Gene_239  0.004292\n",
      "977  Gene_978  0.010595\n",
      "94    Gene_95  0.010863\n",
      "24    Gene_25  0.012462\n",
      "262  Gene_263  0.012684\n",
      "307  Gene_308  0.013827\n"
     ]
    }
   ],
   "source": [
    "from scipy import stats\n",
    "condition_a_data = df_transposed[df_transposed['Condition'] == 'Condition_A'].drop(columns='Condition')\n",
    "condition_b_data = df_transposed[df_transposed['Condition'] == 'Condition_B'].drop(columns='Condition')\n",
    "\n",
    "# Initialize a list to store p-values\n",
    "p_values = []\n",
    "\n",
    "# Perform t-tests for each gene\n",
    "for gene in df.index:\n",
    "    # Get expression levels for the gene in both conditions\n",
    "    gene_condition_a = condition_a_data[gene]\n",
    "    gene_condition_b = condition_b_data[gene]\n",
    "    \n",
    "    # Perform t-test\n",
    "    t_stat, p_val = stats.ttest_ind(gene_condition_a, gene_condition_b)\n",
    "    \n",
    "    # Store p-values\n",
    "    p_values.append((gene, p_val))\n",
    "\n",
    "# Convert p-values to a DataFrame\n",
    "p_values_df = pd.DataFrame(p_values, columns=['Gene', 'p_value'])\n",
    "\n",
    "# Sort by p-value and get top 10 differentially expressed genes\n",
    "top_10_genes = p_values_df.sort_values(by='p_value').head(10)\n",
    "\n",
    "# Display the top 10 differentially expressed genes\n",
    "print(top_10_genes)"
   ]
  },
  {
   "cell_type": "code",
   "execution_count": 22,
   "id": "201c18df-d22e-45d4-bbdd-c56d6001cf2f",
   "metadata": {},
   "outputs": [
    {
     "data": {
      "application/vnd.plotly.v1+json": {
       "config": {
        "plotlyServerURL": "https://plot.ly"
       },
       "data": [
        {
         "alignmentgroup": "True",
         "hovertemplate": "Condition=Condition_A<br>Genes=%{x}<br>Expression Level=%{y}<extra></extra>",
         "legendgroup": "Condition_A",
         "marker": {
          "color": "#636efa",
          "pattern": {
           "shape": ""
          }
         },
         "name": "Condition_A",
         "offsetgroup": "Condition_A",
         "orientation": "v",
         "showlegend": true,
         "textposition": "auto",
         "type": "bar",
         "x": [
          "Gene_725",
          "Gene_725",
          "Gene_725",
          "Gene_725",
          "Gene_725",
          "Gene_725",
          "Gene_725",
          "Gene_725",
          "Gene_725",
          "Gene_725",
          "Gene_776",
          "Gene_776",
          "Gene_776",
          "Gene_776",
          "Gene_776",
          "Gene_776",
          "Gene_776",
          "Gene_776",
          "Gene_776",
          "Gene_776",
          "Gene_344",
          "Gene_344",
          "Gene_344",
          "Gene_344",
          "Gene_344",
          "Gene_344",
          "Gene_344",
          "Gene_344",
          "Gene_344",
          "Gene_344",
          "Gene_331",
          "Gene_331",
          "Gene_331",
          "Gene_331",
          "Gene_331",
          "Gene_331",
          "Gene_331",
          "Gene_331",
          "Gene_331",
          "Gene_331",
          "Gene_239",
          "Gene_239",
          "Gene_239",
          "Gene_239",
          "Gene_239",
          "Gene_239",
          "Gene_239",
          "Gene_239",
          "Gene_239",
          "Gene_239",
          "Gene_978",
          "Gene_978",
          "Gene_978",
          "Gene_978",
          "Gene_978",
          "Gene_978",
          "Gene_978",
          "Gene_978",
          "Gene_978",
          "Gene_978",
          "Gene_95",
          "Gene_95",
          "Gene_95",
          "Gene_95",
          "Gene_95",
          "Gene_95",
          "Gene_95",
          "Gene_95",
          "Gene_95",
          "Gene_95",
          "Gene_25",
          "Gene_25",
          "Gene_25",
          "Gene_25",
          "Gene_25",
          "Gene_25",
          "Gene_25",
          "Gene_25",
          "Gene_25",
          "Gene_25",
          "Gene_263",
          "Gene_263",
          "Gene_263",
          "Gene_263",
          "Gene_263",
          "Gene_263",
          "Gene_263",
          "Gene_263",
          "Gene_263",
          "Gene_263",
          "Gene_308",
          "Gene_308",
          "Gene_308",
          "Gene_308",
          "Gene_308",
          "Gene_308",
          "Gene_308",
          "Gene_308",
          "Gene_308",
          "Gene_308"
         ],
         "xaxis": "x",
         "y": [
          0.39254497164009516,
          0.2755321395382827,
          0.10231300586318948,
          0.6207921174675668,
          0.07606403241382576,
          0.01200670430720252,
          0.6521893962869374,
          0.3216384523361763,
          0.4866491389079237,
          0.5751665993180094,
          0.952018906230385,
          0.9343225361812315,
          0.47599996146493107,
          0.6688482649722949,
          0.956910186291962,
          0.9228354088223966,
          0.9136746066668257,
          0.8289808722338013,
          0.9945830810071098,
          0.21078062166347789,
          0.8491923749024661,
          0.7232409187626135,
          0.5857555184110274,
          0.805925503595685,
          0.44522819401434,
          0.9442322288749387,
          0.931954494754723,
          0.4441677214141485,
          0.9595640816872202,
          0.948107420008448,
          0.6171206516909342,
          0.8987055879029251,
          0.7620837031366711,
          0.7649254356012449,
          0.8387958179820131,
          0.08585092131997218,
          0.8126227582159002,
          0.3956239303715796,
          0.805146135964096,
          0.8028315107583813,
          0.5105921385014859,
          0.025893362356002037,
          0.4749129951626486,
          0.44595994861588506,
          0.3906003382086203,
          0.033561409874165005,
          0.29888751726074736,
          0.8993886582257381,
          0.5236856293216485,
          0.5508889066501368,
          0.45223513922659886,
          0.5689348073175415,
          0.5743555698842366,
          0.39504119024953543,
          0.6854283729696925,
          0.19516285819951518,
          0.4835316052374852,
          0.05580448143764827,
          0.029589928821700195,
          0.4501343303146478,
          0.6795007338587836,
          0.5580955162675876,
          0.7099523382877293,
          0.36541057496419127,
          0.9892422222629899,
          0.9288784211735198,
          0.7591571772344237,
          0.29923061399339,
          0.8612954083768701,
          0.9047636992141642,
          0.9908931375101785,
          0.9619954409342755,
          0.848182331813771,
          0.993823526520047,
          0.8726336647866166,
          0.8508244942118656,
          0.9558003460849177,
          0.10442793472189027,
          0.960709037379343,
          0.7269565642444197,
          0.8346182814418005,
          0.5266503480214249,
          0.9254798656843751,
          0.5669468755588807,
          0.23667444350981526,
          0.9199020755996832,
          0.5237137753615151,
          0.9772886245327675,
          0.13928396230702111,
          0.3932948440437103,
          0.375798341052789,
          0.5892213992512327,
          0.25720470191706146,
          0.24054472457120502,
          0.6832646467614544,
          0.9084168820145245,
          0.5726515309505794,
          0.1445217817109281,
          0.3148046349996737,
          0.6283951072433238
         ],
         "yaxis": "y"
        },
        {
         "alignmentgroup": "True",
         "hovertemplate": "Condition=Condition_B<br>Genes=%{x}<br>Expression Level=%{y}<extra></extra>",
         "legendgroup": "Condition_B",
         "marker": {
          "color": "#EF553B",
          "pattern": {
           "shape": ""
          }
         },
         "name": "Condition_B",
         "offsetgroup": "Condition_B",
         "orientation": "v",
         "showlegend": true,
         "textposition": "auto",
         "type": "bar",
         "x": [
          "Gene_725",
          "Gene_725",
          "Gene_725",
          "Gene_725",
          "Gene_725",
          "Gene_725",
          "Gene_725",
          "Gene_725",
          "Gene_725",
          "Gene_725",
          "Gene_776",
          "Gene_776",
          "Gene_776",
          "Gene_776",
          "Gene_776",
          "Gene_776",
          "Gene_776",
          "Gene_776",
          "Gene_776",
          "Gene_776",
          "Gene_344",
          "Gene_344",
          "Gene_344",
          "Gene_344",
          "Gene_344",
          "Gene_344",
          "Gene_344",
          "Gene_344",
          "Gene_344",
          "Gene_344",
          "Gene_331",
          "Gene_331",
          "Gene_331",
          "Gene_331",
          "Gene_331",
          "Gene_331",
          "Gene_331",
          "Gene_331",
          "Gene_331",
          "Gene_331",
          "Gene_239",
          "Gene_239",
          "Gene_239",
          "Gene_239",
          "Gene_239",
          "Gene_239",
          "Gene_239",
          "Gene_239",
          "Gene_239",
          "Gene_239",
          "Gene_978",
          "Gene_978",
          "Gene_978",
          "Gene_978",
          "Gene_978",
          "Gene_978",
          "Gene_978",
          "Gene_978",
          "Gene_978",
          "Gene_978",
          "Gene_95",
          "Gene_95",
          "Gene_95",
          "Gene_95",
          "Gene_95",
          "Gene_95",
          "Gene_95",
          "Gene_95",
          "Gene_95",
          "Gene_95",
          "Gene_25",
          "Gene_25",
          "Gene_25",
          "Gene_25",
          "Gene_25",
          "Gene_25",
          "Gene_25",
          "Gene_25",
          "Gene_25",
          "Gene_25",
          "Gene_263",
          "Gene_263",
          "Gene_263",
          "Gene_263",
          "Gene_263",
          "Gene_263",
          "Gene_263",
          "Gene_263",
          "Gene_263",
          "Gene_263",
          "Gene_308",
          "Gene_308",
          "Gene_308",
          "Gene_308",
          "Gene_308",
          "Gene_308",
          "Gene_308",
          "Gene_308",
          "Gene_308",
          "Gene_308"
         ],
         "xaxis": "x",
         "y": [
          0.9070387881599404,
          0.9321660140457873,
          0.8021994732341492,
          0.9099458427753283,
          0.8184801376365471,
          0.3574695123163836,
          0.9895298684806616,
          0.6338731979361077,
          0.603098860707498,
          0.526902503544889,
          0.3115584132421054,
          0.13379440756161654,
          0.793269698492653,
          0.08764699621998384,
          0.2806827760042985,
          0.2493050850778784,
          0.2681448550903336,
          0.31353252247883756,
          0.8376776015784444,
          0.029599067564669568,
          0.8222851224549604,
          0.24825047166533587,
          0.14819703707584564,
          0.7469587105980133,
          0.048584716902474234,
          0.09305118787675604,
          0.056586546921610026,
          0.16312928948465322,
          0.7489116037973207,
          0.39768728217601435,
          0.7705145596616156,
          0.5414596809073914,
          0.09626353230067808,
          0.09840553306084876,
          0.520951614484455,
          0.20530546150878504,
          0.1681171389408428,
          0.21519609601605227,
          0.4533242335283102,
          0.09928484929265569,
          0.987133114446177,
          0.7979041995900927,
          0.38800136423984755,
          0.48218321712005785,
          0.5825070035611185,
          0.9284696324294881,
          0.6596695954626813,
          0.9910976724296829,
          0.9900957319112359,
          0.8671525831231349,
          0.6957768372211914,
          0.8057506788506357,
          0.9537649254928909,
          0.9064049068336755,
          0.8050037258360321,
          0.9837787397782792,
          0.9150560930247003,
          0.6549014354607146,
          0.21070177581907967,
          0.21868061140455364,
          0.18260912608103352,
          0.29881548380930145,
          0.7000093237598984,
          0.6644404933777922,
          0.841630905087295,
          0.13298001432805895,
          0.4227041077462087,
          0.029555470772128833,
          0.3269512418017766,
          0.24845833239052784,
          0.954340747121856,
          0.03696493468461337,
          0.6867520349667054,
          0.49480099878059913,
          0.5630614310092866,
          0.8218103563401536,
          0.06835720927858457,
          0.39596199775331287,
          0.1281678605749128,
          0.497941958230229,
          0.11737862027614476,
          0.09964889828355161,
          0.29805410184544423,
          0.13346560263109264,
          0.3117099930163745,
          0.5763665136376658,
          0.42895363030575717,
          0.6620531225547741,
          0.1098561818147451,
          0.11060432360978456,
          0.6097200142091045,
          0.9763983999827875,
          0.9040873737050823,
          0.49665693646018216,
          0.7755389213974999,
          0.943011795408979,
          0.36827537187894355,
          0.7048208889410273,
          0.7333550437877117,
          0.9346993953328249
         ],
         "yaxis": "y"
        }
       ],
       "layout": {
        "barmode": "group",
        "legend": {
         "title": {
          "text": "Condition"
         },
         "tracegroupgap": 0
        },
        "template": {
         "data": {
          "bar": [
           {
            "error_x": {
             "color": "#2a3f5f"
            },
            "error_y": {
             "color": "#2a3f5f"
            },
            "marker": {
             "line": {
              "color": "#E5ECF6",
              "width": 0.5
             },
             "pattern": {
              "fillmode": "overlay",
              "size": 10,
              "solidity": 0.2
             }
            },
            "type": "bar"
           }
          ],
          "barpolar": [
           {
            "marker": {
             "line": {
              "color": "#E5ECF6",
              "width": 0.5
             },
             "pattern": {
              "fillmode": "overlay",
              "size": 10,
              "solidity": 0.2
             }
            },
            "type": "barpolar"
           }
          ],
          "carpet": [
           {
            "aaxis": {
             "endlinecolor": "#2a3f5f",
             "gridcolor": "white",
             "linecolor": "white",
             "minorgridcolor": "white",
             "startlinecolor": "#2a3f5f"
            },
            "baxis": {
             "endlinecolor": "#2a3f5f",
             "gridcolor": "white",
             "linecolor": "white",
             "minorgridcolor": "white",
             "startlinecolor": "#2a3f5f"
            },
            "type": "carpet"
           }
          ],
          "choropleth": [
           {
            "colorbar": {
             "outlinewidth": 0,
             "ticks": ""
            },
            "type": "choropleth"
           }
          ],
          "contour": [
           {
            "colorbar": {
             "outlinewidth": 0,
             "ticks": ""
            },
            "colorscale": [
             [
              0,
              "#0d0887"
             ],
             [
              0.1111111111111111,
              "#46039f"
             ],
             [
              0.2222222222222222,
              "#7201a8"
             ],
             [
              0.3333333333333333,
              "#9c179e"
             ],
             [
              0.4444444444444444,
              "#bd3786"
             ],
             [
              0.5555555555555556,
              "#d8576b"
             ],
             [
              0.6666666666666666,
              "#ed7953"
             ],
             [
              0.7777777777777778,
              "#fb9f3a"
             ],
             [
              0.8888888888888888,
              "#fdca26"
             ],
             [
              1,
              "#f0f921"
             ]
            ],
            "type": "contour"
           }
          ],
          "contourcarpet": [
           {
            "colorbar": {
             "outlinewidth": 0,
             "ticks": ""
            },
            "type": "contourcarpet"
           }
          ],
          "heatmap": [
           {
            "colorbar": {
             "outlinewidth": 0,
             "ticks": ""
            },
            "colorscale": [
             [
              0,
              "#0d0887"
             ],
             [
              0.1111111111111111,
              "#46039f"
             ],
             [
              0.2222222222222222,
              "#7201a8"
             ],
             [
              0.3333333333333333,
              "#9c179e"
             ],
             [
              0.4444444444444444,
              "#bd3786"
             ],
             [
              0.5555555555555556,
              "#d8576b"
             ],
             [
              0.6666666666666666,
              "#ed7953"
             ],
             [
              0.7777777777777778,
              "#fb9f3a"
             ],
             [
              0.8888888888888888,
              "#fdca26"
             ],
             [
              1,
              "#f0f921"
             ]
            ],
            "type": "heatmap"
           }
          ],
          "heatmapgl": [
           {
            "colorbar": {
             "outlinewidth": 0,
             "ticks": ""
            },
            "colorscale": [
             [
              0,
              "#0d0887"
             ],
             [
              0.1111111111111111,
              "#46039f"
             ],
             [
              0.2222222222222222,
              "#7201a8"
             ],
             [
              0.3333333333333333,
              "#9c179e"
             ],
             [
              0.4444444444444444,
              "#bd3786"
             ],
             [
              0.5555555555555556,
              "#d8576b"
             ],
             [
              0.6666666666666666,
              "#ed7953"
             ],
             [
              0.7777777777777778,
              "#fb9f3a"
             ],
             [
              0.8888888888888888,
              "#fdca26"
             ],
             [
              1,
              "#f0f921"
             ]
            ],
            "type": "heatmapgl"
           }
          ],
          "histogram": [
           {
            "marker": {
             "pattern": {
              "fillmode": "overlay",
              "size": 10,
              "solidity": 0.2
             }
            },
            "type": "histogram"
           }
          ],
          "histogram2d": [
           {
            "colorbar": {
             "outlinewidth": 0,
             "ticks": ""
            },
            "colorscale": [
             [
              0,
              "#0d0887"
             ],
             [
              0.1111111111111111,
              "#46039f"
             ],
             [
              0.2222222222222222,
              "#7201a8"
             ],
             [
              0.3333333333333333,
              "#9c179e"
             ],
             [
              0.4444444444444444,
              "#bd3786"
             ],
             [
              0.5555555555555556,
              "#d8576b"
             ],
             [
              0.6666666666666666,
              "#ed7953"
             ],
             [
              0.7777777777777778,
              "#fb9f3a"
             ],
             [
              0.8888888888888888,
              "#fdca26"
             ],
             [
              1,
              "#f0f921"
             ]
            ],
            "type": "histogram2d"
           }
          ],
          "histogram2dcontour": [
           {
            "colorbar": {
             "outlinewidth": 0,
             "ticks": ""
            },
            "colorscale": [
             [
              0,
              "#0d0887"
             ],
             [
              0.1111111111111111,
              "#46039f"
             ],
             [
              0.2222222222222222,
              "#7201a8"
             ],
             [
              0.3333333333333333,
              "#9c179e"
             ],
             [
              0.4444444444444444,
              "#bd3786"
             ],
             [
              0.5555555555555556,
              "#d8576b"
             ],
             [
              0.6666666666666666,
              "#ed7953"
             ],
             [
              0.7777777777777778,
              "#fb9f3a"
             ],
             [
              0.8888888888888888,
              "#fdca26"
             ],
             [
              1,
              "#f0f921"
             ]
            ],
            "type": "histogram2dcontour"
           }
          ],
          "mesh3d": [
           {
            "colorbar": {
             "outlinewidth": 0,
             "ticks": ""
            },
            "type": "mesh3d"
           }
          ],
          "parcoords": [
           {
            "line": {
             "colorbar": {
              "outlinewidth": 0,
              "ticks": ""
             }
            },
            "type": "parcoords"
           }
          ],
          "pie": [
           {
            "automargin": true,
            "type": "pie"
           }
          ],
          "scatter": [
           {
            "fillpattern": {
             "fillmode": "overlay",
             "size": 10,
             "solidity": 0.2
            },
            "type": "scatter"
           }
          ],
          "scatter3d": [
           {
            "line": {
             "colorbar": {
              "outlinewidth": 0,
              "ticks": ""
             }
            },
            "marker": {
             "colorbar": {
              "outlinewidth": 0,
              "ticks": ""
             }
            },
            "type": "scatter3d"
           }
          ],
          "scattercarpet": [
           {
            "marker": {
             "colorbar": {
              "outlinewidth": 0,
              "ticks": ""
             }
            },
            "type": "scattercarpet"
           }
          ],
          "scattergeo": [
           {
            "marker": {
             "colorbar": {
              "outlinewidth": 0,
              "ticks": ""
             }
            },
            "type": "scattergeo"
           }
          ],
          "scattergl": [
           {
            "marker": {
             "colorbar": {
              "outlinewidth": 0,
              "ticks": ""
             }
            },
            "type": "scattergl"
           }
          ],
          "scattermapbox": [
           {
            "marker": {
             "colorbar": {
              "outlinewidth": 0,
              "ticks": ""
             }
            },
            "type": "scattermapbox"
           }
          ],
          "scatterpolar": [
           {
            "marker": {
             "colorbar": {
              "outlinewidth": 0,
              "ticks": ""
             }
            },
            "type": "scatterpolar"
           }
          ],
          "scatterpolargl": [
           {
            "marker": {
             "colorbar": {
              "outlinewidth": 0,
              "ticks": ""
             }
            },
            "type": "scatterpolargl"
           }
          ],
          "scatterternary": [
           {
            "marker": {
             "colorbar": {
              "outlinewidth": 0,
              "ticks": ""
             }
            },
            "type": "scatterternary"
           }
          ],
          "surface": [
           {
            "colorbar": {
             "outlinewidth": 0,
             "ticks": ""
            },
            "colorscale": [
             [
              0,
              "#0d0887"
             ],
             [
              0.1111111111111111,
              "#46039f"
             ],
             [
              0.2222222222222222,
              "#7201a8"
             ],
             [
              0.3333333333333333,
              "#9c179e"
             ],
             [
              0.4444444444444444,
              "#bd3786"
             ],
             [
              0.5555555555555556,
              "#d8576b"
             ],
             [
              0.6666666666666666,
              "#ed7953"
             ],
             [
              0.7777777777777778,
              "#fb9f3a"
             ],
             [
              0.8888888888888888,
              "#fdca26"
             ],
             [
              1,
              "#f0f921"
             ]
            ],
            "type": "surface"
           }
          ],
          "table": [
           {
            "cells": {
             "fill": {
              "color": "#EBF0F8"
             },
             "line": {
              "color": "white"
             }
            },
            "header": {
             "fill": {
              "color": "#C8D4E3"
             },
             "line": {
              "color": "white"
             }
            },
            "type": "table"
           }
          ]
         },
         "layout": {
          "annotationdefaults": {
           "arrowcolor": "#2a3f5f",
           "arrowhead": 0,
           "arrowwidth": 1
          },
          "autotypenumbers": "strict",
          "coloraxis": {
           "colorbar": {
            "outlinewidth": 0,
            "ticks": ""
           }
          },
          "colorscale": {
           "diverging": [
            [
             0,
             "#8e0152"
            ],
            [
             0.1,
             "#c51b7d"
            ],
            [
             0.2,
             "#de77ae"
            ],
            [
             0.3,
             "#f1b6da"
            ],
            [
             0.4,
             "#fde0ef"
            ],
            [
             0.5,
             "#f7f7f7"
            ],
            [
             0.6,
             "#e6f5d0"
            ],
            [
             0.7,
             "#b8e186"
            ],
            [
             0.8,
             "#7fbc41"
            ],
            [
             0.9,
             "#4d9221"
            ],
            [
             1,
             "#276419"
            ]
           ],
           "sequential": [
            [
             0,
             "#0d0887"
            ],
            [
             0.1111111111111111,
             "#46039f"
            ],
            [
             0.2222222222222222,
             "#7201a8"
            ],
            [
             0.3333333333333333,
             "#9c179e"
            ],
            [
             0.4444444444444444,
             "#bd3786"
            ],
            [
             0.5555555555555556,
             "#d8576b"
            ],
            [
             0.6666666666666666,
             "#ed7953"
            ],
            [
             0.7777777777777778,
             "#fb9f3a"
            ],
            [
             0.8888888888888888,
             "#fdca26"
            ],
            [
             1,
             "#f0f921"
            ]
           ],
           "sequentialminus": [
            [
             0,
             "#0d0887"
            ],
            [
             0.1111111111111111,
             "#46039f"
            ],
            [
             0.2222222222222222,
             "#7201a8"
            ],
            [
             0.3333333333333333,
             "#9c179e"
            ],
            [
             0.4444444444444444,
             "#bd3786"
            ],
            [
             0.5555555555555556,
             "#d8576b"
            ],
            [
             0.6666666666666666,
             "#ed7953"
            ],
            [
             0.7777777777777778,
             "#fb9f3a"
            ],
            [
             0.8888888888888888,
             "#fdca26"
            ],
            [
             1,
             "#f0f921"
            ]
           ]
          },
          "colorway": [
           "#636efa",
           "#EF553B",
           "#00cc96",
           "#ab63fa",
           "#FFA15A",
           "#19d3f3",
           "#FF6692",
           "#B6E880",
           "#FF97FF",
           "#FECB52"
          ],
          "font": {
           "color": "#2a3f5f"
          },
          "geo": {
           "bgcolor": "white",
           "lakecolor": "white",
           "landcolor": "#E5ECF6",
           "showlakes": true,
           "showland": true,
           "subunitcolor": "white"
          },
          "hoverlabel": {
           "align": "left"
          },
          "hovermode": "closest",
          "mapbox": {
           "style": "light"
          },
          "paper_bgcolor": "white",
          "plot_bgcolor": "#E5ECF6",
          "polar": {
           "angularaxis": {
            "gridcolor": "white",
            "linecolor": "white",
            "ticks": ""
           },
           "bgcolor": "#E5ECF6",
           "radialaxis": {
            "gridcolor": "white",
            "linecolor": "white",
            "ticks": ""
           }
          },
          "scene": {
           "xaxis": {
            "backgroundcolor": "#E5ECF6",
            "gridcolor": "white",
            "gridwidth": 2,
            "linecolor": "white",
            "showbackground": true,
            "ticks": "",
            "zerolinecolor": "white"
           },
           "yaxis": {
            "backgroundcolor": "#E5ECF6",
            "gridcolor": "white",
            "gridwidth": 2,
            "linecolor": "white",
            "showbackground": true,
            "ticks": "",
            "zerolinecolor": "white"
           },
           "zaxis": {
            "backgroundcolor": "#E5ECF6",
            "gridcolor": "white",
            "gridwidth": 2,
            "linecolor": "white",
            "showbackground": true,
            "ticks": "",
            "zerolinecolor": "white"
           }
          },
          "shapedefaults": {
           "line": {
            "color": "#2a3f5f"
           }
          },
          "ternary": {
           "aaxis": {
            "gridcolor": "white",
            "linecolor": "white",
            "ticks": ""
           },
           "baxis": {
            "gridcolor": "white",
            "linecolor": "white",
            "ticks": ""
           },
           "bgcolor": "#E5ECF6",
           "caxis": {
            "gridcolor": "white",
            "linecolor": "white",
            "ticks": ""
           }
          },
          "title": {
           "x": 0.05
          },
          "xaxis": {
           "automargin": true,
           "gridcolor": "white",
           "linecolor": "white",
           "ticks": "",
           "title": {
            "standoff": 15
           },
           "zerolinecolor": "white",
           "zerolinewidth": 2
          },
          "yaxis": {
           "automargin": true,
           "gridcolor": "white",
           "linecolor": "white",
           "ticks": "",
           "title": {
            "standoff": 15
           },
           "zerolinecolor": "white",
           "zerolinewidth": 2
          }
         }
        },
        "title": {
         "text": "Expression Levels of Top 10 Differentially Expressed Genes"
        },
        "xaxis": {
         "anchor": "y",
         "domain": [
          0,
          1
         ],
         "title": {
          "text": "Genes"
         }
        },
        "yaxis": {
         "anchor": "x",
         "domain": [
          0,
          1
         ],
         "title": {
          "text": "Expression Level"
         }
        }
       }
      },
      "image/png": "[encoded data removed]",
      "text/html": [
       "<div>                            <div id=\"735e0293-8995-4099-80bf-6671d9e52a1b\" class=\"plotly-graph-div\" style=\"height:525px; width:100%;\"></div>            <script type=\"text/javascript\">                require([\"plotly\"], function(Plotly) {                    window.PLOTLYENV=window.PLOTLYENV || {};                                    if (document.getElementById(\"735e0293-8995-4099-80bf-6671d9e52a1b\")) {                    Plotly.newPlot(                        \"735e0293-8995-4099-80bf-6671d9e52a1b\",                        [{\"alignmentgroup\":\"True\",\"hovertemplate\":\"Condition=Condition_A\\u003cbr\\u003eGenes=%{x}\\u003cbr\\u003eExpression Level=%{y}\\u003cextra\\u003e\\u003c\\u002fextra\\u003e\",\"legendgroup\":\"Condition_A\",\"marker\":{\"color\":\"#636efa\",\"pattern\":{\"shape\":\"\"}},\"name\":\"Condition_A\",\"offsetgroup\":\"Condition_A\",\"orientation\":\"v\",\"showlegend\":true,\"textposition\":\"auto\",\"x\":[\"Gene_725\",\"Gene_725\",\"Gene_725\",\"Gene_725\",\"Gene_725\",\"Gene_725\",\"Gene_725\",\"Gene_725\",\"Gene_725\",\"Gene_725\",\"Gene_776\",\"Gene_776\",\"Gene_776\",\"Gene_776\",\"Gene_776\",\"Gene_776\",\"Gene_776\",\"Gene_776\",\"Gene_776\",\"Gene_776\",\"Gene_344\",\"Gene_344\",\"Gene_344\",\"Gene_344\",\"Gene_344\",\"Gene_344\",\"Gene_344\",\"Gene_344\",\"Gene_344\",\"Gene_344\",\"Gene_331\",\"Gene_331\",\"Gene_331\",\"Gene_331\",\"Gene_331\",\"Gene_331\",\"Gene_331\",\"Gene_331\",\"Gene_331\",\"Gene_331\",\"Gene_239\",\"Gene_239\",\"Gene_239\",\"Gene_239\",\"Gene_239\",\"Gene_239\",\"Gene_239\",\"Gene_239\",\"Gene_239\",\"Gene_239\",\"Gene_978\",\"Gene_978\",\"Gene_978\",\"Gene_978\",\"Gene_978\",\"Gene_978\",\"Gene_978\",\"Gene_978\",\"Gene_978\",\"Gene_978\",\"Gene_95\",\"Gene_95\",\"Gene_95\",\"Gene_95\",\"Gene_95\",\"Gene_95\",\"Gene_95\",\"Gene_95\",\"Gene_95\",\"Gene_95\",\"Gene_25\",\"Gene_25\",\"Gene_25\",\"Gene_25\",\"Gene_25\",\"Gene_25\",\"Gene_25\",\"Gene_25\",\"Gene_25\",\"Gene_25\",\"Gene_263\",\"Gene_263\",\"Gene_263\",\"Gene_263\",\"Gene_263\",\"Gene_263\",\"Gene_263\",\"Gene_263\",\"Gene_263\",\"Gene_263\",\"Gene_308\",\"Gene_308\",\"Gene_308\",\"Gene_308\",\"Gene_308\",\"Gene_308\",\"Gene_308\",\"Gene_308\",\"Gene_308\",\"Gene_308\"],\"xaxis\":\"x\",\"y\":[0.39254497164009516,0.2755321395382827,0.10231300586318948,0.6207921174675668,0.07606403241382576,0.01200670430720252,0.6521893962869374,0.3216384523361763,0.4866491389079237,0.5751665993180094,0.952018906230385,0.9343225361812315,0.47599996146493107,0.6688482649722949,0.956910186291962,0.9228354088223966,0.9136746066668257,0.8289808722338013,0.9945830810071098,0.21078062166347789,0.8491923749024661,0.7232409187626135,0.5857555184110274,0.805925503595685,0.44522819401434,0.9442322288749387,0.931954494754723,0.4441677214141485,0.9595640816872202,0.948107420008448,0.6171206516909342,0.8987055879029251,0.7620837031366711,0.7649254356012449,0.8387958179820131,0.08585092131997218,0.8126227582159002,0.3956239303715796,0.805146135964096,0.8028315107583813,0.5105921385014859,0.025893362356002037,0.4749129951626486,0.44595994861588506,0.3906003382086203,0.033561409874165005,0.29888751726074736,0.8993886582257381,0.5236856293216485,0.5508889066501368,0.45223513922659886,0.5689348073175415,0.5743555698842366,0.39504119024953543,0.6854283729696925,0.19516285819951518,0.4835316052374852,0.05580448143764827,0.029589928821700195,0.4501343303146478,0.6795007338587836,0.5580955162675876,0.7099523382877293,0.36541057496419127,0.9892422222629899,0.9288784211735198,0.7591571772344237,0.29923061399339,0.8612954083768701,0.9047636992141642,0.9908931375101785,0.9619954409342755,0.848182331813771,0.993823526520047,0.8726336647866166,0.8508244942118656,0.9558003460849177,0.10442793472189027,0.960709037379343,0.7269565642444197,0.8346182814418005,0.5266503480214249,0.9254798656843751,0.5669468755588807,0.23667444350981526,0.9199020755996832,0.5237137753615151,0.9772886245327675,0.13928396230702111,0.3932948440437103,0.375798341052789,0.5892213992512327,0.25720470191706146,0.24054472457120502,0.6832646467614544,0.9084168820145245,0.5726515309505794,0.1445217817109281,0.3148046349996737,0.6283951072433238],\"yaxis\":\"y\",\"type\":\"bar\"},{\"alignmentgroup\":\"True\",\"hovertemplate\":\"Condition=Condition_B\\u003cbr\\u003eGenes=%{x}\\u003cbr\\u003eExpression Level=%{y}\\u003cextra\\u003e\\u003c\\u002fextra\\u003e\",\"legendgroup\":\"Condition_B\",\"marker\":{\"color\":\"#EF553B\",\"pattern\":{\"shape\":\"\"}},\"name\":\"Condition_B\",\"offsetgroup\":\"Condition_B\",\"orientation\":\"v\",\"showlegend\":true,\"textposition\":\"auto\",\"x\":[\"Gene_725\",\"Gene_725\",\"Gene_725\",\"Gene_725\",\"Gene_725\",\"Gene_725\",\"Gene_725\",\"Gene_725\",\"Gene_725\",\"Gene_725\",\"Gene_776\",\"Gene_776\",\"Gene_776\",\"Gene_776\",\"Gene_776\",\"Gene_776\",\"Gene_776\",\"Gene_776\",\"Gene_776\",\"Gene_776\",\"Gene_344\",\"Gene_344\",\"Gene_344\",\"Gene_344\",\"Gene_344\",\"Gene_344\",\"Gene_344\",\"Gene_344\",\"Gene_344\",\"Gene_344\",\"Gene_331\",\"Gene_331\",\"Gene_331\",\"Gene_331\",\"Gene_331\",\"Gene_331\",\"Gene_331\",\"Gene_331\",\"Gene_331\",\"Gene_331\",\"Gene_239\",\"Gene_239\",\"Gene_239\",\"Gene_239\",\"Gene_239\",\"Gene_239\",\"Gene_239\",\"Gene_239\",\"Gene_239\",\"Gene_239\",\"Gene_978\",\"Gene_978\",\"Gene_978\",\"Gene_978\",\"Gene_978\",\"Gene_978\",\"Gene_978\",\"Gene_978\",\"Gene_978\",\"Gene_978\",\"Gene_95\",\"Gene_95\",\"Gene_95\",\"Gene_95\",\"Gene_95\",\"Gene_95\",\"Gene_95\",\"Gene_95\",\"Gene_95\",\"Gene_95\",\"Gene_25\",\"Gene_25\",\"Gene_25\",\"Gene_25\",\"Gene_25\",\"Gene_25\",\"Gene_25\",\"Gene_25\",\"Gene_25\",\"Gene_25\",\"Gene_263\",\"Gene_263\",\"Gene_263\",\"Gene_263\",\"Gene_263\",\"Gene_263\",\"Gene_263\",\"Gene_263\",\"Gene_263\",\"Gene_263\",\"Gene_308\",\"Gene_308\",\"Gene_308\",\"Gene_308\",\"Gene_308\",\"Gene_308\",\"Gene_308\",\"Gene_308\",\"Gene_308\",\"Gene_308\"],\"xaxis\":\"x\",\"y\":[0.9070387881599404,0.9321660140457873,0.8021994732341492,0.9099458427753283,0.8184801376365471,0.3574695123163836,0.9895298684806616,0.6338731979361077,0.603098860707498,0.526902503544889,0.3115584132421054,0.13379440756161654,0.793269698492653,0.08764699621998384,0.2806827760042985,0.2493050850778784,0.2681448550903336,0.31353252247883756,0.8376776015784444,0.029599067564669568,0.8222851224549604,0.24825047166533587,0.14819703707584564,0.7469587105980133,0.048584716902474234,0.09305118787675604,0.056586546921610026,0.16312928948465322,0.7489116037973207,0.39768728217601435,0.7705145596616156,0.5414596809073914,0.09626353230067808,0.09840553306084876,0.520951614484455,0.20530546150878504,0.1681171389408428,0.21519609601605227,0.4533242335283102,0.09928484929265569,0.987133114446177,0.7979041995900927,0.38800136423984755,0.48218321712005785,0.5825070035611185,0.9284696324294881,0.6596695954626813,0.9910976724296829,0.9900957319112359,0.8671525831231349,0.6957768372211914,0.8057506788506357,0.9537649254928909,0.9064049068336755,0.8050037258360321,0.9837787397782792,0.9150560930247003,0.6549014354607146,0.21070177581907967,0.21868061140455364,0.18260912608103352,0.29881548380930145,0.7000093237598984,0.6644404933777922,0.841630905087295,0.13298001432805895,0.4227041077462087,0.029555470772128833,0.3269512418017766,0.24845833239052784,0.954340747121856,0.03696493468461337,0.6867520349667054,0.49480099878059913,0.5630614310092866,0.8218103563401536,0.06835720927858457,0.39596199775331287,0.1281678605749128,0.497941958230229,0.11737862027614476,0.09964889828355161,0.29805410184544423,0.13346560263109264,0.3117099930163745,0.5763665136376658,0.42895363030575717,0.6620531225547741,0.1098561818147451,0.11060432360978456,0.6097200142091045,0.9763983999827875,0.9040873737050823,0.49665693646018216,0.7755389213974999,0.943011795408979,0.36827537187894355,0.7048208889410273,0.7333550437877117,0.9346993953328249],\"yaxis\":\"y\",\"type\":\"bar\"}],                        {\"template\":{\"data\":{\"histogram2dcontour\":[{\"type\":\"histogram2dcontour\",\"colorbar\":{\"outlinewidth\":0,\"ticks\":\"\"},\"colorscale\":[[0.0,\"#0d0887\"],[0.1111111111111111,\"#46039f\"],[0.2222222222222222,\"#7201a8\"],[0.3333333333333333,\"#9c179e\"],[0.4444444444444444,\"#bd3786\"],[0.5555555555555556,\"#d8576b\"],[0.6666666666666666,\"#ed7953\"],[0.7777777777777778,\"#fb9f3a\"],[0.8888888888888888,\"#fdca26\"],[1.0,\"#f0f921\"]]}],\"choropleth\":[{\"type\":\"choropleth\",\"colorbar\":{\"outlinewidth\":0,\"ticks\":\"\"}}],\"histogram2d\":[{\"type\":\"histogram2d\",\"colorbar\":{\"outlinewidth\":0,\"ticks\":\"\"},\"colorscale\":[[0.0,\"#0d0887\"],[0.1111111111111111,\"#46039f\"],[0.2222222222222222,\"#7201a8\"],[0.3333333333333333,\"#9c179e\"],[0.4444444444444444,\"#bd3786\"],[0.5555555555555556,\"#d8576b\"],[0.6666666666666666,\"#ed7953\"],[0.7777777777777778,\"#fb9f3a\"],[0.8888888888888888,\"#fdca26\"],[1.0,\"#f0f921\"]]}],\"heatmap\":[{\"type\":\"heatmap\",\"colorbar\":{\"outlinewidth\":0,\"ticks\":\"\"},\"colorscale\":[[0.0,\"#0d0887\"],[0.1111111111111111,\"#46039f\"],[0.2222222222222222,\"#7201a8\"],[0.3333333333333333,\"#9c179e\"],[0.4444444444444444,\"#bd3786\"],[0.5555555555555556,\"#d8576b\"],[0.6666666666666666,\"#ed7953\"],[0.7777777777777778,\"#fb9f3a\"],[0.8888888888888888,\"#fdca26\"],[1.0,\"#f0f921\"]]}],\"heatmapgl\":[{\"type\":\"heatmapgl\",\"colorbar\":{\"outlinewidth\":0,\"ticks\":\"\"},\"colorscale\":[[0.0,\"#0d0887\"],[0.1111111111111111,\"#46039f\"],[0.2222222222222222,\"#7201a8\"],[0.3333333333333333,\"#9c179e\"],[0.4444444444444444,\"#bd3786\"],[0.5555555555555556,\"#d8576b\"],[0.6666666666666666,\"#ed7953\"],[0.7777777777777778,\"#fb9f3a\"],[0.8888888888888888,\"#fdca26\"],[1.0,\"#f0f921\"]]}],\"contourcarpet\":[{\"type\":\"contourcarpet\",\"colorbar\":{\"outlinewidth\":0,\"ticks\":\"\"}}],\"contour\":[{\"type\":\"contour\",\"colorbar\":{\"outlinewidth\":0,\"ticks\":\"\"},\"colorscale\":[[0.0,\"#0d0887\"],[0.1111111111111111,\"#46039f\"],[0.2222222222222222,\"#7201a8\"],[0.3333333333333333,\"#9c179e\"],[0.4444444444444444,\"#bd3786\"],[0.5555555555555556,\"#d8576b\"],[0.6666666666666666,\"#ed7953\"],[0.7777777777777778,\"#fb9f3a\"],[0.8888888888888888,\"#fdca26\"],[1.0,\"#f0f921\"]]}],\"surface\":[{\"type\":\"surface\",\"colorbar\":{\"outlinewidth\":0,\"ticks\":\"\"},\"colorscale\":[[0.0,\"#0d0887\"],[0.1111111111111111,\"#46039f\"],[0.2222222222222222,\"#7201a8\"],[0.3333333333333333,\"#9c179e\"],[0.4444444444444444,\"#bd3786\"],[0.5555555555555556,\"#d8576b\"],[0.6666666666666666,\"#ed7953\"],[0.7777777777777778,\"#fb9f3a\"],[0.8888888888888888,\"#fdca26\"],[1.0,\"#f0f921\"]]}],\"mesh3d\":[{\"type\":\"mesh3d\",\"colorbar\":{\"outlinewidth\":0,\"ticks\":\"\"}}],\"scatter\":[{\"fillpattern\":{\"fillmode\":\"overlay\",\"size\":10,\"solidity\":0.2},\"type\":\"scatter\"}],\"parcoords\":[{\"type\":\"parcoords\",\"line\":{\"colorbar\":{\"outlinewidth\":0,\"ticks\":\"\"}}}],\"scatterpolargl\":[{\"type\":\"scatterpolargl\",\"marker\":{\"colorbar\":{\"outlinewidth\":0,\"ticks\":\"\"}}}],\"bar\":[{\"error_x\":{\"color\":\"#2a3f5f\"},\"error_y\":{\"color\":\"#2a3f5f\"},\"marker\":{\"line\":{\"color\":\"#E5ECF6\",\"width\":0.5},\"pattern\":{\"fillmode\":\"overlay\",\"size\":10,\"solidity\":0.2}},\"type\":\"bar\"}],\"scattergeo\":[{\"type\":\"scattergeo\",\"marker\":{\"colorbar\":{\"outlinewidth\":0,\"ticks\":\"\"}}}],\"scatterpolar\":[{\"type\":\"scatterpolar\",\"marker\":{\"colorbar\":{\"outlinewidth\":0,\"ticks\":\"\"}}}],\"histogram\":[{\"marker\":{\"pattern\":{\"fillmode\":\"overlay\",\"size\":10,\"solidity\":0.2}},\"type\":\"histogram\"}],\"scattergl\":[{\"type\":\"scattergl\",\"marker\":{\"colorbar\":{\"outlinewidth\":0,\"ticks\":\"\"}}}],\"scatter3d\":[{\"type\":\"scatter3d\",\"line\":{\"colorbar\":{\"outlinewidth\":0,\"ticks\":\"\"}},\"marker\":{\"colorbar\":{\"outlinewidth\":0,\"ticks\":\"\"}}}],\"scattermapbox\":[{\"type\":\"scattermapbox\",\"marker\":{\"colorbar\":{\"outlinewidth\":0,\"ticks\":\"\"}}}],\"scatterternary\":[{\"type\":\"scatterternary\",\"marker\":{\"colorbar\":{\"outlinewidth\":0,\"ticks\":\"\"}}}],\"scattercarpet\":[{\"type\":\"scattercarpet\",\"marker\":{\"colorbar\":{\"outlinewidth\":0,\"ticks\":\"\"}}}],\"carpet\":[{\"aaxis\":{\"endlinecolor\":\"#2a3f5f\",\"gridcolor\":\"white\",\"linecolor\":\"white\",\"minorgridcolor\":\"white\",\"startlinecolor\":\"#2a3f5f\"},\"baxis\":{\"endlinecolor\":\"#2a3f5f\",\"gridcolor\":\"white\",\"linecolor\":\"white\",\"minorgridcolor\":\"white\",\"startlinecolor\":\"#2a3f5f\"},\"type\":\"carpet\"}],\"table\":[{\"cells\":{\"fill\":{\"color\":\"#EBF0F8\"},\"line\":{\"color\":\"white\"}},\"header\":{\"fill\":{\"color\":\"#C8D4E3\"},\"line\":{\"color\":\"white\"}},\"type\":\"table\"}],\"barpolar\":[{\"marker\":{\"line\":{\"color\":\"#E5ECF6\",\"width\":0.5},\"pattern\":{\"fillmode\":\"overlay\",\"size\":10,\"solidity\":0.2}},\"type\":\"barpolar\"}],\"pie\":[{\"automargin\":true,\"type\":\"pie\"}]},\"layout\":{\"autotypenumbers\":\"strict\",\"colorway\":[\"#636efa\",\"#EF553B\",\"#00cc96\",\"#ab63fa\",\"#FFA15A\",\"#19d3f3\",\"#FF6692\",\"#B6E880\",\"#FF97FF\",\"#FECB52\"],\"font\":{\"color\":\"#2a3f5f\"},\"hovermode\":\"closest\",\"hoverlabel\":{\"align\":\"left\"},\"paper_bgcolor\":\"white\",\"plot_bgcolor\":\"#E5ECF6\",\"polar\":{\"bgcolor\":\"#E5ECF6\",\"angularaxis\":{\"gridcolor\":\"white\",\"linecolor\":\"white\",\"ticks\":\"\"},\"radialaxis\":{\"gridcolor\":\"white\",\"linecolor\":\"white\",\"ticks\":\"\"}},\"ternary\":{\"bgcolor\":\"#E5ECF6\",\"aaxis\":{\"gridcolor\":\"white\",\"linecolor\":\"white\",\"ticks\":\"\"},\"baxis\":{\"gridcolor\":\"white\",\"linecolor\":\"white\",\"ticks\":\"\"},\"caxis\":{\"gridcolor\":\"white\",\"linecolor\":\"white\",\"ticks\":\"\"}},\"coloraxis\":{\"colorbar\":{\"outlinewidth\":0,\"ticks\":\"\"}},\"colorscale\":{\"sequential\":[[0.0,\"#0d0887\"],[0.1111111111111111,\"#46039f\"],[0.2222222222222222,\"#7201a8\"],[0.3333333333333333,\"#9c179e\"],[0.4444444444444444,\"#bd3786\"],[0.5555555555555556,\"#d8576b\"],[0.6666666666666666,\"#ed7953\"],[0.7777777777777778,\"#fb9f3a\"],[0.8888888888888888,\"#fdca26\"],[1.0,\"#f0f921\"]],\"sequentialminus\":[[0.0,\"#0d0887\"],[0.1111111111111111,\"#46039f\"],[0.2222222222222222,\"#7201a8\"],[0.3333333333333333,\"#9c179e\"],[0.4444444444444444,\"#bd3786\"],[0.5555555555555556,\"#d8576b\"],[0.6666666666666666,\"#ed7953\"],[0.7777777777777778,\"#fb9f3a\"],[0.8888888888888888,\"#fdca26\"],[1.0,\"#f0f921\"]],\"diverging\":[[0,\"#8e0152\"],[0.1,\"#c51b7d\"],[0.2,\"#de77ae\"],[0.3,\"#f1b6da\"],[0.4,\"#fde0ef\"],[0.5,\"#f7f7f7\"],[0.6,\"#e6f5d0\"],[0.7,\"#b8e186\"],[0.8,\"#7fbc41\"],[0.9,\"#4d9221\"],[1,\"#276419\"]]},\"xaxis\":{\"gridcolor\":\"white\",\"linecolor\":\"white\",\"ticks\":\"\",\"title\":{\"standoff\":15},\"zerolinecolor\":\"white\",\"automargin\":true,\"zerolinewidth\":2},\"yaxis\":{\"gridcolor\":\"white\",\"linecolor\":\"white\",\"ticks\":\"\",\"title\":{\"standoff\":15},\"zerolinecolor\":\"white\",\"automargin\":true,\"zerolinewidth\":2},\"scene\":{\"xaxis\":{\"backgroundcolor\":\"#E5ECF6\",\"gridcolor\":\"white\",\"linecolor\":\"white\",\"showbackground\":true,\"ticks\":\"\",\"zerolinecolor\":\"white\",\"gridwidth\":2},\"yaxis\":{\"backgroundcolor\":\"#E5ECF6\",\"gridcolor\":\"white\",\"linecolor\":\"white\",\"showbackground\":true,\"ticks\":\"\",\"zerolinecolor\":\"white\",\"gridwidth\":2},\"zaxis\":{\"backgroundcolor\":\"#E5ECF6\",\"gridcolor\":\"white\",\"linecolor\":\"white\",\"showbackground\":true,\"ticks\":\"\",\"zerolinecolor\":\"white\",\"gridwidth\":2}},\"shapedefaults\":{\"line\":{\"color\":\"#2a3f5f\"}},\"annotationdefaults\":{\"arrowcolor\":\"#2a3f5f\",\"arrowhead\":0,\"arrowwidth\":1},\"geo\":{\"bgcolor\":\"white\",\"landcolor\":\"#E5ECF6\",\"subunitcolor\":\"white\",\"showland\":true,\"showlakes\":true,\"lakecolor\":\"white\"},\"title\":{\"x\":0.05},\"mapbox\":{\"style\":\"light\"}}},\"xaxis\":{\"anchor\":\"y\",\"domain\":[0.0,1.0],\"title\":{\"text\":\"Genes\"}},\"yaxis\":{\"anchor\":\"x\",\"domain\":[0.0,1.0],\"title\":{\"text\":\"Expression Level\"}},\"legend\":{\"title\":{\"text\":\"Condition\"},\"tracegroupgap\":0},\"title\":{\"text\":\"Expression Levels of Top 10 Differentially Expressed Genes\"},\"barmode\":\"group\"},                        {\"responsive\": true}                    ).then(function(){\n",
       "                            \n",
       "var gd = document.getElementById('735e0293-8995-4099-80bf-6671d9e52a1b');\n",
       "var x = new MutationObserver(function (mutations, observer) {{\n",
       "        var display = window.getComputedStyle(gd).display;\n",
       "        if (!display || display === 'none') {{\n",
       "            console.log([gd, 'removed!']);\n",
       "            Plotly.purge(gd);\n",
       "            observer.disconnect();\n",
       "        }}\n",
       "}});\n",
       "\n",
       "// Listen for the removal of the full notebook cells\n",
       "var notebookContainer = gd.closest('#notebook-container');\n",
       "if (notebookContainer) {{\n",
       "    x.observe(notebookContainer, {childList: true});\n",
       "}}\n",
       "\n",
       "// Listen for the clearing of the current output cell\n",
       "var outputEl = gd.closest('.output');\n",
       "if (outputEl) {{\n",
       "    x.observe(outputEl, {childList: true});\n",
       "}}\n",
       "\n",
       "                        })                };                });            </script>        </div>"
      ]
     },
     "metadata": {},
     "output_type": "display_data"
    }
   ],
   "source": [
    "\n",
    "import plotly.express as px\n",
    "\n",
    "# Assuming `top_10_genes` and `df_transposed` are available from previous steps\n",
    "\n",
    "# Select the top 10 differentially expressed genes\n",
    "top_genes = top_10_genes['Gene']\n",
    "\n",
    "# Filter the original data for the top 10 genes\n",
    "top_genes_data = df_transposed[top_genes].copy()\n",
    "top_genes_data['Condition'] = df_transposed['Condition']\n",
    "\n",
    "# Melt the data for plotting\n",
    "top_genes_melted = top_genes_data.melt(id_vars=['Condition'], \n",
    "                                       var_name='Gene', \n",
    "                                       value_name='Expression_Level')\n",
    "\n",
    "# Create a bar plot\n",
    "fig = px.bar(\n",
    "    top_genes_melted, \n",
    "    x='Gene', \n",
    "    y='Expression_Level', \n",
    "    color='Condition',\n",
    "    barmode='group',\n",
    "    title='Expression Levels of Top 10 Differentially Expressed Genes',\n",
    "    labels={'Expression_Level': 'Expression Level', 'Gene': 'Genes'}\n",
    ")\n",
    "\n",
    "# Show the plot\n",
    "fig.show()\n",
    "\n"
   ]
  },
  {
   "cell_type": "code",
   "execution_count": 17,
   "id": "f31b2a8a-b329-46cf-a5a7-d8a4d034439e",
   "metadata": {},
   "outputs": [
    {
     "data": {
      "application/vnd.plotly.v1+json": {
       "config": {
        "plotlyServerURL": "https://plot.ly"
       },
       "data": [
        {
         "alignmentgroup": "True",
         "hovertemplate": "Condition=Condition_A<br>Genes=%{x}<br>Expression Level=%{y}<extra></extra>",
         "legendgroup": "Condition_A",
         "marker": {
          "color": "#636efa"
         },
         "name": "Condition_A",
         "notched": false,
         "offsetgroup": "Condition_A",
         "orientation": "v",
         "showlegend": true,
         "type": "box",
         "x": [
          "Gene_725",
          "Gene_725",
          "Gene_725",
          "Gene_725",
          "Gene_725",
          "Gene_725",
          "Gene_725",
          "Gene_725",
          "Gene_725",
          "Gene_725",
          "Gene_776",
          "Gene_776",
          "Gene_776",
          "Gene_776",
          "Gene_776",
          "Gene_776",
          "Gene_776",
          "Gene_776",
          "Gene_776",
          "Gene_776",
          "Gene_344",
          "Gene_344",
          "Gene_344",
          "Gene_344",
          "Gene_344",
          "Gene_344",
          "Gene_344",
          "Gene_344",
          "Gene_344",
          "Gene_344",
          "Gene_331",
          "Gene_331",
          "Gene_331",
          "Gene_331",
          "Gene_331",
          "Gene_331",
          "Gene_331",
          "Gene_331",
          "Gene_331",
          "Gene_331",
          "Gene_239",
          "Gene_239",
          "Gene_239",
          "Gene_239",
          "Gene_239",
          "Gene_239",
          "Gene_239",
          "Gene_239",
          "Gene_239",
          "Gene_239",
          "Gene_978",
          "Gene_978",
          "Gene_978",
          "Gene_978",
          "Gene_978",
          "Gene_978",
          "Gene_978",
          "Gene_978",
          "Gene_978",
          "Gene_978",
          "Gene_95",
          "Gene_95",
          "Gene_95",
          "Gene_95",
          "Gene_95",
          "Gene_95",
          "Gene_95",
          "Gene_95",
          "Gene_95",
          "Gene_95",
          "Gene_25",
          "Gene_25",
          "Gene_25",
          "Gene_25",
          "Gene_25",
          "Gene_25",
          "Gene_25",
          "Gene_25",
          "Gene_25",
          "Gene_25",
          "Gene_263",
          "Gene_263",
          "Gene_263",
          "Gene_263",
          "Gene_263",
          "Gene_263",
          "Gene_263",
          "Gene_263",
          "Gene_263",
          "Gene_263",
          "Gene_308",
          "Gene_308",
          "Gene_308",
          "Gene_308",
          "Gene_308",
          "Gene_308",
          "Gene_308",
          "Gene_308",
          "Gene_308",
          "Gene_308"
         ],
         "x0": " ",
         "xaxis": "x",
         "y": [
          0.39254497164009516,
          0.2755321395382827,
          0.10231300586318948,
          0.6207921174675668,
          0.07606403241382576,
          0.01200670430720252,
          0.6521893962869374,
          0.3216384523361763,
          0.4866491389079237,
          0.5751665993180094,
          0.952018906230385,
          0.9343225361812315,
          0.47599996146493107,
          0.6688482649722949,
          0.956910186291962,
          0.9228354088223966,
          0.9136746066668257,
          0.8289808722338013,
          0.9945830810071098,
          0.21078062166347789,
          0.8491923749024661,
          0.7232409187626135,
          0.5857555184110274,
          0.805925503595685,
          0.44522819401434,
          0.9442322288749387,
          0.931954494754723,
          0.4441677214141485,
          0.9595640816872202,
          0.948107420008448,
          0.6171206516909342,
          0.8987055879029251,
          0.7620837031366711,
          0.7649254356012449,
          0.8387958179820131,
          0.08585092131997218,
          0.8126227582159002,
          0.3956239303715796,
          0.805146135964096,
          0.8028315107583813,
          0.5105921385014859,
          0.025893362356002037,
          0.4749129951626486,
          0.44595994861588506,
          0.3906003382086203,
          0.033561409874165005,
          0.29888751726074736,
          0.8993886582257381,
          0.5236856293216485,
          0.5508889066501368,
          0.45223513922659886,
          0.5689348073175415,
          0.5743555698842366,
          0.39504119024953543,
          0.6854283729696925,
          0.19516285819951518,
          0.4835316052374852,
          0.05580448143764827,
          0.029589928821700195,
          0.4501343303146478,
          0.6795007338587836,
          0.5580955162675876,
          0.7099523382877293,
          0.36541057496419127,
          0.9892422222629899,
          0.9288784211735198,
          0.7591571772344237,
          0.29923061399339,
          0.8612954083768701,
          0.9047636992141642,
          0.9908931375101785,
          0.9619954409342755,
          0.848182331813771,
          0.993823526520047,
          0.8726336647866166,
          0.8508244942118656,
          0.9558003460849177,
          0.10442793472189027,
          0.960709037379343,
          0.7269565642444197,
          0.8346182814418005,
          0.5266503480214249,
          0.9254798656843751,
          0.5669468755588807,
          0.23667444350981526,
          0.9199020755996832,
          0.5237137753615151,
          0.9772886245327675,
          0.13928396230702111,
          0.3932948440437103,
          0.375798341052789,
          0.5892213992512327,
          0.25720470191706146,
          0.24054472457120502,
          0.6832646467614544,
          0.9084168820145245,
          0.5726515309505794,
          0.1445217817109281,
          0.3148046349996737,
          0.6283951072433238
         ],
         "y0": " ",
         "yaxis": "y"
        },
        {
         "alignmentgroup": "True",
         "hovertemplate": "Condition=Condition_B<br>Genes=%{x}<br>Expression Level=%{y}<extra></extra>",
         "legendgroup": "Condition_B",
         "marker": {
          "color": "#EF553B"
         },
         "name": "Condition_B",
         "notched": false,
         "offsetgroup": "Condition_B",
         "orientation": "v",
         "showlegend": true,
         "type": "box",
         "x": [
          "Gene_725",
          "Gene_725",
          "Gene_725",
          "Gene_725",
          "Gene_725",
          "Gene_725",
          "Gene_725",
          "Gene_725",
          "Gene_725",
          "Gene_725",
          "Gene_776",
          "Gene_776",
          "Gene_776",
          "Gene_776",
          "Gene_776",
          "Gene_776",
          "Gene_776",
          "Gene_776",
          "Gene_776",
          "Gene_776",
          "Gene_344",
          "Gene_344",
          "Gene_344",
          "Gene_344",
          "Gene_344",
          "Gene_344",
          "Gene_344",
          "Gene_344",
          "Gene_344",
          "Gene_344",
          "Gene_331",
          "Gene_331",
          "Gene_331",
          "Gene_331",
          "Gene_331",
          "Gene_331",
          "Gene_331",
          "Gene_331",
          "Gene_331",
          "Gene_331",
          "Gene_239",
          "Gene_239",
          "Gene_239",
          "Gene_239",
          "Gene_239",
          "Gene_239",
          "Gene_239",
          "Gene_239",
          "Gene_239",
          "Gene_239",
          "Gene_978",
          "Gene_978",
          "Gene_978",
          "Gene_978",
          "Gene_978",
          "Gene_978",
          "Gene_978",
          "Gene_978",
          "Gene_978",
          "Gene_978",
          "Gene_95",
          "Gene_95",
          "Gene_95",
          "Gene_95",
          "Gene_95",
          "Gene_95",
          "Gene_95",
          "Gene_95",
          "Gene_95",
          "Gene_95",
          "Gene_25",
          "Gene_25",
          "Gene_25",
          "Gene_25",
          "Gene_25",
          "Gene_25",
          "Gene_25",
          "Gene_25",
          "Gene_25",
          "Gene_25",
          "Gene_263",
          "Gene_263",
          "Gene_263",
          "Gene_263",
          "Gene_263",
          "Gene_263",
          "Gene_263",
          "Gene_263",
          "Gene_263",
          "Gene_263",
          "Gene_308",
          "Gene_308",
          "Gene_308",
          "Gene_308",
          "Gene_308",
          "Gene_308",
          "Gene_308",
          "Gene_308",
          "Gene_308",
          "Gene_308"
         ],
         "x0": " ",
         "xaxis": "x",
         "y": [
          0.9070387881599404,
          0.9321660140457873,
          0.8021994732341492,
          0.9099458427753283,
          0.8184801376365471,
          0.3574695123163836,
          0.9895298684806616,
          0.6338731979361077,
          0.603098860707498,
          0.526902503544889,
          0.3115584132421054,
          0.13379440756161654,
          0.793269698492653,
          0.08764699621998384,
          0.2806827760042985,
          0.2493050850778784,
          0.2681448550903336,
          0.31353252247883756,
          0.8376776015784444,
          0.029599067564669568,
          0.8222851224549604,
          0.24825047166533587,
          0.14819703707584564,
          0.7469587105980133,
          0.048584716902474234,
          0.09305118787675604,
          0.056586546921610026,
          0.16312928948465322,
          0.7489116037973207,
          0.39768728217601435,
          0.7705145596616156,
          0.5414596809073914,
          0.09626353230067808,
          0.09840553306084876,
          0.520951614484455,
          0.20530546150878504,
          0.1681171389408428,
          0.21519609601605227,
          0.4533242335283102,
          0.09928484929265569,
          0.987133114446177,
          0.7979041995900927,
          0.38800136423984755,
          0.48218321712005785,
          0.5825070035611185,
          0.9284696324294881,
          0.6596695954626813,
          0.9910976724296829,
          0.9900957319112359,
          0.8671525831231349,
          0.6957768372211914,
          0.8057506788506357,
          0.9537649254928909,
          0.9064049068336755,
          0.8050037258360321,
          0.9837787397782792,
          0.9150560930247003,
          0.6549014354607146,
          0.21070177581907967,
          0.21868061140455364,
          0.18260912608103352,
          0.29881548380930145,
          0.7000093237598984,
          0.6644404933777922,
          0.841630905087295,
          0.13298001432805895,
          0.4227041077462087,
          0.029555470772128833,
          0.3269512418017766,
          0.24845833239052784,
          0.954340747121856,
          0.03696493468461337,
          0.6867520349667054,
          0.49480099878059913,
          0.5630614310092866,
          0.8218103563401536,
          0.06835720927858457,
          0.39596199775331287,
          0.1281678605749128,
          0.497941958230229,
          0.11737862027614476,
          0.09964889828355161,
          0.29805410184544423,
          0.13346560263109264,
          0.3117099930163745,
          0.5763665136376658,
          0.42895363030575717,
          0.6620531225547741,
          0.1098561818147451,
          0.11060432360978456,
          0.6097200142091045,
          0.9763983999827875,
          0.9040873737050823,
          0.49665693646018216,
          0.7755389213974999,
          0.943011795408979,
          0.36827537187894355,
          0.7048208889410273,
          0.7333550437877117,
          0.9346993953328249
         ],
         "y0": " ",
         "yaxis": "y"
        }
       ],
       "layout": {
        "boxmode": "group",
        "legend": {
         "title": {
          "text": "Condition"
         },
         "tracegroupgap": 0
        },
        "template": {
         "data": {
          "bar": [
           {
            "error_x": {
             "color": "#2a3f5f"
            },
            "error_y": {
             "color": "#2a3f5f"
            },
            "marker": {
             "line": {
              "color": "#E5ECF6",
              "width": 0.5
             },
             "pattern": {
              "fillmode": "overlay",
              "size": 10,
              "solidity": 0.2
             }
            },
            "type": "bar"
           }
          ],
          "barpolar": [
           {
            "marker": {
             "line": {
              "color": "#E5ECF6",
              "width": 0.5
             },
             "pattern": {
              "fillmode": "overlay",
              "size": 10,
              "solidity": 0.2
             }
            },
            "type": "barpolar"
           }
          ],
          "carpet": [
           {
            "aaxis": {
             "endlinecolor": "#2a3f5f",
             "gridcolor": "white",
             "linecolor": "white",
             "minorgridcolor": "white",
             "startlinecolor": "#2a3f5f"
            },
            "baxis": {
             "endlinecolor": "#2a3f5f",
             "gridcolor": "white",
             "linecolor": "white",
             "minorgridcolor": "white",
             "startlinecolor": "#2a3f5f"
            },
            "type": "carpet"
           }
          ],
          "choropleth": [
           {
            "colorbar": {
             "outlinewidth": 0,
             "ticks": ""
            },
            "type": "choropleth"
           }
          ],
          "contour": [
           {
            "colorbar": {
             "outlinewidth": 0,
             "ticks": ""
            },
            "colorscale": [
             [
              0,
              "#0d0887"
             ],
             [
              0.1111111111111111,
              "#46039f"
             ],
             [
              0.2222222222222222,
              "#7201a8"
             ],
             [
              0.3333333333333333,
              "#9c179e"
             ],
             [
              0.4444444444444444,
              "#bd3786"
             ],
             [
              0.5555555555555556,
              "#d8576b"
             ],
             [
              0.6666666666666666,
              "#ed7953"
             ],
             [
              0.7777777777777778,
              "#fb9f3a"
             ],
             [
              0.8888888888888888,
              "#fdca26"
             ],
             [
              1,
              "#f0f921"
             ]
            ],
            "type": "contour"
           }
          ],
          "contourcarpet": [
           {
            "colorbar": {
             "outlinewidth": 0,
             "ticks": ""
            },
            "type": "contourcarpet"
           }
          ],
          "heatmap": [
           {
            "colorbar": {
             "outlinewidth": 0,
             "ticks": ""
            },
            "colorscale": [
             [
              0,
              "#0d0887"
             ],
             [
              0.1111111111111111,
              "#46039f"
             ],
             [
              0.2222222222222222,
              "#7201a8"
             ],
             [
              0.3333333333333333,
              "#9c179e"
             ],
             [
              0.4444444444444444,
              "#bd3786"
             ],
             [
              0.5555555555555556,
              "#d8576b"
             ],
             [
              0.6666666666666666,
              "#ed7953"
             ],
             [
              0.7777777777777778,
              "#fb9f3a"
             ],
             [
              0.8888888888888888,
              "#fdca26"
             ],
             [
              1,
              "#f0f921"
             ]
            ],
            "type": "heatmap"
           }
          ],
          "heatmapgl": [
           {
            "colorbar": {
             "outlinewidth": 0,
             "ticks": ""
            },
            "colorscale": [
             [
              0,
              "#0d0887"
             ],
             [
              0.1111111111111111,
              "#46039f"
             ],
             [
              0.2222222222222222,
              "#7201a8"
             ],
             [
              0.3333333333333333,
              "#9c179e"
             ],
             [
              0.4444444444444444,
              "#bd3786"
             ],
             [
              0.5555555555555556,
              "#d8576b"
             ],
             [
              0.6666666666666666,
              "#ed7953"
             ],
             [
              0.7777777777777778,
              "#fb9f3a"
             ],
             [
              0.8888888888888888,
              "#fdca26"
             ],
             [
              1,
              "#f0f921"
             ]
            ],
            "type": "heatmapgl"
           }
          ],
          "histogram": [
           {
            "marker": {
             "pattern": {
              "fillmode": "overlay",
              "size": 10,
              "solidity": 0.2
             }
            },
            "type": "histogram"
           }
          ],
          "histogram2d": [
           {
            "colorbar": {
             "outlinewidth": 0,
             "ticks": ""
            },
            "colorscale": [
             [
              0,
              "#0d0887"
             ],
             [
              0.1111111111111111,
              "#46039f"
             ],
             [
              0.2222222222222222,
              "#7201a8"
             ],
             [
              0.3333333333333333,
              "#9c179e"
             ],
             [
              0.4444444444444444,
              "#bd3786"
             ],
             [
              0.5555555555555556,
              "#d8576b"
             ],
             [
              0.6666666666666666,
              "#ed7953"
             ],
             [
              0.7777777777777778,
              "#fb9f3a"
             ],
             [
              0.8888888888888888,
              "#fdca26"
             ],
             [
              1,
              "#f0f921"
             ]
            ],
            "type": "histogram2d"
           }
          ],
          "histogram2dcontour": [
           {
            "colorbar": {
             "outlinewidth": 0,
             "ticks": ""
            },
            "colorscale": [
             [
              0,
              "#0d0887"
             ],
             [
              0.1111111111111111,
              "#46039f"
             ],
             [
              0.2222222222222222,
              "#7201a8"
             ],
             [
              0.3333333333333333,
              "#9c179e"
             ],
             [
              0.4444444444444444,
              "#bd3786"
             ],
             [
              0.5555555555555556,
              "#d8576b"
             ],
             [
              0.6666666666666666,
              "#ed7953"
             ],
             [
              0.7777777777777778,
              "#fb9f3a"
             ],
             [
              0.8888888888888888,
              "#fdca26"
             ],
             [
              1,
              "#f0f921"
             ]
            ],
            "type": "histogram2dcontour"
           }
          ],
          "mesh3d": [
           {
            "colorbar": {
             "outlinewidth": 0,
             "ticks": ""
            },
            "type": "mesh3d"
           }
          ],
          "parcoords": [
           {
            "line": {
             "colorbar": {
              "outlinewidth": 0,
              "ticks": ""
             }
            },
            "type": "parcoords"
           }
          ],
          "pie": [
           {
            "automargin": true,
            "type": "pie"
           }
          ],
          "scatter": [
           {
            "fillpattern": {
             "fillmode": "overlay",
             "size": 10,
             "solidity": 0.2
            },
            "type": "scatter"
           }
          ],
          "scatter3d": [
           {
            "line": {
             "colorbar": {
              "outlinewidth": 0,
              "ticks": ""
             }
            },
            "marker": {
             "colorbar": {
              "outlinewidth": 0,
              "ticks": ""
             }
            },
            "type": "scatter3d"
           }
          ],
          "scattercarpet": [
           {
            "marker": {
             "colorbar": {
              "outlinewidth": 0,
              "ticks": ""
             }
            },
            "type": "scattercarpet"
           }
          ],
          "scattergeo": [
           {
            "marker": {
             "colorbar": {
              "outlinewidth": 0,
              "ticks": ""
             }
            },
            "type": "scattergeo"
           }
          ],
          "scattergl": [
           {
            "marker": {
             "colorbar": {
              "outlinewidth": 0,
              "ticks": ""
             }
            },
            "type": "scattergl"
           }
          ],
          "scattermapbox": [
           {
            "marker": {
             "colorbar": {
              "outlinewidth": 0,
              "ticks": ""
             }
            },
            "type": "scattermapbox"
           }
          ],
          "scatterpolar": [
           {
            "marker": {
             "colorbar": {
              "outlinewidth": 0,
              "ticks": ""
             }
            },
            "type": "scatterpolar"
           }
          ],
          "scatterpolargl": [
           {
            "marker": {
             "colorbar": {
              "outlinewidth": 0,
              "ticks": ""
             }
            },
            "type": "scatterpolargl"
           }
          ],
          "scatterternary": [
           {
            "marker": {
             "colorbar": {
              "outlinewidth": 0,
              "ticks": ""
             }
            },
            "type": "scatterternary"
           }
          ],
          "surface": [
           {
            "colorbar": {
             "outlinewidth": 0,
             "ticks": ""
            },
            "colorscale": [
             [
              0,
              "#0d0887"
             ],
             [
              0.1111111111111111,
              "#46039f"
             ],
             [
              0.2222222222222222,
              "#7201a8"
             ],
             [
              0.3333333333333333,
              "#9c179e"
             ],
             [
              0.4444444444444444,
              "#bd3786"
             ],
             [
              0.5555555555555556,
              "#d8576b"
             ],
             [
              0.6666666666666666,
              "#ed7953"
             ],
             [
              0.7777777777777778,
              "#fb9f3a"
             ],
             [
              0.8888888888888888,
              "#fdca26"
             ],
             [
              1,
              "#f0f921"
             ]
            ],
            "type": "surface"
           }
          ],
          "table": [
           {
            "cells": {
             "fill": {
              "color": "#EBF0F8"
             },
             "line": {
              "color": "white"
             }
            },
            "header": {
             "fill": {
              "color": "#C8D4E3"
             },
             "line": {
              "color": "white"
             }
            },
            "type": "table"
           }
          ]
         },
         "layout": {
          "annotationdefaults": {
           "arrowcolor": "#2a3f5f",
           "arrowhead": 0,
           "arrowwidth": 1
          },
          "autotypenumbers": "strict",
          "coloraxis": {
           "colorbar": {
            "outlinewidth": 0,
            "ticks": ""
           }
          },
          "colorscale": {
           "diverging": [
            [
             0,
             "#8e0152"
            ],
            [
             0.1,
             "#c51b7d"
            ],
            [
             0.2,
             "#de77ae"
            ],
            [
             0.3,
             "#f1b6da"
            ],
            [
             0.4,
             "#fde0ef"
            ],
            [
             0.5,
             "#f7f7f7"
            ],
            [
             0.6,
             "#e6f5d0"
            ],
            [
             0.7,
             "#b8e186"
            ],
            [
             0.8,
             "#7fbc41"
            ],
            [
             0.9,
             "#4d9221"
            ],
            [
             1,
             "#276419"
            ]
           ],
           "sequential": [
            [
             0,
             "#0d0887"
            ],
            [
             0.1111111111111111,
             "#46039f"
            ],
            [
             0.2222222222222222,
             "#7201a8"
            ],
            [
             0.3333333333333333,
             "#9c179e"
            ],
            [
             0.4444444444444444,
             "#bd3786"
            ],
            [
             0.5555555555555556,
             "#d8576b"
            ],
            [
             0.6666666666666666,
             "#ed7953"
            ],
            [
             0.7777777777777778,
             "#fb9f3a"
            ],
            [
             0.8888888888888888,
             "#fdca26"
            ],
            [
             1,
             "#f0f921"
            ]
           ],
           "sequentialminus": [
            [
             0,
             "#0d0887"
            ],
            [
             0.1111111111111111,
             "#46039f"
            ],
            [
             0.2222222222222222,
             "#7201a8"
            ],
            [
             0.3333333333333333,
             "#9c179e"
            ],
            [
             0.4444444444444444,
             "#bd3786"
            ],
            [
             0.5555555555555556,
             "#d8576b"
            ],
            [
             0.6666666666666666,
             "#ed7953"
            ],
            [
             0.7777777777777778,
             "#fb9f3a"
            ],
            [
             0.8888888888888888,
             "#fdca26"
            ],
            [
             1,
             "#f0f921"
            ]
           ]
          },
          "colorway": [
           "#636efa",
           "#EF553B",
           "#00cc96",
           "#ab63fa",
           "#FFA15A",
           "#19d3f3",
           "#FF6692",
           "#B6E880",
           "#FF97FF",
           "#FECB52"
          ],
          "font": {
           "color": "#2a3f5f"
          },
          "geo": {
           "bgcolor": "white",
           "lakecolor": "white",
           "landcolor": "#E5ECF6",
           "showlakes": true,
           "showland": true,
           "subunitcolor": "white"
          },
          "hoverlabel": {
           "align": "left"
          },
          "hovermode": "closest",
          "mapbox": {
           "style": "light"
          },
          "paper_bgcolor": "white",
          "plot_bgcolor": "#E5ECF6",
          "polar": {
           "angularaxis": {
            "gridcolor": "white",
            "linecolor": "white",
            "ticks": ""
           },
           "bgcolor": "#E5ECF6",
           "radialaxis": {
            "gridcolor": "white",
            "linecolor": "white",
            "ticks": ""
           }
          },
          "scene": {
           "xaxis": {
            "backgroundcolor": "#E5ECF6",
            "gridcolor": "white",
            "gridwidth": 2,
            "linecolor": "white",
            "showbackground": true,
            "ticks": "",
            "zerolinecolor": "white"
           },
           "yaxis": {
            "backgroundcolor": "#E5ECF6",
            "gridcolor": "white",
            "gridwidth": 2,
            "linecolor": "white",
            "showbackground": true,
            "ticks": "",
            "zerolinecolor": "white"
           },
           "zaxis": {
            "backgroundcolor": "#E5ECF6",
            "gridcolor": "white",
            "gridwidth": 2,
            "linecolor": "white",
            "showbackground": true,
            "ticks": "",
            "zerolinecolor": "white"
           }
          },
          "shapedefaults": {
           "line": {
            "color": "#2a3f5f"
           }
          },
          "ternary": {
           "aaxis": {
            "gridcolor": "white",
            "linecolor": "white",
            "ticks": ""
           },
           "baxis": {
            "gridcolor": "white",
            "linecolor": "white",
            "ticks": ""
           },
           "bgcolor": "#E5ECF6",
           "caxis": {
            "gridcolor": "white",
            "linecolor": "white",
            "ticks": ""
           }
          },
          "title": {
           "x": 0.05
          },
          "xaxis": {
           "automargin": true,
           "gridcolor": "white",
           "linecolor": "white",
           "ticks": "",
           "title": {
            "standoff": 15
           },
           "zerolinecolor": "white",
           "zerolinewidth": 2
          },
          "yaxis": {
           "automargin": true,
           "gridcolor": "white",
           "linecolor": "white",
           "ticks": "",
           "title": {
            "standoff": 15
           },
           "zerolinecolor": "white",
           "zerolinewidth": 2
          }
         }
        },
        "title": {
         "text": "Expression Levels of Top 10 Differentially Expressed Genes (Box Plot)"
        },
        "xaxis": {
         "anchor": "y",
         "domain": [
          0,
          1
         ],
         "title": {
          "text": "Genes"
         }
        },
        "yaxis": {
         "anchor": "x",
         "domain": [
          0,
          1
         ],
         "title": {
          "text": "Expression Level"
         }
        }
       }
      },
      "image/png": "[encoded data removed]",
      "text/html": [
       "<div>                            <div id=\"f7595ea4-c692-472a-bb1d-205eb51a208c\" class=\"plotly-graph-div\" style=\"height:525px; width:100%;\"></div>            <script type=\"text/javascript\">                require([\"plotly\"], function(Plotly) {                    window.PLOTLYENV=window.PLOTLYENV || {};                                    if (document.getElementById(\"f7595ea4-c692-472a-bb1d-205eb51a208c\")) {                    Plotly.newPlot(                        \"f7595ea4-c692-472a-bb1d-205eb51a208c\",                        [{\"alignmentgroup\":\"True\",\"hovertemplate\":\"Condition=Condition_A\\u003cbr\\u003eGenes=%{x}\\u003cbr\\u003eExpression Level=%{y}\\u003cextra\\u003e\\u003c\\u002fextra\\u003e\",\"legendgroup\":\"Condition_A\",\"marker\":{\"color\":\"#636efa\"},\"name\":\"Condition_A\",\"notched\":false,\"offsetgroup\":\"Condition_A\",\"orientation\":\"v\",\"showlegend\":true,\"x\":[\"Gene_725\",\"Gene_725\",\"Gene_725\",\"Gene_725\",\"Gene_725\",\"Gene_725\",\"Gene_725\",\"Gene_725\",\"Gene_725\",\"Gene_725\",\"Gene_776\",\"Gene_776\",\"Gene_776\",\"Gene_776\",\"Gene_776\",\"Gene_776\",\"Gene_776\",\"Gene_776\",\"Gene_776\",\"Gene_776\",\"Gene_344\",\"Gene_344\",\"Gene_344\",\"Gene_344\",\"Gene_344\",\"Gene_344\",\"Gene_344\",\"Gene_344\",\"Gene_344\",\"Gene_344\",\"Gene_331\",\"Gene_331\",\"Gene_331\",\"Gene_331\",\"Gene_331\",\"Gene_331\",\"Gene_331\",\"Gene_331\",\"Gene_331\",\"Gene_331\",\"Gene_239\",\"Gene_239\",\"Gene_239\",\"Gene_239\",\"Gene_239\",\"Gene_239\",\"Gene_239\",\"Gene_239\",\"Gene_239\",\"Gene_239\",\"Gene_978\",\"Gene_978\",\"Gene_978\",\"Gene_978\",\"Gene_978\",\"Gene_978\",\"Gene_978\",\"Gene_978\",\"Gene_978\",\"Gene_978\",\"Gene_95\",\"Gene_95\",\"Gene_95\",\"Gene_95\",\"Gene_95\",\"Gene_95\",\"Gene_95\",\"Gene_95\",\"Gene_95\",\"Gene_95\",\"Gene_25\",\"Gene_25\",\"Gene_25\",\"Gene_25\",\"Gene_25\",\"Gene_25\",\"Gene_25\",\"Gene_25\",\"Gene_25\",\"Gene_25\",\"Gene_263\",\"Gene_263\",\"Gene_263\",\"Gene_263\",\"Gene_263\",\"Gene_263\",\"Gene_263\",\"Gene_263\",\"Gene_263\",\"Gene_263\",\"Gene_308\",\"Gene_308\",\"Gene_308\",\"Gene_308\",\"Gene_308\",\"Gene_308\",\"Gene_308\",\"Gene_308\",\"Gene_308\",\"Gene_308\"],\"x0\":\" \",\"xaxis\":\"x\",\"y\":[0.39254497164009516,0.2755321395382827,0.10231300586318948,0.6207921174675668,0.07606403241382576,0.01200670430720252,0.6521893962869374,0.3216384523361763,0.4866491389079237,0.5751665993180094,0.952018906230385,0.9343225361812315,0.47599996146493107,0.6688482649722949,0.956910186291962,0.9228354088223966,0.9136746066668257,0.8289808722338013,0.9945830810071098,0.21078062166347789,0.8491923749024661,0.7232409187626135,0.5857555184110274,0.805925503595685,0.44522819401434,0.9442322288749387,0.931954494754723,0.4441677214141485,0.9595640816872202,0.948107420008448,0.6171206516909342,0.8987055879029251,0.7620837031366711,0.7649254356012449,0.8387958179820131,0.08585092131997218,0.8126227582159002,0.3956239303715796,0.805146135964096,0.8028315107583813,0.5105921385014859,0.025893362356002037,0.4749129951626486,0.44595994861588506,0.3906003382086203,0.033561409874165005,0.29888751726074736,0.8993886582257381,0.5236856293216485,0.5508889066501368,0.45223513922659886,0.5689348073175415,0.5743555698842366,0.39504119024953543,0.6854283729696925,0.19516285819951518,0.4835316052374852,0.05580448143764827,0.029589928821700195,0.4501343303146478,0.6795007338587836,0.5580955162675876,0.7099523382877293,0.36541057496419127,0.9892422222629899,0.9288784211735198,0.7591571772344237,0.29923061399339,0.8612954083768701,0.9047636992141642,0.9908931375101785,0.9619954409342755,0.848182331813771,0.993823526520047,0.8726336647866166,0.8508244942118656,0.9558003460849177,0.10442793472189027,0.960709037379343,0.7269565642444197,0.8346182814418005,0.5266503480214249,0.9254798656843751,0.5669468755588807,0.23667444350981526,0.9199020755996832,0.5237137753615151,0.9772886245327675,0.13928396230702111,0.3932948440437103,0.375798341052789,0.5892213992512327,0.25720470191706146,0.24054472457120502,0.6832646467614544,0.9084168820145245,0.5726515309505794,0.1445217817109281,0.3148046349996737,0.6283951072433238],\"y0\":\" \",\"yaxis\":\"y\",\"type\":\"box\"},{\"alignmentgroup\":\"True\",\"hovertemplate\":\"Condition=Condition_B\\u003cbr\\u003eGenes=%{x}\\u003cbr\\u003eExpression Level=%{y}\\u003cextra\\u003e\\u003c\\u002fextra\\u003e\",\"legendgroup\":\"Condition_B\",\"marker\":{\"color\":\"#EF553B\"},\"name\":\"Condition_B\",\"notched\":false,\"offsetgroup\":\"Condition_B\",\"orientation\":\"v\",\"showlegend\":true,\"x\":[\"Gene_725\",\"Gene_725\",\"Gene_725\",\"Gene_725\",\"Gene_725\",\"Gene_725\",\"Gene_725\",\"Gene_725\",\"Gene_725\",\"Gene_725\",\"Gene_776\",\"Gene_776\",\"Gene_776\",\"Gene_776\",\"Gene_776\",\"Gene_776\",\"Gene_776\",\"Gene_776\",\"Gene_776\",\"Gene_776\",\"Gene_344\",\"Gene_344\",\"Gene_344\",\"Gene_344\",\"Gene_344\",\"Gene_344\",\"Gene_344\",\"Gene_344\",\"Gene_344\",\"Gene_344\",\"Gene_331\",\"Gene_331\",\"Gene_331\",\"Gene_331\",\"Gene_331\",\"Gene_331\",\"Gene_331\",\"Gene_331\",\"Gene_331\",\"Gene_331\",\"Gene_239\",\"Gene_239\",\"Gene_239\",\"Gene_239\",\"Gene_239\",\"Gene_239\",\"Gene_239\",\"Gene_239\",\"Gene_239\",\"Gene_239\",\"Gene_978\",\"Gene_978\",\"Gene_978\",\"Gene_978\",\"Gene_978\",\"Gene_978\",\"Gene_978\",\"Gene_978\",\"Gene_978\",\"Gene_978\",\"Gene_95\",\"Gene_95\",\"Gene_95\",\"Gene_95\",\"Gene_95\",\"Gene_95\",\"Gene_95\",\"Gene_95\",\"Gene_95\",\"Gene_95\",\"Gene_25\",\"Gene_25\",\"Gene_25\",\"Gene_25\",\"Gene_25\",\"Gene_25\",\"Gene_25\",\"Gene_25\",\"Gene_25\",\"Gene_25\",\"Gene_263\",\"Gene_263\",\"Gene_263\",\"Gene_263\",\"Gene_263\",\"Gene_263\",\"Gene_263\",\"Gene_263\",\"Gene_263\",\"Gene_263\",\"Gene_308\",\"Gene_308\",\"Gene_308\",\"Gene_308\",\"Gene_308\",\"Gene_308\",\"Gene_308\",\"Gene_308\",\"Gene_308\",\"Gene_308\"],\"x0\":\" \",\"xaxis\":\"x\",\"y\":[0.9070387881599404,0.9321660140457873,0.8021994732341492,0.9099458427753283,0.8184801376365471,0.3574695123163836,0.9895298684806616,0.6338731979361077,0.603098860707498,0.526902503544889,0.3115584132421054,0.13379440756161654,0.793269698492653,0.08764699621998384,0.2806827760042985,0.2493050850778784,0.2681448550903336,0.31353252247883756,0.8376776015784444,0.029599067564669568,0.8222851224549604,0.24825047166533587,0.14819703707584564,0.7469587105980133,0.048584716902474234,0.09305118787675604,0.056586546921610026,0.16312928948465322,0.7489116037973207,0.39768728217601435,0.7705145596616156,0.5414596809073914,0.09626353230067808,0.09840553306084876,0.520951614484455,0.20530546150878504,0.1681171389408428,0.21519609601605227,0.4533242335283102,0.09928484929265569,0.987133114446177,0.7979041995900927,0.38800136423984755,0.48218321712005785,0.5825070035611185,0.9284696324294881,0.6596695954626813,0.9910976724296829,0.9900957319112359,0.8671525831231349,0.6957768372211914,0.8057506788506357,0.9537649254928909,0.9064049068336755,0.8050037258360321,0.9837787397782792,0.9150560930247003,0.6549014354607146,0.21070177581907967,0.21868061140455364,0.18260912608103352,0.29881548380930145,0.7000093237598984,0.6644404933777922,0.841630905087295,0.13298001432805895,0.4227041077462087,0.029555470772128833,0.3269512418017766,0.24845833239052784,0.954340747121856,0.03696493468461337,0.6867520349667054,0.49480099878059913,0.5630614310092866,0.8218103563401536,0.06835720927858457,0.39596199775331287,0.1281678605749128,0.497941958230229,0.11737862027614476,0.09964889828355161,0.29805410184544423,0.13346560263109264,0.3117099930163745,0.5763665136376658,0.42895363030575717,0.6620531225547741,0.1098561818147451,0.11060432360978456,0.6097200142091045,0.9763983999827875,0.9040873737050823,0.49665693646018216,0.7755389213974999,0.943011795408979,0.36827537187894355,0.7048208889410273,0.7333550437877117,0.9346993953328249],\"y0\":\" \",\"yaxis\":\"y\",\"type\":\"box\"}],                        {\"template\":{\"data\":{\"histogram2dcontour\":[{\"type\":\"histogram2dcontour\",\"colorbar\":{\"outlinewidth\":0,\"ticks\":\"\"},\"colorscale\":[[0.0,\"#0d0887\"],[0.1111111111111111,\"#46039f\"],[0.2222222222222222,\"#7201a8\"],[0.3333333333333333,\"#9c179e\"],[0.4444444444444444,\"#bd3786\"],[0.5555555555555556,\"#d8576b\"],[0.6666666666666666,\"#ed7953\"],[0.7777777777777778,\"#fb9f3a\"],[0.8888888888888888,\"#fdca26\"],[1.0,\"#f0f921\"]]}],\"choropleth\":[{\"type\":\"choropleth\",\"colorbar\":{\"outlinewidth\":0,\"ticks\":\"\"}}],\"histogram2d\":[{\"type\":\"histogram2d\",\"colorbar\":{\"outlinewidth\":0,\"ticks\":\"\"},\"colorscale\":[[0.0,\"#0d0887\"],[0.1111111111111111,\"#46039f\"],[0.2222222222222222,\"#7201a8\"],[0.3333333333333333,\"#9c179e\"],[0.4444444444444444,\"#bd3786\"],[0.5555555555555556,\"#d8576b\"],[0.6666666666666666,\"#ed7953\"],[0.7777777777777778,\"#fb9f3a\"],[0.8888888888888888,\"#fdca26\"],[1.0,\"#f0f921\"]]}],\"heatmap\":[{\"type\":\"heatmap\",\"colorbar\":{\"outlinewidth\":0,\"ticks\":\"\"},\"colorscale\":[[0.0,\"#0d0887\"],[0.1111111111111111,\"#46039f\"],[0.2222222222222222,\"#7201a8\"],[0.3333333333333333,\"#9c179e\"],[0.4444444444444444,\"#bd3786\"],[0.5555555555555556,\"#d8576b\"],[0.6666666666666666,\"#ed7953\"],[0.7777777777777778,\"#fb9f3a\"],[0.8888888888888888,\"#fdca26\"],[1.0,\"#f0f921\"]]}],\"heatmapgl\":[{\"type\":\"heatmapgl\",\"colorbar\":{\"outlinewidth\":0,\"ticks\":\"\"},\"colorscale\":[[0.0,\"#0d0887\"],[0.1111111111111111,\"#46039f\"],[0.2222222222222222,\"#7201a8\"],[0.3333333333333333,\"#9c179e\"],[0.4444444444444444,\"#bd3786\"],[0.5555555555555556,\"#d8576b\"],[0.6666666666666666,\"#ed7953\"],[0.7777777777777778,\"#fb9f3a\"],[0.8888888888888888,\"#fdca26\"],[1.0,\"#f0f921\"]]}],\"contourcarpet\":[{\"type\":\"contourcarpet\",\"colorbar\":{\"outlinewidth\":0,\"ticks\":\"\"}}],\"contour\":[{\"type\":\"contour\",\"colorbar\":{\"outlinewidth\":0,\"ticks\":\"\"},\"colorscale\":[[0.0,\"#0d0887\"],[0.1111111111111111,\"#46039f\"],[0.2222222222222222,\"#7201a8\"],[0.3333333333333333,\"#9c179e\"],[0.4444444444444444,\"#bd3786\"],[0.5555555555555556,\"#d8576b\"],[0.6666666666666666,\"#ed7953\"],[0.7777777777777778,\"#fb9f3a\"],[0.8888888888888888,\"#fdca26\"],[1.0,\"#f0f921\"]]}],\"surface\":[{\"type\":\"surface\",\"colorbar\":{\"outlinewidth\":0,\"ticks\":\"\"},\"colorscale\":[[0.0,\"#0d0887\"],[0.1111111111111111,\"#46039f\"],[0.2222222222222222,\"#7201a8\"],[0.3333333333333333,\"#9c179e\"],[0.4444444444444444,\"#bd3786\"],[0.5555555555555556,\"#d8576b\"],[0.6666666666666666,\"#ed7953\"],[0.7777777777777778,\"#fb9f3a\"],[0.8888888888888888,\"#fdca26\"],[1.0,\"#f0f921\"]]}],\"mesh3d\":[{\"type\":\"mesh3d\",\"colorbar\":{\"outlinewidth\":0,\"ticks\":\"\"}}],\"scatter\":[{\"fillpattern\":{\"fillmode\":\"overlay\",\"size\":10,\"solidity\":0.2},\"type\":\"scatter\"}],\"parcoords\":[{\"type\":\"parcoords\",\"line\":{\"colorbar\":{\"outlinewidth\":0,\"ticks\":\"\"}}}],\"scatterpolargl\":[{\"type\":\"scatterpolargl\",\"marker\":{\"colorbar\":{\"outlinewidth\":0,\"ticks\":\"\"}}}],\"bar\":[{\"error_x\":{\"color\":\"#2a3f5f\"},\"error_y\":{\"color\":\"#2a3f5f\"},\"marker\":{\"line\":{\"color\":\"#E5ECF6\",\"width\":0.5},\"pattern\":{\"fillmode\":\"overlay\",\"size\":10,\"solidity\":0.2}},\"type\":\"bar\"}],\"scattergeo\":[{\"type\":\"scattergeo\",\"marker\":{\"colorbar\":{\"outlinewidth\":0,\"ticks\":\"\"}}}],\"scatterpolar\":[{\"type\":\"scatterpolar\",\"marker\":{\"colorbar\":{\"outlinewidth\":0,\"ticks\":\"\"}}}],\"histogram\":[{\"marker\":{\"pattern\":{\"fillmode\":\"overlay\",\"size\":10,\"solidity\":0.2}},\"type\":\"histogram\"}],\"scattergl\":[{\"type\":\"scattergl\",\"marker\":{\"colorbar\":{\"outlinewidth\":0,\"ticks\":\"\"}}}],\"scatter3d\":[{\"type\":\"scatter3d\",\"line\":{\"colorbar\":{\"outlinewidth\":0,\"ticks\":\"\"}},\"marker\":{\"colorbar\":{\"outlinewidth\":0,\"ticks\":\"\"}}}],\"scattermapbox\":[{\"type\":\"scattermapbox\",\"marker\":{\"colorbar\":{\"outlinewidth\":0,\"ticks\":\"\"}}}],\"scatterternary\":[{\"type\":\"scatterternary\",\"marker\":{\"colorbar\":{\"outlinewidth\":0,\"ticks\":\"\"}}}],\"scattercarpet\":[{\"type\":\"scattercarpet\",\"marker\":{\"colorbar\":{\"outlinewidth\":0,\"ticks\":\"\"}}}],\"carpet\":[{\"aaxis\":{\"endlinecolor\":\"#2a3f5f\",\"gridcolor\":\"white\",\"linecolor\":\"white\",\"minorgridcolor\":\"white\",\"startlinecolor\":\"#2a3f5f\"},\"baxis\":{\"endlinecolor\":\"#2a3f5f\",\"gridcolor\":\"white\",\"linecolor\":\"white\",\"minorgridcolor\":\"white\",\"startlinecolor\":\"#2a3f5f\"},\"type\":\"carpet\"}],\"table\":[{\"cells\":{\"fill\":{\"color\":\"#EBF0F8\"},\"line\":{\"color\":\"white\"}},\"header\":{\"fill\":{\"color\":\"#C8D4E3\"},\"line\":{\"color\":\"white\"}},\"type\":\"table\"}],\"barpolar\":[{\"marker\":{\"line\":{\"color\":\"#E5ECF6\",\"width\":0.5},\"pattern\":{\"fillmode\":\"overlay\",\"size\":10,\"solidity\":0.2}},\"type\":\"barpolar\"}],\"pie\":[{\"automargin\":true,\"type\":\"pie\"}]},\"layout\":{\"autotypenumbers\":\"strict\",\"colorway\":[\"#636efa\",\"#EF553B\",\"#00cc96\",\"#ab63fa\",\"#FFA15A\",\"#19d3f3\",\"#FF6692\",\"#B6E880\",\"#FF97FF\",\"#FECB52\"],\"font\":{\"color\":\"#2a3f5f\"},\"hovermode\":\"closest\",\"hoverlabel\":{\"align\":\"left\"},\"paper_bgcolor\":\"white\",\"plot_bgcolor\":\"#E5ECF6\",\"polar\":{\"bgcolor\":\"#E5ECF6\",\"angularaxis\":{\"gridcolor\":\"white\",\"linecolor\":\"white\",\"ticks\":\"\"},\"radialaxis\":{\"gridcolor\":\"white\",\"linecolor\":\"white\",\"ticks\":\"\"}},\"ternary\":{\"bgcolor\":\"#E5ECF6\",\"aaxis\":{\"gridcolor\":\"white\",\"linecolor\":\"white\",\"ticks\":\"\"},\"baxis\":{\"gridcolor\":\"white\",\"linecolor\":\"white\",\"ticks\":\"\"},\"caxis\":{\"gridcolor\":\"white\",\"linecolor\":\"white\",\"ticks\":\"\"}},\"coloraxis\":{\"colorbar\":{\"outlinewidth\":0,\"ticks\":\"\"}},\"colorscale\":{\"sequential\":[[0.0,\"#0d0887\"],[0.1111111111111111,\"#46039f\"],[0.2222222222222222,\"#7201a8\"],[0.3333333333333333,\"#9c179e\"],[0.4444444444444444,\"#bd3786\"],[0.5555555555555556,\"#d8576b\"],[0.6666666666666666,\"#ed7953\"],[0.7777777777777778,\"#fb9f3a\"],[0.8888888888888888,\"#fdca26\"],[1.0,\"#f0f921\"]],\"sequentialminus\":[[0.0,\"#0d0887\"],[0.1111111111111111,\"#46039f\"],[0.2222222222222222,\"#7201a8\"],[0.3333333333333333,\"#9c179e\"],[0.4444444444444444,\"#bd3786\"],[0.5555555555555556,\"#d8576b\"],[0.6666666666666666,\"#ed7953\"],[0.7777777777777778,\"#fb9f3a\"],[0.8888888888888888,\"#fdca26\"],[1.0,\"#f0f921\"]],\"diverging\":[[0,\"#8e0152\"],[0.1,\"#c51b7d\"],[0.2,\"#de77ae\"],[0.3,\"#f1b6da\"],[0.4,\"#fde0ef\"],[0.5,\"#f7f7f7\"],[0.6,\"#e6f5d0\"],[0.7,\"#b8e186\"],[0.8,\"#7fbc41\"],[0.9,\"#4d9221\"],[1,\"#276419\"]]},\"xaxis\":{\"gridcolor\":\"white\",\"linecolor\":\"white\",\"ticks\":\"\",\"title\":{\"standoff\":15},\"zerolinecolor\":\"white\",\"automargin\":true,\"zerolinewidth\":2},\"yaxis\":{\"gridcolor\":\"white\",\"linecolor\":\"white\",\"ticks\":\"\",\"title\":{\"standoff\":15},\"zerolinecolor\":\"white\",\"automargin\":true,\"zerolinewidth\":2},\"scene\":{\"xaxis\":{\"backgroundcolor\":\"#E5ECF6\",\"gridcolor\":\"white\",\"linecolor\":\"white\",\"showbackground\":true,\"ticks\":\"\",\"zerolinecolor\":\"white\",\"gridwidth\":2},\"yaxis\":{\"backgroundcolor\":\"#E5ECF6\",\"gridcolor\":\"white\",\"linecolor\":\"white\",\"showbackground\":true,\"ticks\":\"\",\"zerolinecolor\":\"white\",\"gridwidth\":2},\"zaxis\":{\"backgroundcolor\":\"#E5ECF6\",\"gridcolor\":\"white\",\"linecolor\":\"white\",\"showbackground\":true,\"ticks\":\"\",\"zerolinecolor\":\"white\",\"gridwidth\":2}},\"shapedefaults\":{\"line\":{\"color\":\"#2a3f5f\"}},\"annotationdefaults\":{\"arrowcolor\":\"#2a3f5f\",\"arrowhead\":0,\"arrowwidth\":1},\"geo\":{\"bgcolor\":\"white\",\"landcolor\":\"#E5ECF6\",\"subunitcolor\":\"white\",\"showland\":true,\"showlakes\":true,\"lakecolor\":\"white\"},\"title\":{\"x\":0.05},\"mapbox\":{\"style\":\"light\"}}},\"xaxis\":{\"anchor\":\"y\",\"domain\":[0.0,1.0],\"title\":{\"text\":\"Genes\"}},\"yaxis\":{\"anchor\":\"x\",\"domain\":[0.0,1.0],\"title\":{\"text\":\"Expression Level\"}},\"legend\":{\"title\":{\"text\":\"Condition\"},\"tracegroupgap\":0},\"title\":{\"text\":\"Expression Levels of Top 10 Differentially Expressed Genes (Box Plot)\"},\"boxmode\":\"group\"},                        {\"responsive\": true}                    ).then(function(){\n",
       "                            \n",
       "var gd = document.getElementById('f7595ea4-c692-472a-bb1d-205eb51a208c');\n",
       "var x = new MutationObserver(function (mutations, observer) {{\n",
       "        var display = window.getComputedStyle(gd).display;\n",
       "        if (!display || display === 'none') {{\n",
       "            console.log([gd, 'removed!']);\n",
       "            Plotly.purge(gd);\n",
       "            observer.disconnect();\n",
       "        }}\n",
       "}});\n",
       "\n",
       "// Listen for the removal of the full notebook cells\n",
       "var notebookContainer = gd.closest('#notebook-container');\n",
       "if (notebookContainer) {{\n",
       "    x.observe(notebookContainer, {childList: true});\n",
       "}}\n",
       "\n",
       "// Listen for the clearing of the current output cell\n",
       "var outputEl = gd.closest('.output');\n",
       "if (outputEl) {{\n",
       "    x.observe(outputEl, {childList: true});\n",
       "}}\n",
       "\n",
       "                        })                };                });            </script>        </div>"
      ]
     },
     "metadata": {},
     "output_type": "display_data"
    }
   ],
   "source": [
    "import plotly.express as px\n",
    "\n",
    "# Assuming `top_10_genes` and `df_transposed` are available from previous steps\n",
    "\n",
    "# Select the top 10 differentially expressed genes\n",
    "top_genes = top_10_genes['Gene'].tolist()\n",
    "\n",
    "# Filter the original data for the top 10 genes\n",
    "top_genes_data = df_transposed[top_genes].copy()\n",
    "top_genes_data['Condition'] = df_transposed['Condition']\n",
    "\n",
    "# Melt the data for plotting\n",
    "top_genes_melted = top_genes_data.melt(\n",
    "    id_vars=['Condition'], \n",
    "    var_name='Gene', \n",
    "    value_name='Expression_Level'\n",
    ")\n",
    "\n",
    "# Create a box plot\n",
    "fig = px.box(\n",
    "    top_genes_melted,\n",
    "    x='Gene',\n",
    "    y='Expression_Level',\n",
    "    color='Condition',\n",
    "    title='Expression Levels of Top 10 Differentially Expressed Genes (Box Plot)',\n",
    "    labels={'Expression_Level': 'Expression Level', 'Gene': 'Genes'}\n",
    ")\n",
    "\n",
    "# Show the plot\n",
    "fig.show()\n",
    "\n"
   ]
  },
  {
   "cell_type": "code",
   "execution_count": null,
   "id": "28efeb7d-5a7f-4e6f-95bc-8d6e6beeb00a",
   "metadata": {},
   "outputs": [],
   "source": []
  }
 ],
 "metadata": {
  "kernelspec": {
   "display_name": "Python 3 (ipykernel)",
   "language": "python",
   "name": "python3"
  },
  "language_info": {
   "codemirror_mode": {
    "name": "ipython",
    "version": 3
   },
   "file_extension": ".py",
   "mimetype": "text/x-python",
   "name": "python",
   "nbconvert_exporter": "python",
   "pygments_lexer": "ipython3",
   "version": "3.12.2"
  }
 },
 "nbformat": 4,
 "nbformat_minor": 5
}
